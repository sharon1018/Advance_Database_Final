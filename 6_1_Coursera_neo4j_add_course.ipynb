{
 "cells": [
  {
   "cell_type": "code",
   "execution_count": 2,
   "metadata": {
    "collapsed": false
   },
   "outputs": [
    {
     "name": "stdout",
     "output_type": "stream",
     "text": [
      "The autoreload extension is already loaded. To reload it, use:\n",
      "  %reload_ext autoreload\n"
     ]
    }
   ],
   "source": [
    "%load_ext autoreload\n",
    "%autoreload 2\n",
    "# Supress default INFO logging  (Hide Info)\n",
    "\n",
    "import logging\n",
    "#logger = logging.getLogger()\n",
    "#logger.setLevel(logging.CRITICAL)\n",
    "logging.root.hanlder = []\n",
    "logging.basicConfig(format=\"%(asctime)s : %(leveltime)s : %(message)s\", message=logging.INFO)"
   ]
  },
  {
   "cell_type": "code",
   "execution_count": 3,
   "metadata": {
    "collapsed": true
   },
   "outputs": [],
   "source": [
    "import logging\n",
    "import collections\n",
    "logging.root.handlers = []  # Jupyter messes up logging so needs a reset\n",
    "logging.basicConfig(format='%(asctime)s : %(levelname)s : %(message)s', level=logging.INFO)\n",
    "from smart_open import smart_open \n",
    "import pandas as pd\n",
    "import numpy as np\n",
    "from numpy import random\n",
    "from collections import Counter\n",
    "import heapq #check n largest\n",
    "import json\n",
    "import warnings\n",
    "from sqlalchemy import create_engine \n",
    "import nltk\n",
    "import seaborn as sns"
   ]
  },
  {
   "cell_type": "code",
   "execution_count": 4,
   "metadata": {
    "collapsed": true
   },
   "outputs": [],
   "source": [
    "def isEnglish(s):\n",
    "    try:\n",
    "        s.encode(encoding='utf-8').decode('ascii')\n",
    "    except UnicodeDecodeError:\n",
    "        return False\n",
    "    else:\n",
    "        return True"
   ]
  },
  {
   "cell_type": "code",
   "execution_count": 6,
   "metadata": {
    "collapsed": false
   },
   "outputs": [],
   "source": [
    "# bath_path = r'C:/Users/asus/Downloads/ADB_final/'\n",
    "bath_path = r''\n",
    "\n",
    "computer_security_and_networks = json.load(open(bath_path + r'computer-security-and-networks.json', encoding='utf8'))\n",
    "algorithms = json.load(open(bath_path + r'algorithms.json', encoding='utf8'))\n",
    "cloud_computing = json.load(open(bath_path + r'cloud-computing.json', encoding='utf8'))\n",
    "data_management = json.load(open(bath_path + r'data-management.json', encoding='utf8'))\n",
    "design_and_product = json.load(open(bath_path + r'design-and-product.json', encoding='utf8'))\n",
    "electrical_engineering = json.load(open(bath_path + r'electrical-engineering.json', encoding='utf8'))\n",
    "math_and_logic = json.load(open(bath_path + r'math-and-logic.json', encoding='utf8'))\n",
    "mobile_and_web_development = json.load(open(bath_path + r'mobile-and-web-development.json', encoding='utf8'))\n",
    "networking = json.load(open(bath_path + r'networking.json', encoding='utf8'))\n",
    "probability_and_statistics = json.load(open(bath_path + r'probability-and-statistics.json', encoding='utf8'))\n",
    "security = json.load(open(bath_path + r'security.json', encoding='utf8'))\n",
    "machine_learning = json.load(open(bath_path + r'machine-learning.json', encoding='utf8'))\n",
    "data_analysis = json.load(open(bath_path + r'data-analysis.json', encoding='utf8'))\n",
    "software_development = json.load(open(bath_path + r'software-development.json', encoding='utf8'))\n",
    "\n",
    "all_data = computer_security_and_networks + \\\n",
    "algorithms + \\\n",
    "cloud_computing + \\\n",
    "data_management + \\\n",
    "design_and_product + \\\n",
    "electrical_engineering + \\\n",
    "math_and_logic + \\\n",
    "mobile_and_web_development + \\\n",
    "networking + \\\n",
    "probability_and_statistics + \\\n",
    "security + \\\n",
    "machine_learning + \\\n",
    "data_analysis + \\\n",
    "software_development"
   ]
  },
  {
   "cell_type": "code",
   "execution_count": 7,
   "metadata": {
    "collapsed": false
   },
   "outputs": [
    {
     "data": {
      "text/plain": [
       "881"
      ]
     },
     "execution_count": 7,
     "metadata": {},
     "output_type": "execute_result"
    }
   ],
   "source": [
    "len(all_data)"
   ]
  },
  {
   "cell_type": "code",
   "execution_count": 8,
   "metadata": {
    "collapsed": true
   },
   "outputs": [],
   "source": [
    "def get_course(course):\n",
    "    cat=[]; title=[]; week_data=[]; target_audience=[]; created_by=[]; teach_by=[]\n",
    "    week_data_title=[]; course_info=[]; department=[]; week_data_desc=[]\n",
    "    package_num=[];package_name=[]; level=[]; rating=[]; index=[]; uid=[]\n",
    "    x = 0\n",
    "    for (category) in course:\n",
    "        for n in range(len(eval(category))):\n",
    "            for i in range(len(eval(category)[n]['teach_by'])):\n",
    "                    uid.append(x)\n",
    "                    cat.append(category)\n",
    "                    title.append(eval(category)[n]['title'])\n",
    "                    target_audience.append(eval(category)[n]['target_audience'])\n",
    "                    created_by.append(eval(category)[n]['created_by'])\n",
    "                    course_info.append(eval(category)[n]['course_info'])\n",
    "                    package_num.append(eval(category)[n]['package_num'])\n",
    "                    package_name.append(eval(category)[n]['package_name'])\n",
    "                    level.append(eval(category)[n]['level'])\n",
    "                    rating.append(eval(category)[n]['rating']) \n",
    "                    index.append(n)\n",
    "                    teach_by.append(list((eval(category)[n]['teach_by'][i].values()))[1])  \n",
    "                    department.append(list((eval(category)[n]['teach_by'][i].values()))[0])\n",
    "            x += 1\n",
    "    data = pd.DataFrame({\n",
    "                   'category': cat,\n",
    "                   'uid': uid,\n",
    "                    'title': title,\n",
    "                    'target_audience': target_audience,\n",
    "                    'created_by' : created_by,  \n",
    "                    'course_info': course_info,\n",
    "                    'teach_by': department,\n",
    "                     'department': teach_by,\n",
    "                     'level': level,\n",
    "                     'rating': rating,\n",
    "                     'package_num': package_num,\n",
    "                     'package_name': package_name          \n",
    "                    },\n",
    "                    columns = ['uid','category', 'title',\n",
    "                               'course_info', 'target_audience', 'created_by','teach_by',\n",
    "                               'department','package_num','package_name', 'level','rating']) \n",
    "    return data"
   ]
  },
  {
   "cell_type": "code",
   "execution_count": 9,
   "metadata": {
    "collapsed": true
   },
   "outputs": [],
   "source": [
    "course_list_cat = ['computer_security_and_networks','algorithms','cloud_computing' ,'data_management' ,\n",
    "               'design_and_product','electrical_engineering' ,'math_and_logic' ,'mobile_and_web_development' ,'networking',\n",
    "              'probability_and_statistics','security','machine_learning' ,'data_analysis','software_development']"
   ]
  },
  {
   "cell_type": "code",
   "execution_count": 10,
   "metadata": {
    "collapsed": true
   },
   "outputs": [],
   "source": [
    "data = get_course(course_list_cat)\n"
   ]
  },
  {
   "cell_type": "code",
   "execution_count": 11,
   "metadata": {
    "collapsed": true
   },
   "outputs": [],
   "source": [
    "tmp = data.drop_duplicates(subset=['uid'])\n",
    "tmp.reset_index(inplace=True)"
   ]
  },
  {
   "cell_type": "code",
   "execution_count": 12,
   "metadata": {
    "collapsed": true
   },
   "outputs": [],
   "source": [
    "for i, row in tmp.iterrows():\n",
    "    data.loc[(data.course_info==row.course_info) & (data.title==row.title), 'uid'] = i"
   ]
  },
  {
   "cell_type": "code",
   "execution_count": 13,
   "metadata": {
    "collapsed": true
   },
   "outputs": [],
   "source": [
    "for i, row in data.iterrows():\n",
    "    if not isEnglish(row.title):\n",
    "        data.drop(i, inplace=True)"
   ]
  },
  {
   "cell_type": "code",
   "execution_count": 14,
   "metadata": {
    "collapsed": false
   },
   "outputs": [
    {
     "data": {
      "text/html": [
       "<div>\n",
       "<table border=\"1\" class=\"dataframe\">\n",
       "  <thead>\n",
       "    <tr style=\"text-align: right;\">\n",
       "      <th></th>\n",
       "      <th>uid</th>\n",
       "      <th>category</th>\n",
       "      <th>title</th>\n",
       "      <th>course_info</th>\n",
       "      <th>target_audience</th>\n",
       "      <th>created_by</th>\n",
       "      <th>teach_by</th>\n",
       "      <th>department</th>\n",
       "      <th>package_num</th>\n",
       "      <th>package_name</th>\n",
       "      <th>level</th>\n",
       "      <th>rating</th>\n",
       "    </tr>\n",
       "  </thead>\n",
       "  <tbody>\n",
       "    <tr>\n",
       "      <th>0</th>\n",
       "      <td>0</td>\n",
       "      <td>computer_security_and_networks</td>\n",
       "      <td>Bitcoin and Cryptocurrency Technologies</td>\n",
       "      <td>About this course: To really understand what i...</td>\n",
       "      <td>None</td>\n",
       "      <td>Princeton University</td>\n",
       "      <td>Arvind Narayanan</td>\n",
       "      <td>Computer Science</td>\n",
       "      <td>None</td>\n",
       "      <td>None</td>\n",
       "      <td>None</td>\n",
       "      <td>4.7</td>\n",
       "    </tr>\n",
       "    <tr>\n",
       "      <th>1</th>\n",
       "      <td>284</td>\n",
       "      <td>computer_security_and_networks</td>\n",
       "      <td>Cryptography I</td>\n",
       "      <td>About this course: Cryptography is an indispen...</td>\n",
       "      <td>None</td>\n",
       "      <td>Stanford University</td>\n",
       "      <td>Dan Boneh</td>\n",
       "      <td>Computer Science</td>\n",
       "      <td>None</td>\n",
       "      <td>None</td>\n",
       "      <td>None</td>\n",
       "      <td>4.8</td>\n",
       "    </tr>\n",
       "    <tr>\n",
       "      <th>2</th>\n",
       "      <td>157</td>\n",
       "      <td>computer_security_and_networks</td>\n",
       "      <td>Google Cloud Platform Fundamentals: Core Infra...</td>\n",
       "      <td>About this course: &lt;&lt;&lt; ATTENTION &gt;&gt;&gt; Learners ...</td>\n",
       "      <td>Who is this class for: This specialization is ...</td>\n",
       "      <td>Google Cloud</td>\n",
       "      <td>Google Cloud Training</td>\n",
       "      <td>None</td>\n",
       "      <td>1</td>\n",
       "      <td>Architecting with Google Cloud Platform Specia...</td>\n",
       "      <td>Intermediate</td>\n",
       "      <td>4.6</td>\n",
       "    </tr>\n",
       "    <tr>\n",
       "      <th>3</th>\n",
       "      <td>3</td>\n",
       "      <td>computer_security_and_networks</td>\n",
       "      <td>G Suite Administrator Fundamentals</td>\n",
       "      <td>About this course: G Suite Administrator Funda...</td>\n",
       "      <td>Who is this class for: This class is intended ...</td>\n",
       "      <td>Google Cloud</td>\n",
       "      <td>Google Cloud Training</td>\n",
       "      <td>None</td>\n",
       "      <td>None</td>\n",
       "      <td>None</td>\n",
       "      <td>Beginner</td>\n",
       "      <td>4.5</td>\n",
       "    </tr>\n",
       "    <tr>\n",
       "      <th>4</th>\n",
       "      <td>4</td>\n",
       "      <td>computer_security_and_networks</td>\n",
       "      <td>Usable Security</td>\n",
       "      <td>About this course: This course focuses on how ...</td>\n",
       "      <td>None</td>\n",
       "      <td>University of Maryland, College Park</td>\n",
       "      <td>Jennifer Golbeck</td>\n",
       "      <td>Human-Computer Interaction Lab</td>\n",
       "      <td>1</td>\n",
       "      <td>Cybersecurity Specialization</td>\n",
       "      <td>None</td>\n",
       "      <td>4.5</td>\n",
       "    </tr>\n",
       "  </tbody>\n",
       "</table>\n",
       "</div>"
      ],
      "text/plain": [
       "   uid                        category  \\\n",
       "0    0  computer_security_and_networks   \n",
       "1  284  computer_security_and_networks   \n",
       "2  157  computer_security_and_networks   \n",
       "3    3  computer_security_and_networks   \n",
       "4    4  computer_security_and_networks   \n",
       "\n",
       "                                               title  \\\n",
       "0            Bitcoin and Cryptocurrency Technologies   \n",
       "1                                     Cryptography I   \n",
       "2  Google Cloud Platform Fundamentals: Core Infra...   \n",
       "3                 G Suite Administrator Fundamentals   \n",
       "4                                    Usable Security   \n",
       "\n",
       "                                         course_info  \\\n",
       "0  About this course: To really understand what i...   \n",
       "1  About this course: Cryptography is an indispen...   \n",
       "2  About this course: <<< ATTENTION >>> Learners ...   \n",
       "3  About this course: G Suite Administrator Funda...   \n",
       "4  About this course: This course focuses on how ...   \n",
       "\n",
       "                                     target_audience  \\\n",
       "0                                               None   \n",
       "1                                               None   \n",
       "2  Who is this class for: This specialization is ...   \n",
       "3  Who is this class for: This class is intended ...   \n",
       "4                                               None   \n",
       "\n",
       "                             created_by               teach_by  \\\n",
       "0                  Princeton University       Arvind Narayanan   \n",
       "1                   Stanford University              Dan Boneh   \n",
       "2                          Google Cloud  Google Cloud Training   \n",
       "3                          Google Cloud  Google Cloud Training   \n",
       "4  University of Maryland, College Park       Jennifer Golbeck   \n",
       "\n",
       "                       department package_num  \\\n",
       "0                Computer Science        None   \n",
       "1                Computer Science        None   \n",
       "2                            None           1   \n",
       "3                            None        None   \n",
       "4  Human-Computer Interaction Lab           1   \n",
       "\n",
       "                                        package_name         level rating  \n",
       "0                                               None          None    4.7  \n",
       "1                                               None          None    4.8  \n",
       "2  Architecting with Google Cloud Platform Specia...  Intermediate    4.6  \n",
       "3                                               None      Beginner    4.5  \n",
       "4                      Cybersecurity Specialization           None    4.5  "
      ]
     },
     "execution_count": 14,
     "metadata": {},
     "output_type": "execute_result"
    }
   ],
   "source": [
    "data.head()"
   ]
  },
  {
   "cell_type": "code",
   "execution_count": 17,
   "metadata": {
    "collapsed": false
   },
   "outputs": [
    {
     "name": "stdout",
     "output_type": "stream",
     "text": [
      "data.shape:  (1437, 12)\n",
      "len(data.uid.unique()):  609\n"
     ]
    }
   ],
   "source": [
    "print ('data.shape: ', data.shape)\n",
    "print ('len(data.uid.unique()): ', len(data.uid.unique()))"
   ]
  },
  {
   "cell_type": "code",
   "execution_count": 16,
   "metadata": {
    "collapsed": false
   },
   "outputs": [
    {
     "data": {
      "text/plain": [
       "606"
      ]
     },
     "execution_count": 16,
     "metadata": {},
     "output_type": "execute_result"
    }
   ],
   "source": [
    "len(data.course_info.unique())"
   ]
  },
  {
   "cell_type": "code",
   "execution_count": 18,
   "metadata": {
    "collapsed": true
   },
   "outputs": [],
   "source": [
    "title=[]; created_by=[]; course_info=[]\n",
    "data_title=[]; data_desc=[]; data_video=[]; course_info=[];\n",
    "uid = []\n",
    "# teach_by, week_data: 多值\n",
    "for n in range(len(all_data)):\n",
    "    week_data_title=[];  week_data_desc=[];week_data_video=[]\n",
    "    title.append(all_data[n]['title'])\n",
    "    created_by.append(all_data[n]['created_by'])\n",
    "    course_info.append(all_data[n]['course_info'])\n",
    "    uid.append(n)\n",
    "    \n",
    "    for i in range(len(all_data[n]['week_data'])):\n",
    "        week_data_desc.append(all_data[n]['week_data'][i]['description'])\n",
    "        week_data_title.append(all_data[n]['week_data'][i]['title'])\n",
    "        week_data_video += all_data[n]['week_data'][i]['video']\n",
    "    data_title.append(week_data_title)\n",
    "    data_desc.append(week_data_desc)\n",
    "    data_video.append(week_data_video)"
   ]
  },
  {
   "cell_type": "code",
   "execution_count": 19,
   "metadata": {
    "collapsed": true
   },
   "outputs": [],
   "source": [
    "data_created_by = pd.DataFrame({'title': title,\n",
    "                    'created_by':created_by,\n",
    "                    'uid':uid,\n",
    "                    'course_info':course_info},\n",
    "                    columns = ['title', 'created_by', 'uid', 'course_info'])\n",
    "\n",
    "data_detail = pd.DataFrame({     \n",
    "                    'week_data_desc': data_desc,\n",
    "                    'week_data_title': data_title,\n",
    "                    'week_data_video': data_video\n",
    "                    },\n",
    "                    columns = ['week_data_desc', 'week_data_title','week_data_video'])\n"
   ]
  },
  {
   "cell_type": "code",
   "execution_count": 20,
   "metadata": {
    "collapsed": true
   },
   "outputs": [],
   "source": [
    "for i, row in data_created_by.iterrows():\n",
    "    if not isEnglish(row.title):\n",
    "        data_created_by.drop(i, inplace=True)"
   ]
  },
  {
   "cell_type": "code",
   "execution_count": 21,
   "metadata": {
    "collapsed": true
   },
   "outputs": [],
   "source": [
    "for i, row in data_created_by.iterrows():\n",
    "    data_created_by.loc[(data_created_by.course_info==row.course_info) & (data_created_by.title==row.title), 'uid'] = i"
   ]
  },
  {
   "cell_type": "code",
   "execution_count": 22,
   "metadata": {
    "collapsed": false
   },
   "outputs": [
    {
     "data": {
      "text/html": [
       "<div>\n",
       "<table border=\"1\" class=\"dataframe\">\n",
       "  <thead>\n",
       "    <tr style=\"text-align: right;\">\n",
       "      <th></th>\n",
       "      <th>title</th>\n",
       "      <th>created_by</th>\n",
       "      <th>uid</th>\n",
       "      <th>course_info</th>\n",
       "    </tr>\n",
       "  </thead>\n",
       "  <tbody>\n",
       "    <tr>\n",
       "      <th>0</th>\n",
       "      <td>Bitcoin and Cryptocurrency Technologies</td>\n",
       "      <td>Princeton University</td>\n",
       "      <td>0</td>\n",
       "      <td>About this course: To really understand what i...</td>\n",
       "    </tr>\n",
       "    <tr>\n",
       "      <th>1</th>\n",
       "      <td>Cryptography I</td>\n",
       "      <td>Stanford University</td>\n",
       "      <td>284</td>\n",
       "      <td>About this course: Cryptography is an indispen...</td>\n",
       "    </tr>\n",
       "    <tr>\n",
       "      <th>2</th>\n",
       "      <td>Google Cloud Platform Fundamentals: Core Infra...</td>\n",
       "      <td>Google Cloud</td>\n",
       "      <td>157</td>\n",
       "      <td>About this course: &lt;&lt;&lt; ATTENTION &gt;&gt;&gt; Learners ...</td>\n",
       "    </tr>\n",
       "    <tr>\n",
       "      <th>3</th>\n",
       "      <td>G Suite Administrator Fundamentals</td>\n",
       "      <td>Google Cloud</td>\n",
       "      <td>3</td>\n",
       "      <td>About this course: G Suite Administrator Funda...</td>\n",
       "    </tr>\n",
       "    <tr>\n",
       "      <th>4</th>\n",
       "      <td>Usable Security</td>\n",
       "      <td>University of Maryland, College Park</td>\n",
       "      <td>4</td>\n",
       "      <td>About this course: This course focuses on how ...</td>\n",
       "    </tr>\n",
       "  </tbody>\n",
       "</table>\n",
       "</div>"
      ],
      "text/plain": [
       "                                               title  \\\n",
       "0            Bitcoin and Cryptocurrency Technologies   \n",
       "1                                     Cryptography I   \n",
       "2  Google Cloud Platform Fundamentals: Core Infra...   \n",
       "3                 G Suite Administrator Fundamentals   \n",
       "4                                    Usable Security   \n",
       "\n",
       "                             created_by  uid  \\\n",
       "0                  Princeton University    0   \n",
       "1                   Stanford University  284   \n",
       "2                          Google Cloud  157   \n",
       "3                          Google Cloud    3   \n",
       "4  University of Maryland, College Park    4   \n",
       "\n",
       "                                         course_info  \n",
       "0  About this course: To really understand what i...  \n",
       "1  About this course: Cryptography is an indispen...  \n",
       "2  About this course: <<< ATTENTION >>> Learners ...  \n",
       "3  About this course: G Suite Administrator Funda...  \n",
       "4  About this course: This course focuses on how ...  "
      ]
     },
     "execution_count": 22,
     "metadata": {},
     "output_type": "execute_result"
    }
   ],
   "source": [
    "data_created_by.head()"
   ]
  },
  {
   "cell_type": "code",
   "execution_count": 23,
   "metadata": {
    "collapsed": true
   },
   "outputs": [],
   "source": [
    "data_created_by.drop_duplicates(subset=['title', 'created_by'], inplace=True)"
   ]
  },
  {
   "cell_type": "code",
   "execution_count": 24,
   "metadata": {
    "collapsed": true
   },
   "outputs": [],
   "source": [
    "data_detail = pd.merge(data_created_by, data_detail, left_index=True, right_index=True, how=\"left\")"
   ]
  },
  {
   "cell_type": "code",
   "execution_count": 25,
   "metadata": {
    "collapsed": false
   },
   "outputs": [
    {
     "data": {
      "text/html": [
       "<div>\n",
       "<table border=\"1\" class=\"dataframe\">\n",
       "  <thead>\n",
       "    <tr style=\"text-align: right;\">\n",
       "      <th></th>\n",
       "      <th>title</th>\n",
       "      <th>created_by</th>\n",
       "      <th>uid</th>\n",
       "      <th>course_info</th>\n",
       "      <th>week_data_desc</th>\n",
       "      <th>week_data_title</th>\n",
       "      <th>week_data_video</th>\n",
       "    </tr>\n",
       "  </thead>\n",
       "  <tbody>\n",
       "    <tr>\n",
       "      <th>0</th>\n",
       "      <td>Bitcoin and Cryptocurrency Technologies</td>\n",
       "      <td>Princeton University</td>\n",
       "      <td>0</td>\n",
       "      <td>About this course: To really understand what i...</td>\n",
       "      <td>[Learn about cryptographic building blocks (\"p...</td>\n",
       "      <td>[Introduction to Crypto and Cryptocurrencies, ...</td>\n",
       "      <td>[Welcome, Cryptographic Hash Functions, Hash P...</td>\n",
       "    </tr>\n",
       "    <tr>\n",
       "      <th>1</th>\n",
       "      <td>Cryptography I</td>\n",
       "      <td>Stanford University</td>\n",
       "      <td>284</td>\n",
       "      <td>About this course: Cryptography is an indispen...</td>\n",
       "      <td>[Week 1.  This week's topic is an overview of ...</td>\n",
       "      <td>[Course overview and stream ciphers, Block Cip...</td>\n",
       "      <td>[Lecture slides for all six weeks, Course over...</td>\n",
       "    </tr>\n",
       "    <tr>\n",
       "      <th>2</th>\n",
       "      <td>Google Cloud Platform Fundamentals: Core Infra...</td>\n",
       "      <td>Google Cloud</td>\n",
       "      <td>157</td>\n",
       "      <td>About this course: &lt;&lt;&lt; ATTENTION &gt;&gt;&gt; Learners ...</td>\n",
       "      <td>[, , , , , , , , , , , , , , , ]</td>\n",
       "      <td>[Welcome to GCP Fundamentals: Core Infrastruct...</td>\n",
       "      <td>[Welcome, Please read me, What is Google Cloud...</td>\n",
       "    </tr>\n",
       "    <tr>\n",
       "      <th>3</th>\n",
       "      <td>G Suite Administrator Fundamentals</td>\n",
       "      <td>Google Cloud</td>\n",
       "      <td>3</td>\n",
       "      <td>About this course: G Suite Administrator Funda...</td>\n",
       "      <td>[You will be setting up your G Suite account a...</td>\n",
       "      <td>[GETTING STARTED, USERS, SERVICES, SECURITY, D...</td>\n",
       "      <td>[Welcome and Getting Started Guide!, G Suite O...</td>\n",
       "    </tr>\n",
       "    <tr>\n",
       "      <th>4</th>\n",
       "      <td>Usable Security</td>\n",
       "      <td>University of Maryland, College Park</td>\n",
       "      <td>4</td>\n",
       "      <td>About this course: This course focuses on how ...</td>\n",
       "      <td>[Fundamentals of Human-Computer Interaction: u...</td>\n",
       "      <td>[Week 1, Week 2, Week 3, Week 4, Week 5, Week ...</td>\n",
       "      <td>[Privacy Policy, Syllabus, Grading and Logisti...</td>\n",
       "    </tr>\n",
       "  </tbody>\n",
       "</table>\n",
       "</div>"
      ],
      "text/plain": [
       "                                               title  \\\n",
       "0            Bitcoin and Cryptocurrency Technologies   \n",
       "1                                     Cryptography I   \n",
       "2  Google Cloud Platform Fundamentals: Core Infra...   \n",
       "3                 G Suite Administrator Fundamentals   \n",
       "4                                    Usable Security   \n",
       "\n",
       "                             created_by  uid  \\\n",
       "0                  Princeton University    0   \n",
       "1                   Stanford University  284   \n",
       "2                          Google Cloud  157   \n",
       "3                          Google Cloud    3   \n",
       "4  University of Maryland, College Park    4   \n",
       "\n",
       "                                         course_info  \\\n",
       "0  About this course: To really understand what i...   \n",
       "1  About this course: Cryptography is an indispen...   \n",
       "2  About this course: <<< ATTENTION >>> Learners ...   \n",
       "3  About this course: G Suite Administrator Funda...   \n",
       "4  About this course: This course focuses on how ...   \n",
       "\n",
       "                                      week_data_desc  \\\n",
       "0  [Learn about cryptographic building blocks (\"p...   \n",
       "1  [Week 1.  This week's topic is an overview of ...   \n",
       "2                   [, , , , , , , , , , , , , , , ]   \n",
       "3  [You will be setting up your G Suite account a...   \n",
       "4  [Fundamentals of Human-Computer Interaction: u...   \n",
       "\n",
       "                                     week_data_title  \\\n",
       "0  [Introduction to Crypto and Cryptocurrencies, ...   \n",
       "1  [Course overview and stream ciphers, Block Cip...   \n",
       "2  [Welcome to GCP Fundamentals: Core Infrastruct...   \n",
       "3  [GETTING STARTED, USERS, SERVICES, SECURITY, D...   \n",
       "4  [Week 1, Week 2, Week 3, Week 4, Week 5, Week ...   \n",
       "\n",
       "                                     week_data_video  \n",
       "0  [Welcome, Cryptographic Hash Functions, Hash P...  \n",
       "1  [Lecture slides for all six weeks, Course over...  \n",
       "2  [Welcome, Please read me, What is Google Cloud...  \n",
       "3  [Welcome and Getting Started Guide!, G Suite O...  \n",
       "4  [Privacy Policy, Syllabus, Grading and Logisti...  "
      ]
     },
     "execution_count": 25,
     "metadata": {},
     "output_type": "execute_result"
    }
   ],
   "source": [
    "data_detail.head()"
   ]
  },
  {
   "cell_type": "code",
   "execution_count": 26,
   "metadata": {
    "collapsed": true
   },
   "outputs": [],
   "source": [
    "for i, row in data_detail.iterrows():\n",
    "    if len(row.week_data_video) == 0:\n",
    "        data_detail.drop(i, inplace=True)"
   ]
  },
  {
   "cell_type": "code",
   "execution_count": 27,
   "metadata": {
    "collapsed": true
   },
   "outputs": [],
   "source": [
    "data_detail = data_detail.reset_index(drop=True)"
   ]
  },
  {
   "cell_type": "code",
   "execution_count": 28,
   "metadata": {
    "collapsed": false
   },
   "outputs": [
    {
     "data": {
      "text/plain": [
       "596"
      ]
     },
     "execution_count": 28,
     "metadata": {},
     "output_type": "execute_result"
    }
   ],
   "source": [
    "len(data_detail)"
   ]
  },
  {
   "cell_type": "code",
   "execution_count": 30,
   "metadata": {
    "collapsed": false
   },
   "outputs": [],
   "source": [
    "import spacy\n",
    "nlp = spacy.load('en')"
   ]
  },
  {
   "cell_type": "code",
   "execution_count": 31,
   "metadata": {
    "collapsed": true
   },
   "outputs": [],
   "source": [
    "week_video_list = []\n",
    "for video_data in data_detail.week_data_video:\n",
    "    video_str = ''\n",
    "    x = ' '.join(video_data)\n",
    "    doc = nlp(x.lower())\n",
    "    for token in doc:\n",
    "        if not token.is_stop and token.is_alpha:\n",
    "            video_str += token.lemma_\n",
    "            video_str += ' '\n",
    "    week_video_list.append(video_str)"
   ]
  },
  {
   "cell_type": "code",
   "execution_count": 32,
   "metadata": {
    "collapsed": true
   },
   "outputs": [],
   "source": [
    "data_detail['week_data_video_str'] = pd.Series(week_video_list)\n",
    "data_detail.dropna(inplace=True)\n",
    "data_detail = data_detail.reset_index(drop=True)"
   ]
  },
  {
   "cell_type": "code",
   "execution_count": 33,
   "metadata": {
    "collapsed": true
   },
   "outputs": [],
   "source": [
    "from sklearn.feature_extraction.text import TfidfVectorizer\n",
    "vectorize = TfidfVectorizer(max_df=150)\n",
    "bows = vectorize.fit(data_detail.week_data_video_str)\n",
    "document_matrix = bows.transform(data_detail.week_data_video_str).toarray()"
   ]
  },
  {
   "cell_type": "code",
   "execution_count": 34,
   "metadata": {
    "collapsed": false
   },
   "outputs": [
    {
     "data": {
      "text/plain": [
       "(596, 8733)"
      ]
     },
     "execution_count": 34,
     "metadata": {},
     "output_type": "execute_result"
    }
   ],
   "source": [
    "document_matrix.shape"
   ]
  },
  {
   "cell_type": "code",
   "execution_count": 35,
   "metadata": {
    "collapsed": true
   },
   "outputs": [],
   "source": [
    "f = bows.get_feature_names()"
   ]
  },
  {
   "cell_type": "code",
   "execution_count": 36,
   "metadata": {
    "collapsed": true
   },
   "outputs": [],
   "source": [
    "from sklearn.metrics.pairwise import cosine_similarity\n",
    "result = cosine_similarity(document_matrix)"
   ]
  },
  {
   "cell_type": "code",
   "execution_count": 37,
   "metadata": {
    "collapsed": false
   },
   "outputs": [
    {
     "data": {
      "text/html": [
       "<div>\n",
       "<table border=\"1\" class=\"dataframe\">\n",
       "  <thead>\n",
       "    <tr style=\"text-align: right;\">\n",
       "      <th></th>\n",
       "      <th>title</th>\n",
       "      <th>created_by</th>\n",
       "      <th>uid</th>\n",
       "      <th>course_info</th>\n",
       "      <th>week_data_desc</th>\n",
       "      <th>week_data_title</th>\n",
       "      <th>week_data_video</th>\n",
       "      <th>week_data_video_str</th>\n",
       "    </tr>\n",
       "  </thead>\n",
       "  <tbody>\n",
       "    <tr>\n",
       "      <th>20</th>\n",
       "      <td>Introduction to Cybersecurity for Business</td>\n",
       "      <td>University of Colorado System</td>\n",
       "      <td>463</td>\n",
       "      <td>About this course: The world runs computers.  ...</td>\n",
       "      <td>[Understand the basics of computer security fo...</td>\n",
       "      <td>[What is Practical Computer Security, The CIA ...</td>\n",
       "      <td>[Welcome!, About the Instructor, Glossary of C...</td>\n",
       "      <td>welcome instructor glossary computer security ...</td>\n",
       "    </tr>\n",
       "    <tr>\n",
       "      <th>13</th>\n",
       "      <td>Information Security: Context and Introduction</td>\n",
       "      <td>University of London</td>\n",
       "      <td>13</td>\n",
       "      <td>About this course: In this course you will exp...</td>\n",
       "      <td>[, This module introduces cryptography, which ...</td>\n",
       "      <td>[Introduction to Information Security, Introdu...</td>\n",
       "      <td>[An overview, What are you hoping to achieve i...</td>\n",
       "      <td>overview hop achieve course information securi...</td>\n",
       "    </tr>\n",
       "    <tr>\n",
       "      <th>6</th>\n",
       "      <td>Cybersecurity and Its Ten Domains</td>\n",
       "      <td>University System of Georgia</td>\n",
       "      <td>6</td>\n",
       "      <td>About this course: This course is designed to ...</td>\n",
       "      <td>[Checkout our marquee speaker. She's the Chief...</td>\n",
       "      <td>[Welcome and Course Overview, Introduction to ...</td>\n",
       "      <td>[Welcome to \"Cybersecurity and Its Ten Domains...</td>\n",
       "      <td>welcome cybersecurity domain welcome course im...</td>\n",
       "    </tr>\n",
       "    <tr>\n",
       "      <th>408</th>\n",
       "      <td>Cyber Security in Manufacturing</td>\n",
       "      <td>University at Buffalo, The State University of...</td>\n",
       "      <td>515</td>\n",
       "      <td>About this course: The nature of digital manuf...</td>\n",
       "      <td>[The purpose of this module is to introduce yo...</td>\n",
       "      <td>[Introduction to Digital Manufacturing Securit...</td>\n",
       "      <td>[Course Introduction, Digital Manufacturing Se...</td>\n",
       "      <td>course introduction digital manufacture securi...</td>\n",
       "    </tr>\n",
       "    <tr>\n",
       "      <th>49</th>\n",
       "      <td>Enterprise and Infrastructure Security</td>\n",
       "      <td>New York University Tandon School of Engineering</td>\n",
       "      <td>50</td>\n",
       "      <td>About this course: This course introduces a se...</td>\n",
       "      <td>[This module includes an introduction to many ...</td>\n",
       "      <td>[Security Awareness, Compliance, Assessments, ...</td>\n",
       "      <td>[Introduction: What You Will Learn from This C...</td>\n",
       "      <td>introduction learn course cyber security assig...</td>\n",
       "    </tr>\n",
       "  </tbody>\n",
       "</table>\n",
       "</div>"
      ],
      "text/plain": [
       "                                              title  \\\n",
       "20       Introduction to Cybersecurity for Business   \n",
       "13   Information Security: Context and Introduction   \n",
       "6                 Cybersecurity and Its Ten Domains   \n",
       "408               Cyber Security in Manufacturing     \n",
       "49           Enterprise and Infrastructure Security   \n",
       "\n",
       "                                            created_by  uid  \\\n",
       "20                       University of Colorado System  463   \n",
       "13                                University of London   13   \n",
       "6                         University System of Georgia    6   \n",
       "408  University at Buffalo, The State University of...  515   \n",
       "49    New York University Tandon School of Engineering   50   \n",
       "\n",
       "                                           course_info  \\\n",
       "20   About this course: The world runs computers.  ...   \n",
       "13   About this course: In this course you will exp...   \n",
       "6    About this course: This course is designed to ...   \n",
       "408  About this course: The nature of digital manuf...   \n",
       "49   About this course: This course introduces a se...   \n",
       "\n",
       "                                        week_data_desc  \\\n",
       "20   [Understand the basics of computer security fo...   \n",
       "13   [, This module introduces cryptography, which ...   \n",
       "6    [Checkout our marquee speaker. She's the Chief...   \n",
       "408  [The purpose of this module is to introduce yo...   \n",
       "49   [This module includes an introduction to many ...   \n",
       "\n",
       "                                       week_data_title  \\\n",
       "20   [What is Practical Computer Security, The CIA ...   \n",
       "13   [Introduction to Information Security, Introdu...   \n",
       "6    [Welcome and Course Overview, Introduction to ...   \n",
       "408  [Introduction to Digital Manufacturing Securit...   \n",
       "49   [Security Awareness, Compliance, Assessments, ...   \n",
       "\n",
       "                                       week_data_video  \\\n",
       "20   [Welcome!, About the Instructor, Glossary of C...   \n",
       "13   [An overview, What are you hoping to achieve i...   \n",
       "6    [Welcome to \"Cybersecurity and Its Ten Domains...   \n",
       "408  [Course Introduction, Digital Manufacturing Se...   \n",
       "49   [Introduction: What You Will Learn from This C...   \n",
       "\n",
       "                                   week_data_video_str  \n",
       "20   welcome instructor glossary computer security ...  \n",
       "13   overview hop achieve course information securi...  \n",
       "6    welcome cybersecurity domain welcome course im...  \n",
       "408  course introduction digital manufacture securi...  \n",
       "49   introduction learn course cyber security assig...  "
      ]
     },
     "execution_count": 37,
     "metadata": {},
     "output_type": "execute_result"
    }
   ],
   "source": [
    "data_detail.loc[np.argsort(result[20])[::-1], :].head()"
   ]
  },
  {
   "cell_type": "code",
   "execution_count": 42,
   "metadata": {
    "collapsed": false
   },
   "outputs": [
    {
     "data": {
      "text/plain": [
       "(596, 596)"
      ]
     },
     "execution_count": 42,
     "metadata": {},
     "output_type": "execute_result"
    }
   ],
   "source": [
    "result.shape"
   ]
  },
  {
   "cell_type": "code",
   "execution_count": 44,
   "metadata": {
    "collapsed": false
   },
   "outputs": [
    {
     "data": {
      "text/html": [
       "<div>\n",
       "<table border=\"1\" class=\"dataframe\">\n",
       "  <thead>\n",
       "    <tr style=\"text-align: right;\">\n",
       "      <th></th>\n",
       "      <th>title</th>\n",
       "      <th>uid</th>\n",
       "      <th>relate_1</th>\n",
       "      <th>relate_2</th>\n",
       "      <th>relate_3</th>\n",
       "      <th>relate_4</th>\n",
       "      <th>relate_5</th>\n",
       "    </tr>\n",
       "  </thead>\n",
       "  <tbody>\n",
       "    <tr>\n",
       "      <th>0</th>\n",
       "      <td>Bitcoin and Cryptocurrency Technologies</td>\n",
       "      <td>0</td>\n",
       "      <td>852</td>\n",
       "      <td>346</td>\n",
       "      <td>596</td>\n",
       "      <td>294</td>\n",
       "      <td>707</td>\n",
       "    </tr>\n",
       "    <tr>\n",
       "      <th>1</th>\n",
       "      <td>Cryptography I</td>\n",
       "      <td>284</td>\n",
       "      <td>28</td>\n",
       "      <td>340</td>\n",
       "      <td>822</td>\n",
       "      <td>344</td>\n",
       "      <td>463</td>\n",
       "    </tr>\n",
       "    <tr>\n",
       "      <th>2</th>\n",
       "      <td>Google Cloud Platform Fundamentals: Core Infra...</td>\n",
       "      <td>157</td>\n",
       "      <td>840</td>\n",
       "      <td>867</td>\n",
       "      <td>161</td>\n",
       "      <td>159</td>\n",
       "      <td>829</td>\n",
       "    </tr>\n",
       "    <tr>\n",
       "      <th>3</th>\n",
       "      <td>G Suite Administrator Fundamentals</td>\n",
       "      <td>3</td>\n",
       "      <td>250</td>\n",
       "      <td>733</td>\n",
       "      <td>436</td>\n",
       "      <td>365</td>\n",
       "      <td>706</td>\n",
       "    </tr>\n",
       "    <tr>\n",
       "      <th>4</th>\n",
       "      <td>Usable Security</td>\n",
       "      <td>4</td>\n",
       "      <td>654</td>\n",
       "      <td>858</td>\n",
       "      <td>60</td>\n",
       "      <td>743</td>\n",
       "      <td>70</td>\n",
       "    </tr>\n",
       "  </tbody>\n",
       "</table>\n",
       "</div>"
      ],
      "text/plain": [
       "                                               title  uid  relate_1  relate_2  \\\n",
       "0            Bitcoin and Cryptocurrency Technologies    0       852       346   \n",
       "1                                     Cryptography I  284        28       340   \n",
       "2  Google Cloud Platform Fundamentals: Core Infra...  157       840       867   \n",
       "3                 G Suite Administrator Fundamentals    3       250       733   \n",
       "4                                    Usable Security    4       654       858   \n",
       "\n",
       "   relate_3  relate_4  relate_5  \n",
       "0       596       294       707  \n",
       "1       822       344       463  \n",
       "2       161       159       829  \n",
       "3       436       365       706  \n",
       "4        60       743        70  "
      ]
     },
     "execution_count": 44,
     "metadata": {},
     "output_type": "execute_result"
    }
   ],
   "source": [
    "## build title & Top-5 relation   (use this to build similatyty)\n",
    "\n",
    "def get_nth_relation(index, n_th):\n",
    "    return data_detail.loc[np.argsort(result[index])[::-1][n_th], :]['uid']\n",
    "\n",
    "title_relation_df = pd.DataFrame(data_detail[['title', 'uid']])\n",
    "title_relation_df['index'] = list(range(len(data_detail)))\n",
    "\n",
    "top_n = 5\n",
    "for i in range(1, top_n+1):\n",
    "    str_i = str(i)\n",
    "    title_relation_df['relate_'+str_i] = title_relation_df['index'].apply(lambda x: get_nth_relation(x, i))\n",
    "\n",
    "title_relation_df.drop('index', axis=1, inplace=True)\n",
    "title_relation_df.head()"
   ]
  },
  {
   "cell_type": "code",
   "execution_count": null,
   "metadata": {
    "collapsed": true
   },
   "outputs": [],
   "source": []
  },
  {
   "cell_type": "code",
   "execution_count": 52,
   "metadata": {
    "collapsed": false
   },
   "outputs": [
    {
     "name": "stdout",
     "output_type": "stream",
     "text": [
      "lower check:\n",
      "check_ele: \"c++\", check_times: 36\n",
      "check_ele: \"python\", check_times: 272\n",
      "check_ele: \"java\", check_times: 183\n",
      "check_ele: \"html\", check_times: 84\n",
      "check_ele: \"javascript\", check_times: 79\n",
      "check_ele: \"php\", check_times: 14\n",
      "check_ele: \" r \", check_times: 153\n",
      "check_ele: \" c \", check_times: 48\n",
      "check_ele: \"perl\", check_times: 25\n",
      "check_ele: \"spark\", check_times: 68\n",
      "check_ele: \"hadoop\", check_times: 59\n",
      "check_ele: \"programming language\", check_times: 189\n"
     ]
    }
   ],
   "source": [
    "## data_more for more word  (need data, data_detail)\n",
    "data_more = pd.merge(data, data_detail, left_on='uid', right_on='uid', how=\"left\")\n",
    "\n",
    "## lower check, in 'data_more'\n",
    "print ('lower check:')\n",
    "check_list = ['C++', 'python', 'Java', 'HTML', 'Javascript', 'PHP', ' R ', ' C ', 'perl', 'spark', 'hadoop', 'programming language']\n",
    "\n",
    "for check_ele in check_list:\n",
    "    check_times = 0\n",
    "    check_ele = check_ele.lower()\n",
    "    for all_info in data_more.values:\n",
    "        info = ' '\n",
    "        for all_info_ele in all_info:\n",
    "            info = info + ' ' + str(all_info_ele)\n",
    "        if check_ele in info.lower():\n",
    "            check_times += 1\n",
    "    print ('check_ele: \"{}\", check_times: {}'.format(check_ele, check_times))\n",
    "     "
   ]
  },
  {
   "cell_type": "code",
   "execution_count": 51,
   "metadata": {
    "collapsed": false
   },
   "outputs": [
    {
     "data": {
      "text/html": [
       "<div>\n",
       "<table border=\"1\" class=\"dataframe\">\n",
       "  <thead>\n",
       "    <tr style=\"text-align: right;\">\n",
       "      <th></th>\n",
       "      <th>uid</th>\n",
       "      <th>C++</th>\n",
       "      <th>python</th>\n",
       "      <th>Java</th>\n",
       "      <th>HTML</th>\n",
       "      <th>Javascript</th>\n",
       "      <th>PHP</th>\n",
       "      <th>R</th>\n",
       "      <th>C</th>\n",
       "      <th>perl</th>\n",
       "      <th>spark</th>\n",
       "      <th>hadoop</th>\n",
       "      <th>programming language</th>\n",
       "    </tr>\n",
       "  </thead>\n",
       "  <tbody>\n",
       "    <tr>\n",
       "      <th>0</th>\n",
       "      <td>0</td>\n",
       "      <td>False</td>\n",
       "      <td>False</td>\n",
       "      <td>False</td>\n",
       "      <td>False</td>\n",
       "      <td>False</td>\n",
       "      <td>False</td>\n",
       "      <td>False</td>\n",
       "      <td>False</td>\n",
       "      <td>False</td>\n",
       "      <td>False</td>\n",
       "      <td>False</td>\n",
       "      <td>False</td>\n",
       "    </tr>\n",
       "    <tr>\n",
       "      <th>1</th>\n",
       "      <td>284</td>\n",
       "      <td>False</td>\n",
       "      <td>False</td>\n",
       "      <td>False</td>\n",
       "      <td>False</td>\n",
       "      <td>False</td>\n",
       "      <td>False</td>\n",
       "      <td>False</td>\n",
       "      <td>False</td>\n",
       "      <td>False</td>\n",
       "      <td>False</td>\n",
       "      <td>False</td>\n",
       "      <td>False</td>\n",
       "    </tr>\n",
       "    <tr>\n",
       "      <th>2</th>\n",
       "      <td>157</td>\n",
       "      <td>False</td>\n",
       "      <td>False</td>\n",
       "      <td>False</td>\n",
       "      <td>False</td>\n",
       "      <td>False</td>\n",
       "      <td>False</td>\n",
       "      <td>False</td>\n",
       "      <td>False</td>\n",
       "      <td>False</td>\n",
       "      <td>False</td>\n",
       "      <td>False</td>\n",
       "      <td>False</td>\n",
       "    </tr>\n",
       "    <tr>\n",
       "      <th>3</th>\n",
       "      <td>3</td>\n",
       "      <td>False</td>\n",
       "      <td>False</td>\n",
       "      <td>False</td>\n",
       "      <td>False</td>\n",
       "      <td>False</td>\n",
       "      <td>False</td>\n",
       "      <td>False</td>\n",
       "      <td>False</td>\n",
       "      <td>False</td>\n",
       "      <td>False</td>\n",
       "      <td>False</td>\n",
       "      <td>False</td>\n",
       "    </tr>\n",
       "    <tr>\n",
       "      <th>4</th>\n",
       "      <td>4</td>\n",
       "      <td>False</td>\n",
       "      <td>False</td>\n",
       "      <td>False</td>\n",
       "      <td>False</td>\n",
       "      <td>False</td>\n",
       "      <td>False</td>\n",
       "      <td>False</td>\n",
       "      <td>False</td>\n",
       "      <td>False</td>\n",
       "      <td>False</td>\n",
       "      <td>False</td>\n",
       "      <td>False</td>\n",
       "    </tr>\n",
       "  </tbody>\n",
       "</table>\n",
       "</div>"
      ],
      "text/plain": [
       "   uid    C++ python   Java   HTML Javascript    PHP     R      C    perl  \\\n",
       "0    0  False  False  False  False      False  False  False  False  False   \n",
       "1  284  False  False  False  False      False  False  False  False  False   \n",
       "2  157  False  False  False  False      False  False  False  False  False   \n",
       "3    3  False  False  False  False      False  False  False  False  False   \n",
       "4    4  False  False  False  False      False  False  False  False  False   \n",
       "\n",
       "   spark hadoop programming language  \n",
       "0  False  False                False  \n",
       "1  False  False                False  \n",
       "2  False  False                False  \n",
       "3  False  False                False  \n",
       "4  False  False                False  "
      ]
     },
     "execution_count": 51,
     "metadata": {},
     "output_type": "execute_result"
    }
   ],
   "source": [
    "##  data_language_df:  use it to build language relation\n",
    "\n",
    "def check_function(uid, check_ele):\n",
    "    data_target = data_more[data_more['uid']==uid]\n",
    "    for all_info in data_target.values:\n",
    "        info = ' '\n",
    "        for all_info_ele in all_info:\n",
    "            info = info + ' ' + str(all_info_ele)\n",
    "        if check_ele in info.lower():\n",
    "            return True\n",
    "        else:\n",
    "            return False\n",
    "\n",
    "check_list = ['C++', 'python', 'Java', 'HTML', 'Javascript', 'PHP', ' R ', ' C ', \n",
    "              'perl', 'spark', 'hadoop', 'programming language']\n",
    "\n",
    "data_language_df = pd.DataFrame(data_more['uid'])\n",
    "for check_ele in check_list:\n",
    "        data_language_df[check_ele] = data_language_df['uid'].apply(lambda x: check_function(x, check_ele))\n",
    "\n",
    "data_language_df.head()      "
   ]
  },
  {
   "cell_type": "markdown",
   "metadata": {},
   "source": [
    "---"
   ]
  },
  {
   "cell_type": "code",
   "execution_count": null,
   "metadata": {
    "collapsed": true
   },
   "outputs": [],
   "source": []
  },
  {
   "cell_type": "code",
   "execution_count": 1240,
   "metadata": {
    "collapsed": true
   },
   "outputs": [],
   "source": [
    "data_clear = data.drop_duplicates(subset = ['uid'])"
   ]
  },
  {
   "cell_type": "code",
   "execution_count": 1241,
   "metadata": {
    "collapsed": true
   },
   "outputs": [],
   "source": [
    "from py2neo import Graph\n",
    "from py2neo import Relationship\n",
    "from py2neo import Node\n",
    "\n",
    "graph = Graph(password='pwd')\n",
    "graph.delete_all()"
   ]
  },
  {
   "cell_type": "code",
   "execution_count": 1242,
   "metadata": {
    "collapsed": true
   },
   "outputs": [],
   "source": [
    "cat_dict = {}\n",
    "for category in course_list_cat:\n",
    "    cat_dict[category] = Node(\"Category\", name=category)\n",
    "    graph.create(cat_dict[category])\n"
   ]
  },
  {
   "cell_type": "code",
   "execution_count": 1243,
   "metadata": {
    "collapsed": true
   },
   "outputs": [],
   "source": [
    "course_dict = {}\n",
    "for i, row in data_clear.iterrows():\n",
    "    course_dict[row.uid] = Node(\"Course\", name=row.title, rating=row.rating, level=row.level, id=row.uid)\n",
    "    graph.create(course_dict[row.uid])"
   ]
  },
  {
   "cell_type": "code",
   "execution_count": 1244,
   "metadata": {
    "collapsed": true
   },
   "outputs": [],
   "source": [
    "for i, row in data.drop_duplicates(subset=['category', 'uid']).iterrows():\n",
    "    graph.create(Relationship(course_dict[row.uid], 'belong to', cat_dict[row.category]))"
   ]
  },
  {
   "cell_type": "code",
   "execution_count": 1245,
   "metadata": {
    "collapsed": true
   },
   "outputs": [],
   "source": [
    "institute_dict = {}\n",
    "for created_by in set(data.created_by):\n",
    "    institute_dict[created_by] = Node(\"Institute\", name=created_by)\n",
    "    graph.create(institute_dict[created_by])"
   ]
  },
  {
   "cell_type": "code",
   "execution_count": 1246,
   "metadata": {
    "collapsed": true
   },
   "outputs": [],
   "source": [
    "teach_dict = {}\n",
    "for teach_by in set(data.teach_by):\n",
    "    teach_dict[teach_by] = Node(\"Teacher\", name=teach_by)\n",
    "    graph.create(teach_dict[teach_by])"
   ]
  },
  {
   "cell_type": "code",
   "execution_count": 1247,
   "metadata": {
    "collapsed": true
   },
   "outputs": [],
   "source": [
    "for i, row in data.drop_duplicates(subset=['created_by', 'teach_by']).iterrows():\n",
    "    x = teach_dict[row.teach_by]\n",
    "    y = institute_dict[row.created_by]\n",
    "    graph.create(Relationship(x, \"from\", y))"
   ]
  },
  {
   "cell_type": "code",
   "execution_count": 1248,
   "metadata": {
    "collapsed": false
   },
   "outputs": [
    {
     "data": {
      "text/html": [
       "<div>\n",
       "<style scoped>\n",
       "    .dataframe tbody tr th:only-of-type {\n",
       "        vertical-align: middle;\n",
       "    }\n",
       "\n",
       "    .dataframe tbody tr th {\n",
       "        vertical-align: top;\n",
       "    }\n",
       "\n",
       "    .dataframe thead th {\n",
       "        text-align: right;\n",
       "    }\n",
       "</style>\n",
       "<table border=\"1\" class=\"dataframe\">\n",
       "  <thead>\n",
       "    <tr style=\"text-align: right;\">\n",
       "      <th></th>\n",
       "      <th>uid</th>\n",
       "      <th>category</th>\n",
       "      <th>title</th>\n",
       "      <th>course_info</th>\n",
       "      <th>target_audience</th>\n",
       "      <th>created_by</th>\n",
       "      <th>teach_by</th>\n",
       "      <th>department</th>\n",
       "      <th>package_num</th>\n",
       "      <th>package_name</th>\n",
       "      <th>level</th>\n",
       "      <th>rating</th>\n",
       "    </tr>\n",
       "  </thead>\n",
       "  <tbody>\n",
       "    <tr>\n",
       "      <th>0</th>\n",
       "      <td>0</td>\n",
       "      <td>computer_security_and_networks</td>\n",
       "      <td>Bitcoin and Cryptocurrency Technologies</td>\n",
       "      <td>About this course: To really understand what i...</td>\n",
       "      <td>None</td>\n",
       "      <td>Princeton University</td>\n",
       "      <td>Arvind Narayanan</td>\n",
       "      <td>Computer Science</td>\n",
       "      <td>None</td>\n",
       "      <td>None</td>\n",
       "      <td>None</td>\n",
       "      <td>4.7</td>\n",
       "    </tr>\n",
       "    <tr>\n",
       "      <th>1</th>\n",
       "      <td>284</td>\n",
       "      <td>computer_security_and_networks</td>\n",
       "      <td>Cryptography I</td>\n",
       "      <td>About this course: Cryptography is an indispen...</td>\n",
       "      <td>None</td>\n",
       "      <td>Stanford University</td>\n",
       "      <td>Dan Boneh</td>\n",
       "      <td>Computer Science</td>\n",
       "      <td>None</td>\n",
       "      <td>None</td>\n",
       "      <td>None</td>\n",
       "      <td>4.8</td>\n",
       "    </tr>\n",
       "    <tr>\n",
       "      <th>2</th>\n",
       "      <td>157</td>\n",
       "      <td>computer_security_and_networks</td>\n",
       "      <td>Google Cloud Platform Fundamentals: Core Infra...</td>\n",
       "      <td>About this course: &lt;&lt;&lt; ATTENTION &gt;&gt;&gt; Learners ...</td>\n",
       "      <td>Who is this class for: This specialization is ...</td>\n",
       "      <td>Google Cloud</td>\n",
       "      <td>Google Cloud Training</td>\n",
       "      <td>None</td>\n",
       "      <td>1</td>\n",
       "      <td>Architecting with Google Cloud Platform Specia...</td>\n",
       "      <td>Intermediate</td>\n",
       "      <td>4.6</td>\n",
       "    </tr>\n",
       "    <tr>\n",
       "      <th>3</th>\n",
       "      <td>3</td>\n",
       "      <td>computer_security_and_networks</td>\n",
       "      <td>G Suite Administrator Fundamentals</td>\n",
       "      <td>About this course: G Suite Administrator Funda...</td>\n",
       "      <td>Who is this class for: This class is intended ...</td>\n",
       "      <td>Google Cloud</td>\n",
       "      <td>Google Cloud Training</td>\n",
       "      <td>None</td>\n",
       "      <td>None</td>\n",
       "      <td>None</td>\n",
       "      <td>Beginner</td>\n",
       "      <td>4.5</td>\n",
       "    </tr>\n",
       "    <tr>\n",
       "      <th>4</th>\n",
       "      <td>4</td>\n",
       "      <td>computer_security_and_networks</td>\n",
       "      <td>Usable Security</td>\n",
       "      <td>About this course: This course focuses on how ...</td>\n",
       "      <td>None</td>\n",
       "      <td>University of Maryland, College Park</td>\n",
       "      <td>Jennifer Golbeck</td>\n",
       "      <td>Human-Computer Interaction Lab</td>\n",
       "      <td>1</td>\n",
       "      <td>Cybersecurity Specialization</td>\n",
       "      <td>None</td>\n",
       "      <td>4.5</td>\n",
       "    </tr>\n",
       "  </tbody>\n",
       "</table>\n",
       "</div>"
      ],
      "text/plain": [
       "   uid                        category  \\\n",
       "0    0  computer_security_and_networks   \n",
       "1  284  computer_security_and_networks   \n",
       "2  157  computer_security_and_networks   \n",
       "3    3  computer_security_and_networks   \n",
       "4    4  computer_security_and_networks   \n",
       "\n",
       "                                               title  \\\n",
       "0            Bitcoin and Cryptocurrency Technologies   \n",
       "1                                     Cryptography I   \n",
       "2  Google Cloud Platform Fundamentals: Core Infra...   \n",
       "3                 G Suite Administrator Fundamentals   \n",
       "4                                    Usable Security   \n",
       "\n",
       "                                         course_info  \\\n",
       "0  About this course: To really understand what i...   \n",
       "1  About this course: Cryptography is an indispen...   \n",
       "2  About this course: <<< ATTENTION >>> Learners ...   \n",
       "3  About this course: G Suite Administrator Funda...   \n",
       "4  About this course: This course focuses on how ...   \n",
       "\n",
       "                                     target_audience  \\\n",
       "0                                               None   \n",
       "1                                               None   \n",
       "2  Who is this class for: This specialization is ...   \n",
       "3  Who is this class for: This class is intended ...   \n",
       "4                                               None   \n",
       "\n",
       "                             created_by               teach_by  \\\n",
       "0                  Princeton University       Arvind Narayanan   \n",
       "1                   Stanford University              Dan Boneh   \n",
       "2                          Google Cloud  Google Cloud Training   \n",
       "3                          Google Cloud  Google Cloud Training   \n",
       "4  University of Maryland, College Park       Jennifer Golbeck   \n",
       "\n",
       "                       department package_num  \\\n",
       "0                Computer Science        None   \n",
       "1                Computer Science        None   \n",
       "2                            None           1   \n",
       "3                            None        None   \n",
       "4  Human-Computer Interaction Lab           1   \n",
       "\n",
       "                                        package_name         level rating  \n",
       "0                                               None          None    4.7  \n",
       "1                                               None          None    4.8  \n",
       "2  Architecting with Google Cloud Platform Specia...  Intermediate    4.6  \n",
       "3                                               None      Beginner    4.5  \n",
       "4                      Cybersecurity Specialization           None    4.5  "
      ]
     },
     "execution_count": 1248,
     "metadata": {},
     "output_type": "execute_result"
    }
   ],
   "source": [
    "data_clear.head()"
   ]
  },
  {
   "cell_type": "code",
   "execution_count": 1249,
   "metadata": {
    "collapsed": false
   },
   "outputs": [
    {
     "data": {
      "text/html": [
       "<div>\n",
       "<style scoped>\n",
       "    .dataframe tbody tr th:only-of-type {\n",
       "        vertical-align: middle;\n",
       "    }\n",
       "\n",
       "    .dataframe tbody tr th {\n",
       "        vertical-align: top;\n",
       "    }\n",
       "\n",
       "    .dataframe thead th {\n",
       "        text-align: right;\n",
       "    }\n",
       "</style>\n",
       "<table border=\"1\" class=\"dataframe\">\n",
       "  <thead>\n",
       "    <tr style=\"text-align: right;\">\n",
       "      <th></th>\n",
       "      <th>title</th>\n",
       "      <th>created_by</th>\n",
       "      <th>uid</th>\n",
       "      <th>course_info</th>\n",
       "      <th>week_data_desc</th>\n",
       "      <th>week_data_title</th>\n",
       "      <th>week_data_video</th>\n",
       "      <th>week_data_video_str</th>\n",
       "    </tr>\n",
       "  </thead>\n",
       "  <tbody>\n",
       "    <tr>\n",
       "      <th>0</th>\n",
       "      <td>Bitcoin and Cryptocurrency Technologies</td>\n",
       "      <td>University at Buffalo, The State University of...</td>\n",
       "      <td>0</td>\n",
       "      <td>About this course: To really understand what i...</td>\n",
       "      <td>[Learn about cryptographic building blocks (\"p...</td>\n",
       "      <td>[Introduction to Crypto and Cryptocurrencies, ...</td>\n",
       "      <td>[Welcome, Cryptographic Hash Functions, Hash P...</td>\n",
       "      <td>welcome cryptographic hash function hash point...</td>\n",
       "    </tr>\n",
       "    <tr>\n",
       "      <th>1</th>\n",
       "      <td>Cryptography I</td>\n",
       "      <td>University at Buffalo, The State University of...</td>\n",
       "      <td>284</td>\n",
       "      <td>About this course: Cryptography is an indispen...</td>\n",
       "      <td>[Week 1.  This week's topic is an overview of ...</td>\n",
       "      <td>[Course overview and stream ciphers, Block Cip...</td>\n",
       "      <td>[Lecture slides for all six weeks, Course over...</td>\n",
       "      <td>lecture slide week course overview additional ...</td>\n",
       "    </tr>\n",
       "    <tr>\n",
       "      <th>2</th>\n",
       "      <td>Google Cloud Platform Fundamentals: Core Infra...</td>\n",
       "      <td>University at Buffalo, The State University of...</td>\n",
       "      <td>157</td>\n",
       "      <td>About this course: &lt;&lt;&lt; ATTENTION &gt;&gt;&gt; Learners ...</td>\n",
       "      <td>[, , , , , , , , , , , , , , , ]</td>\n",
       "      <td>[Welcome to GCP Fundamentals: Core Infrastruct...</td>\n",
       "      <td>[Welcome, Please read me, What is Google Cloud...</td>\n",
       "      <td>welcome read google cloud platform google clou...</td>\n",
       "    </tr>\n",
       "    <tr>\n",
       "      <th>3</th>\n",
       "      <td>G Suite Administrator Fundamentals</td>\n",
       "      <td>University at Buffalo, The State University of...</td>\n",
       "      <td>3</td>\n",
       "      <td>About this course: G Suite Administrator Funda...</td>\n",
       "      <td>[You will be setting up your G Suite account a...</td>\n",
       "      <td>[GETTING STARTED, USERS, SERVICES, SECURITY, D...</td>\n",
       "      <td>[Welcome and Getting Started Guide!, G Suite O...</td>\n",
       "      <td>welcome get start guide g suite overview intro...</td>\n",
       "    </tr>\n",
       "    <tr>\n",
       "      <th>4</th>\n",
       "      <td>Usable Security</td>\n",
       "      <td>University at Buffalo, The State University of...</td>\n",
       "      <td>4</td>\n",
       "      <td>About this course: This course focuses on how ...</td>\n",
       "      <td>[Fundamentals of Human-Computer Interaction: u...</td>\n",
       "      <td>[Week 1, Week 2, Week 3, Week 4, Week 5, Week ...</td>\n",
       "      <td>[Privacy Policy, Syllabus, Grading and Logisti...</td>\n",
       "      <td>privacy policy syllabus grading logistic week ...</td>\n",
       "    </tr>\n",
       "  </tbody>\n",
       "</table>\n",
       "</div>"
      ],
      "text/plain": [
       "                                               title  \\\n",
       "0            Bitcoin and Cryptocurrency Technologies   \n",
       "1                                     Cryptography I   \n",
       "2  Google Cloud Platform Fundamentals: Core Infra...   \n",
       "3                 G Suite Administrator Fundamentals   \n",
       "4                                    Usable Security   \n",
       "\n",
       "                                          created_by  uid  \\\n",
       "0  University at Buffalo, The State University of...    0   \n",
       "1  University at Buffalo, The State University of...  284   \n",
       "2  University at Buffalo, The State University of...  157   \n",
       "3  University at Buffalo, The State University of...    3   \n",
       "4  University at Buffalo, The State University of...    4   \n",
       "\n",
       "                                         course_info  \\\n",
       "0  About this course: To really understand what i...   \n",
       "1  About this course: Cryptography is an indispen...   \n",
       "2  About this course: <<< ATTENTION >>> Learners ...   \n",
       "3  About this course: G Suite Administrator Funda...   \n",
       "4  About this course: This course focuses on how ...   \n",
       "\n",
       "                                      week_data_desc  \\\n",
       "0  [Learn about cryptographic building blocks (\"p...   \n",
       "1  [Week 1.  This week's topic is an overview of ...   \n",
       "2                   [, , , , , , , , , , , , , , , ]   \n",
       "3  [You will be setting up your G Suite account a...   \n",
       "4  [Fundamentals of Human-Computer Interaction: u...   \n",
       "\n",
       "                                     week_data_title  \\\n",
       "0  [Introduction to Crypto and Cryptocurrencies, ...   \n",
       "1  [Course overview and stream ciphers, Block Cip...   \n",
       "2  [Welcome to GCP Fundamentals: Core Infrastruct...   \n",
       "3  [GETTING STARTED, USERS, SERVICES, SECURITY, D...   \n",
       "4  [Week 1, Week 2, Week 3, Week 4, Week 5, Week ...   \n",
       "\n",
       "                                     week_data_video  \\\n",
       "0  [Welcome, Cryptographic Hash Functions, Hash P...   \n",
       "1  [Lecture slides for all six weeks, Course over...   \n",
       "2  [Welcome, Please read me, What is Google Cloud...   \n",
       "3  [Welcome and Getting Started Guide!, G Suite O...   \n",
       "4  [Privacy Policy, Syllabus, Grading and Logisti...   \n",
       "\n",
       "                                 week_data_video_str  \n",
       "0  welcome cryptographic hash function hash point...  \n",
       "1  lecture slide week course overview additional ...  \n",
       "2  welcome read google cloud platform google clou...  \n",
       "3  welcome get start guide g suite overview intro...  \n",
       "4  privacy policy syllabus grading logistic week ...  "
      ]
     },
     "execution_count": 1249,
     "metadata": {},
     "output_type": "execute_result"
    }
   ],
   "source": [
    "data_detail.head()"
   ]
  },
  {
   "cell_type": "code",
   "execution_count": 1250,
   "metadata": {
    "collapsed": false,
    "scrolled": true
   },
   "outputs": [
    {
     "data": {
      "text/html": [
       "<div>\n",
       "<style scoped>\n",
       "    .dataframe tbody tr th:only-of-type {\n",
       "        vertical-align: middle;\n",
       "    }\n",
       "\n",
       "    .dataframe tbody tr th {\n",
       "        vertical-align: top;\n",
       "    }\n",
       "\n",
       "    .dataframe thead th {\n",
       "        text-align: right;\n",
       "    }\n",
       "</style>\n",
       "<table border=\"1\" class=\"dataframe\">\n",
       "  <thead>\n",
       "    <tr style=\"text-align: right;\">\n",
       "      <th></th>\n",
       "      <th>title</th>\n",
       "      <th>uid</th>\n",
       "      <th>relate_1</th>\n",
       "      <th>relate_2</th>\n",
       "      <th>relate_3</th>\n",
       "      <th>relate_4</th>\n",
       "      <th>relate_5</th>\n",
       "      <th>package_name</th>\n",
       "      <th>package_num</th>\n",
       "    </tr>\n",
       "  </thead>\n",
       "  <tbody>\n",
       "    <tr>\n",
       "      <th>0</th>\n",
       "      <td>Bitcoin and Cryptocurrency Technologies</td>\n",
       "      <td>0</td>\n",
       "      <td>Software Design Threats and Mitigations</td>\n",
       "      <td>Cryptographic Hash and Integrity Protection</td>\n",
       "      <td>Process Mining: Data science in Action</td>\n",
       "      <td>What is a Proof?</td>\n",
       "      <td>Build Your First Android App (Project-Centered...</td>\n",
       "      <td>None</td>\n",
       "      <td>None</td>\n",
       "    </tr>\n",
       "    <tr>\n",
       "      <th>1</th>\n",
       "      <td>Cryptography I</td>\n",
       "      <td>284</td>\n",
       "      <td>Cryptography</td>\n",
       "      <td>Symmetric Cryptography</td>\n",
       "      <td>Basic Cryptography and Programming with Crypto...</td>\n",
       "      <td>Asymmetric Cryptography and Key Management</td>\n",
       "      <td>Introduction to Cybersecurity for Business</td>\n",
       "      <td>None</td>\n",
       "      <td>None</td>\n",
       "    </tr>\n",
       "    <tr>\n",
       "      <th>2</th>\n",
       "      <td>Google Cloud Platform Fundamentals: Core Infra...</td>\n",
       "      <td>157</td>\n",
       "      <td>Getting Started With Application Development</td>\n",
       "      <td>Develop and Deploy Windows Applications on Goo...</td>\n",
       "      <td>Elastic Cloud Infrastructure: Containers and S...</td>\n",
       "      <td>Essential Cloud Infrastructure: Core Services</td>\n",
       "      <td>Google Cloud Platform Fundamentals for AWS Pro...</td>\n",
       "      <td>Architecting with Google Cloud Platform Specia...</td>\n",
       "      <td>1</td>\n",
       "    </tr>\n",
       "    <tr>\n",
       "      <th>3</th>\n",
       "      <td>G Suite Administrator Fundamentals</td>\n",
       "      <td>3</td>\n",
       "      <td>Introduction to Systems Engineering</td>\n",
       "      <td>The Unix Workbench</td>\n",
       "      <td>Econometrics: Methods and Applications</td>\n",
       "      <td>Front-End Web UI Frameworks and Tools: Bootstr...</td>\n",
       "      <td>Introduction to Logic</td>\n",
       "      <td>None</td>\n",
       "      <td>None</td>\n",
       "    </tr>\n",
       "    <tr>\n",
       "      <th>4</th>\n",
       "      <td>Usable Security</td>\n",
       "      <td>4</td>\n",
       "      <td>Data Science Ethics</td>\n",
       "      <td>Games, Sensors and Media</td>\n",
       "      <td>Privacy, Reputation, and Identity in a Digital...</td>\n",
       "      <td>Introduction to UI Design</td>\n",
       "      <td>Securing Digital Democracy</td>\n",
       "      <td>Cybersecurity Specialization</td>\n",
       "      <td>1</td>\n",
       "    </tr>\n",
       "  </tbody>\n",
       "</table>\n",
       "</div>"
      ],
      "text/plain": [
       "                                               title  uid  \\\n",
       "0            Bitcoin and Cryptocurrency Technologies    0   \n",
       "1                                     Cryptography I  284   \n",
       "2  Google Cloud Platform Fundamentals: Core Infra...  157   \n",
       "3                 G Suite Administrator Fundamentals    3   \n",
       "4                                    Usable Security    4   \n",
       "\n",
       "                                       relate_1  \\\n",
       "0       Software Design Threats and Mitigations   \n",
       "1                                  Cryptography   \n",
       "2  Getting Started With Application Development   \n",
       "3           Introduction to Systems Engineering   \n",
       "4                           Data Science Ethics   \n",
       "\n",
       "                                            relate_2  \\\n",
       "0        Cryptographic Hash and Integrity Protection   \n",
       "1                             Symmetric Cryptography   \n",
       "2  Develop and Deploy Windows Applications on Goo...   \n",
       "3                                 The Unix Workbench   \n",
       "4                           Games, Sensors and Media   \n",
       "\n",
       "                                            relate_3  \\\n",
       "0             Process Mining: Data science in Action   \n",
       "1  Basic Cryptography and Programming with Crypto...   \n",
       "2  Elastic Cloud Infrastructure: Containers and S...   \n",
       "3             Econometrics: Methods and Applications   \n",
       "4  Privacy, Reputation, and Identity in a Digital...   \n",
       "\n",
       "                                            relate_4  \\\n",
       "0                                   What is a Proof?   \n",
       "1         Asymmetric Cryptography and Key Management   \n",
       "2      Essential Cloud Infrastructure: Core Services   \n",
       "3  Front-End Web UI Frameworks and Tools: Bootstr...   \n",
       "4                          Introduction to UI Design   \n",
       "\n",
       "                                            relate_5  \\\n",
       "0  Build Your First Android App (Project-Centered...   \n",
       "1         Introduction to Cybersecurity for Business   \n",
       "2  Google Cloud Platform Fundamentals for AWS Pro...   \n",
       "3                              Introduction to Logic   \n",
       "4                         Securing Digital Democracy   \n",
       "\n",
       "                                        package_name package_num  \n",
       "0                                               None        None  \n",
       "1                                               None        None  \n",
       "2  Architecting with Google Cloud Platform Specia...           1  \n",
       "3                                               None        None  \n",
       "4                      Cybersecurity Specialization            1  "
      ]
     },
     "execution_count": 1250,
     "metadata": {},
     "output_type": "execute_result"
    }
   ],
   "source": [
    "df = pd.merge(title_relation_df, data_clear[['uid', 'package_name', 'package_num']], on='uid', how='left')\n",
    "df.head()"
   ]
  },
  {
   "cell_type": "code",
   "execution_count": 1252,
   "metadata": {
    "collapsed": true
   },
   "outputs": [],
   "source": [
    "for name, group in df.groupby('package_name')['uid']:\n",
    "    tmp = list(group)\n",
    "    for i, row in enumerate(tmp):\n",
    "        if i != 0:\n",
    "            x = course_dict[tmp[i-1]]\n",
    "            y = course_dict[row]\n",
    "            graph.create(Relationship(x, \"require\", y))"
   ]
  },
  {
   "cell_type": "code",
   "execution_count": 1253,
   "metadata": {
    "collapsed": false
   },
   "outputs": [
    {
     "ename": "KeyError",
     "evalue": "'Software Design Threats and Mitigations'",
     "output_type": "error",
     "traceback": [
      "\u001b[0;31m---------------------------------------------------------------------------\u001b[0m",
      "\u001b[0;31mKeyError\u001b[0m                                  Traceback (most recent call last)",
      "\u001b[0;32m<ipython-input-1253-15c370066068>\u001b[0m in \u001b[0;36m<module>\u001b[0;34m()\u001b[0m\n\u001b[1;32m      3\u001b[0m     \u001b[0;32mfor\u001b[0m \u001b[0mi\u001b[0m \u001b[0;32min\u001b[0m \u001b[0mrange\u001b[0m\u001b[0;34m(\u001b[0m\u001b[0;36m1\u001b[0m\u001b[0;34m,\u001b[0m \u001b[0;36m6\u001b[0m\u001b[0;34m)\u001b[0m\u001b[0;34m:\u001b[0m\u001b[0;34m\u001b[0m\u001b[0m\n\u001b[1;32m      4\u001b[0m         \u001b[0mx\u001b[0m \u001b[0;34m=\u001b[0m \u001b[0mcourse_dict\u001b[0m\u001b[0;34m[\u001b[0m\u001b[0mtitle\u001b[0m\u001b[0;34m]\u001b[0m\u001b[0;34m\u001b[0m\u001b[0m\n\u001b[0;32m----> 5\u001b[0;31m         \u001b[0my\u001b[0m \u001b[0;34m=\u001b[0m \u001b[0mcourse_dict\u001b[0m\u001b[0;34m[\u001b[0m\u001b[0mrow\u001b[0m\u001b[0;34m[\u001b[0m\u001b[0;34m'relate_%s'\u001b[0m \u001b[0;34m%\u001b[0m \u001b[0mi\u001b[0m\u001b[0;34m]\u001b[0m\u001b[0;34m]\u001b[0m\u001b[0;34m\u001b[0m\u001b[0m\n\u001b[0m\u001b[1;32m      6\u001b[0m         \u001b[0;32mif\u001b[0m \u001b[0mdf\u001b[0m\u001b[0;34m[\u001b[0m\u001b[0mdf\u001b[0m\u001b[0;34m.\u001b[0m\u001b[0mtitle\u001b[0m \u001b[0;34m==\u001b[0m \u001b[0mtitle\u001b[0m\u001b[0;34m]\u001b[0m\u001b[0;34m.\u001b[0m\u001b[0mpackage_name\u001b[0m\u001b[0;34m.\u001b[0m\u001b[0mvalues\u001b[0m\u001b[0;34m[\u001b[0m\u001b[0;36m0\u001b[0m\u001b[0;34m]\u001b[0m \u001b[0;34m!=\u001b[0m \u001b[0;32mNone\u001b[0m\u001b[0;34m:\u001b[0m\u001b[0;34m\u001b[0m\u001b[0m\n\u001b[1;32m      7\u001b[0m             \u001b[0;32mif\u001b[0m \u001b[0mdf\u001b[0m\u001b[0;34m[\u001b[0m\u001b[0mdf\u001b[0m\u001b[0;34m.\u001b[0m\u001b[0mtitle\u001b[0m \u001b[0;34m==\u001b[0m \u001b[0mrow\u001b[0m\u001b[0;34m[\u001b[0m\u001b[0;34m'relate_%s'\u001b[0m \u001b[0;34m%\u001b[0m \u001b[0mi\u001b[0m\u001b[0;34m]\u001b[0m\u001b[0;34m]\u001b[0m\u001b[0;34m.\u001b[0m\u001b[0mpackage_name\u001b[0m\u001b[0;34m.\u001b[0m\u001b[0mvalues\u001b[0m\u001b[0;34m[\u001b[0m\u001b[0;36m0\u001b[0m\u001b[0;34m]\u001b[0m \u001b[0;34m!=\u001b[0m \u001b[0mdf\u001b[0m\u001b[0;34m[\u001b[0m\u001b[0mdf\u001b[0m\u001b[0;34m.\u001b[0m\u001b[0mtitle\u001b[0m \u001b[0;34m==\u001b[0m \u001b[0mtitle\u001b[0m\u001b[0;34m]\u001b[0m\u001b[0;34m.\u001b[0m\u001b[0mpackage_name\u001b[0m\u001b[0;34m.\u001b[0m\u001b[0mvalues\u001b[0m\u001b[0;34m[\u001b[0m\u001b[0;36m0\u001b[0m\u001b[0;34m]\u001b[0m\u001b[0;34m:\u001b[0m\u001b[0;34m\u001b[0m\u001b[0m\n",
      "\u001b[0;31mKeyError\u001b[0m: 'Software Design Threats and Mitigations'"
     ]
    }
   ],
   "source": [
    "for i, row in title_relation_df.iterrows():\n",
    "    title = row['uid']\n",
    "    for i in range(1, 6):\n",
    "        x = course_dict[title]\n",
    "        row['relate_%s' % i]\n",
    "        y = course_dict[]\n",
    "        if df[df.title == title].package_name.values[0] != None:\n",
    "            if df[df.title == row['relate_%s' % i]].package_name.values[0] != df[df.title == title].package_name.values[0]:\n",
    "                graph.create(Relationship(x, \"similar\", y))\n",
    "        else:\n",
    "            graph.create(Relationship(x, \"similar\", y))"
   ]
  },
  {
   "cell_type": "code",
   "execution_count": null,
   "metadata": {
    "collapsed": true
   },
   "outputs": [],
   "source": [
    "from vis import draw\n",
    "\n",
    "options = {\"Teacher\": \"name\", 'Institue': 'name'}\n",
    "draw(graph,\"match p= (n:Course{name:'Usable Security'})-[]-() return p\", options)"
   ]
  },
  {
   "cell_type": "code",
   "execution_count": 748,
   "metadata": {
    "collapsed": false
   },
   "outputs": [
    {
     "data": {
      "text/html": [
       "<div>\n",
       "<style scoped>\n",
       "    .dataframe tbody tr th:only-of-type {\n",
       "        vertical-align: middle;\n",
       "    }\n",
       "\n",
       "    .dataframe tbody tr th {\n",
       "        vertical-align: top;\n",
       "    }\n",
       "\n",
       "    .dataframe thead th {\n",
       "        text-align: right;\n",
       "    }\n",
       "</style>\n",
       "<table border=\"1\" class=\"dataframe\">\n",
       "  <thead>\n",
       "    <tr style=\"text-align: right;\">\n",
       "      <th></th>\n",
       "      <th>title</th>\n",
       "      <th>UID</th>\n",
       "      <th>relate_1</th>\n",
       "      <th>relate_2</th>\n",
       "      <th>relate_3</th>\n",
       "      <th>relate_4</th>\n",
       "      <th>relate_5</th>\n",
       "    </tr>\n",
       "  </thead>\n",
       "  <tbody>\n",
       "    <tr>\n",
       "      <th>0</th>\n",
       "      <td>Bitcoin and Cryptocurrency Technologies</td>\n",
       "      <td>0</td>\n",
       "      <td>Software Design Threats and Mitigations</td>\n",
       "      <td>Cryptographic Hash and Integrity Protection</td>\n",
       "      <td>Process Mining: Data science in Action</td>\n",
       "      <td>What is a Proof?</td>\n",
       "      <td>Build Your First Android App (Project-Centered...</td>\n",
       "    </tr>\n",
       "    <tr>\n",
       "      <th>1</th>\n",
       "      <td>Cryptography I</td>\n",
       "      <td>1</td>\n",
       "      <td>Cryptography</td>\n",
       "      <td>Symmetric Cryptography</td>\n",
       "      <td>Basic Cryptography and Programming with Crypto...</td>\n",
       "      <td>Asymmetric Cryptography and Key Management</td>\n",
       "      <td>Introduction to Cybersecurity for Business</td>\n",
       "    </tr>\n",
       "    <tr>\n",
       "      <th>2</th>\n",
       "      <td>Google Cloud Platform Fundamentals: Core Infra...</td>\n",
       "      <td>2</td>\n",
       "      <td>Getting Started With Application Development</td>\n",
       "      <td>Develop and Deploy Windows Applications on Goo...</td>\n",
       "      <td>Elastic Cloud Infrastructure: Containers and S...</td>\n",
       "      <td>Essential Cloud Infrastructure: Core Services</td>\n",
       "      <td>Google Cloud Platform Fundamentals for AWS Pro...</td>\n",
       "    </tr>\n",
       "    <tr>\n",
       "      <th>3</th>\n",
       "      <td>G Suite Administrator Fundamentals</td>\n",
       "      <td>3</td>\n",
       "      <td>Introduction to Systems Engineering</td>\n",
       "      <td>The Unix Workbench</td>\n",
       "      <td>Econometrics: Methods and Applications</td>\n",
       "      <td>Front-End Web UI Frameworks and Tools: Bootstr...</td>\n",
       "      <td>Introduction to Logic</td>\n",
       "    </tr>\n",
       "    <tr>\n",
       "      <th>4</th>\n",
       "      <td>Usable Security</td>\n",
       "      <td>4</td>\n",
       "      <td>Data Science Ethics</td>\n",
       "      <td>Games, Sensors and Media</td>\n",
       "      <td>Privacy, Reputation, and Identity in a Digital...</td>\n",
       "      <td>Introduction to UI Design</td>\n",
       "      <td>Securing Digital Democracy</td>\n",
       "    </tr>\n",
       "  </tbody>\n",
       "</table>\n",
       "</div>"
      ],
      "text/plain": [
       "                                               title  UID  \\\n",
       "0            Bitcoin and Cryptocurrency Technologies    0   \n",
       "1                                     Cryptography I    1   \n",
       "2  Google Cloud Platform Fundamentals: Core Infra...    2   \n",
       "3                 G Suite Administrator Fundamentals    3   \n",
       "4                                    Usable Security    4   \n",
       "\n",
       "                                       relate_1  \\\n",
       "0       Software Design Threats and Mitigations   \n",
       "1                                  Cryptography   \n",
       "2  Getting Started With Application Development   \n",
       "3           Introduction to Systems Engineering   \n",
       "4                           Data Science Ethics   \n",
       "\n",
       "                                            relate_2  \\\n",
       "0        Cryptographic Hash and Integrity Protection   \n",
       "1                             Symmetric Cryptography   \n",
       "2  Develop and Deploy Windows Applications on Goo...   \n",
       "3                                 The Unix Workbench   \n",
       "4                           Games, Sensors and Media   \n",
       "\n",
       "                                            relate_3  \\\n",
       "0             Process Mining: Data science in Action   \n",
       "1  Basic Cryptography and Programming with Crypto...   \n",
       "2  Elastic Cloud Infrastructure: Containers and S...   \n",
       "3             Econometrics: Methods and Applications   \n",
       "4  Privacy, Reputation, and Identity in a Digital...   \n",
       "\n",
       "                                            relate_4  \\\n",
       "0                                   What is a Proof?   \n",
       "1         Asymmetric Cryptography and Key Management   \n",
       "2      Essential Cloud Infrastructure: Core Services   \n",
       "3  Front-End Web UI Frameworks and Tools: Bootstr...   \n",
       "4                          Introduction to UI Design   \n",
       "\n",
       "                                            relate_5  \n",
       "0  Build Your First Android App (Project-Centered...  \n",
       "1         Introduction to Cybersecurity for Business  \n",
       "2  Google Cloud Platform Fundamentals for AWS Pro...  \n",
       "3                              Introduction to Logic  \n",
       "4                         Securing Digital Democracy  "
      ]
     },
     "execution_count": 748,
     "metadata": {},
     "output_type": "execute_result"
    }
   ],
   "source": [
    "title_relation_df.head()"
   ]
  },
  {
   "cell_type": "code",
   "execution_count": null,
   "metadata": {
    "collapsed": true
   },
   "outputs": [],
   "source": [
    "from sklearn.cluster import KMeans\n",
    "from sklearn.decomposition import TruncatedSVD\n",
    "from sklearn.feature_extraction.text import TfidfTransformer\n",
    "from sklearn.pipeline import make_pipeline\n",
    "from sklearn.preprocessing import Normalizer\n",
    "\n",
    "svd = TruncatedSVD(100)\n",
    "normalizer = Normalizer(copy=False)\n",
    "lsa = make_pipeline(svd, normalizer)\n",
    "X = lsa.fit_transform(document_matrix)\n",
    "inertia_list = []  \n",
    "for i in range(2,15):\n",
    "    kmeans = KMeans(n_clusters=i).fit(X)\n",
    "    inertia_list.append(kmeans.inertia_)\n",
    "\n",
    "import matplotlib.pyplot as plt\n",
    "plt.plot(range(2,15), inertia_list, linestyle='-', marker='o')\n",
    "plt.show() "
   ]
  },
  {
   "cell_type": "code",
   "execution_count": null,
   "metadata": {
    "collapsed": true
   },
   "outputs": [],
   "source": [
    "![image.png](attachment:image.png)"
   ]
  },
  {
   "cell_type": "code",
   "execution_count": null,
   "metadata": {
    "collapsed": true
   },
   "outputs": [],
   "source": []
  },
  {
   "cell_type": "code",
   "execution_count": null,
   "metadata": {
    "collapsed": true
   },
   "outputs": [],
   "source": []
  },
  {
   "cell_type": "code",
   "execution_count": null,
   "metadata": {
    "collapsed": true
   },
   "outputs": [],
   "source": []
  },
  {
   "cell_type": "code",
   "execution_count": null,
   "metadata": {
    "collapsed": true
   },
   "outputs": [],
   "source": [
    "#IsDuplicated = data_to_mysql.duplicated()"
   ]
  },
  {
   "cell_type": "code",
   "execution_count": null,
   "metadata": {
    "collapsed": true
   },
   "outputs": [],
   "source": [
    "# duplicate_course=0\n",
    "# for i in range(len(data_to_mysql)):\n",
    "#     if IsDuplicated[i] == True:\n",
    "#         duplicate_course=duplicate_course+1\n",
    "#         #print(i)\n",
    "# print(duplicate_course)"
   ]
  },
  {
   "cell_type": "code",
   "execution_count": null,
   "metadata": {
    "collapsed": true
   },
   "outputs": [],
   "source": [
    "#data = data_to_mysql.drop_duplicates()"
   ]
  },
  {
   "cell_type": "code",
   "execution_count": null,
   "metadata": {
    "collapsed": true
   },
   "outputs": [],
   "source": [
    "#data_to_mysql.head()"
   ]
  },
  {
   "cell_type": "markdown",
   "metadata": {},
   "source": [
    "### --------------------------------------------------------------------------------"
   ]
  },
  {
   "cell_type": "code",
   "execution_count": null,
   "metadata": {
    "collapsed": true
   },
   "outputs": [],
   "source": [
    "### Testing"
   ]
  },
  {
   "cell_type": "code",
   "execution_count": null,
   "metadata": {
    "collapsed": true
   },
   "outputs": [],
   "source": [
    "# v=[]\n",
    "# for n in range(len(all_data)):\n",
    "#     for j in range(len(all_data[n]['week_data'])):     \n",
    "#         v.append(list((all_data[n]['week_data'][j]).values())[0])\n",
    "#         #a.append(pd.Series(v).str.cat(sep='')) "
   ]
  },
  {
   "cell_type": "code",
   "execution_count": null,
   "metadata": {
    "collapsed": true
   },
   "outputs": [],
   "source": [
    "# v= pd.Series(v).str.cat(sep='')"
   ]
  }
 ],
 "metadata": {
  "anaconda-cloud": {},
  "kernelspec": {
   "display_name": "Python [default]",
   "language": "python",
   "name": "python3"
  },
  "language_info": {
   "codemirror_mode": {
    "name": "ipython",
    "version": 3
   },
   "file_extension": ".py",
   "mimetype": "text/x-python",
   "name": "python",
   "nbconvert_exporter": "python",
   "pygments_lexer": "ipython3",
   "version": "3.5.2"
  }
 },
 "nbformat": 4,
 "nbformat_minor": 2
}

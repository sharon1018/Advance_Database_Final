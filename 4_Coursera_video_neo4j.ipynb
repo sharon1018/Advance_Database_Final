{
 "cells": [
  {
   "cell_type": "code",
   "execution_count": 663,
   "metadata": {},
   "outputs": [
    {
     "name": "stdout",
     "output_type": "stream",
     "text": [
      "The autoreload extension is already loaded. To reload it, use:\n",
      "  %reload_ext autoreload\n"
     ]
    }
   ],
   "source": [
    "%load_ext autoreload\n",
    "%autoreload 2\n",
    "# Supress default INFO logging  (Hide Info)\n",
    "\n",
    "import logging\n",
    "logger = logging.getLogger()\n",
    "logger.setLevel(logging.CRITICAL)"
   ]
  },
  {
   "cell_type": "code",
   "execution_count": null,
   "metadata": {},
   "outputs": [],
   "source": [
    "import logging\n",
    "import collections\n",
    "logging.root.handlers = []  # Jupyter messes up logging so needs a reset\n",
    "logging.basicConfig(format='%(asctime)s : %(levelname)s : %(message)s', level=logging.INFO)\n",
    "from smart_open import smart_open \n",
    "import pandas as pd\n",
    "import numpy as np\n",
    "from numpy import random\n",
    "from collections import Counter\n",
    "import heapq #check n largest\n",
    "import json\n",
    "import warnings\n",
    "from sqlalchemy import create_engine \n",
    "import spacy\n",
    "import nltk\n",
    "import seaborn as sns"
   ]
  },
  {
   "cell_type": "code",
   "execution_count": null,
   "metadata": {},
   "outputs": [],
   "source": [
    "def isEnglish(s):\n",
    "    try:\n",
    "        s.encode(encoding='utf-8').decode('ascii')\n",
    "    except UnicodeDecodeError:\n",
    "        return False\n",
    "    else:\n",
    "        return True"
   ]
  },
  {
   "cell_type": "code",
   "execution_count": null,
   "metadata": {},
   "outputs": [],
   "source": [
    "bath_path = r''\n",
    "\n",
    "computer_security_and_networks = json.load(open(bath_path + r'computer-security-and-networks.json', encoding='utf8'))\n",
    "algorithms = json.load(open(bath_path + r'algorithms.json', encoding='utf8'))\n",
    "cloud_computing = json.load(open(bath_path + r'cloud-computing.json', encoding='utf8'))\n",
    "data_management = json.load(open(bath_path + r'data-management.json', encoding='utf8'))\n",
    "design_and_product = json.load(open(bath_path + r'design-and-product.json', encoding='utf8'))\n",
    "electrical_engineering = json.load(open(bath_path + r'electrical-engineering.json', encoding='utf8'))\n",
    "math_and_logic = json.load(open(bath_path + r'math-and-logic.json', encoding='utf8'))\n",
    "mobile_and_web_development = json.load(open(bath_path + r'mobile-and-web-development.json', encoding='utf8'))\n",
    "networking = json.load(open(bath_path + r'networking.json', encoding='utf8'))\n",
    "probability_and_statistics = json.load(open(bath_path + r'probability-and-statistics.json', encoding='utf8'))\n",
    "security = json.load(open(bath_path + r'security.json', encoding='utf8'))\n",
    "machine_learning = json.load(open(bath_path + r'machine-learning.json', encoding='utf8'))\n",
    "data_analysis = json.load(open(bath_path + r'data-analysis.json', encoding='utf8'))\n",
    "software_development = json.load(open(bath_path + r'software-development.json', encoding='utf8'))\n",
    "\n",
    "all_data = computer_security_and_networks + \\\n",
    "algorithms + \\\n",
    "cloud_computing + \\\n",
    "data_management + \\\n",
    "design_and_product + \\\n",
    "electrical_engineering + \\\n",
    "math_and_logic + \\\n",
    "mobile_and_web_development + \\\n",
    "networking + \\\n",
    "probability_and_statistics + \\\n",
    "security + \\\n",
    "machine_learning + \\\n",
    "data_analysis + \\\n",
    "software_development"
   ]
  },
  {
   "cell_type": "code",
   "execution_count": null,
   "metadata": {},
   "outputs": [],
   "source": [
    "len(all_data)"
   ]
  },
  {
   "cell_type": "code",
   "execution_count": null,
   "metadata": {},
   "outputs": [],
   "source": [
    "title=[]; week_data=[]; target_audience=[]; created_by=[]; teach_by=[]\n",
    "week_data_title=[]; course_info=[]; department=[]; week_data_desc=[]\n",
    "package_num=[];package_name=[]; level=[]; rating=[]; index=[]\n",
    "# teach_by, week_data: 多值\n",
    "for n in range(len(all_data)):\n",
    "    for i in range(len(all_data[n]['teach_by'])):\n",
    "            title.append(all_data[n]['title'])\n",
    "            target_audience.append(all_data[n]['target_audience'])\n",
    "            created_by.append(all_data[n]['created_by'])\n",
    "            course_info.append(all_data[n]['course_info'])\n",
    "            package_num.append(all_data[n]['package_num'])\n",
    "            package_name.append(all_data[n]['package_name'])\n",
    "            level.append(all_data[n]['level'])\n",
    "            rating.append(all_data[n]['rating'])\n",
    "            teach_by.append(list((all_data[n]['teach_by'][i].values()))[0])  \n",
    "            department.append(list((all_data[n]['teach_by'][i].values()))[1])"
   ]
  },
  {
   "cell_type": "code",
   "execution_count": null,
   "metadata": {},
   "outputs": [],
   "source": [
    "data = pd.DataFrame({'title': title,\n",
    "                    'target_audience': target_audience,\n",
    "                    'created_by' : created_by,  \n",
    "                    'course_info': course_info,\n",
    "                    'teach_by': teach_by,\n",
    "                     'department': department,\n",
    "                     'level': level,\n",
    "                     'rating': rating,\n",
    "                     'package_num': package_num,\n",
    "                     'package_name': package_name          \n",
    "                    },\n",
    "                    columns = ['title', 'course_info', 'target_audience', 'created_by','teach_by',\n",
    "                               'department','package_num','package_name', 'level','rating'])"
   ]
  },
  {
   "cell_type": "code",
   "execution_count": null,
   "metadata": {},
   "outputs": [],
   "source": [
    "data"
   ]
  },
  {
   "cell_type": "code",
   "execution_count": null,
   "metadata": {},
   "outputs": [],
   "source": [
    "data =  data.drop_duplicates(subset='title')"
   ]
  },
  {
   "cell_type": "code",
   "execution_count": null,
   "metadata": {},
   "outputs": [],
   "source": [
    "for i, row in data.iterrows():\n",
    "    if not isEnglish(row.title):\n",
    "        data.drop(i, inplace=True)"
   ]
  },
  {
   "cell_type": "code",
   "execution_count": null,
   "metadata": {},
   "outputs": [],
   "source": [
    "len(data.title.unique())"
   ]
  },
  {
   "cell_type": "code",
   "execution_count": null,
   "metadata": {},
   "outputs": [],
   "source": [
    "title=[]; created_by=[]; course_info=[]\n",
    "data_title=[]; data_desc=[]; data_video=[]\n",
    "# teach_by, week_data: 多值\n",
    "for n in range(len(all_data)):\n",
    "    week_data_title=[];  week_data_desc=[];week_data_video=[]\n",
    "    title.append(all_data[n]['title'])\n",
    "    created_by.append(all_data[n]['created_by'])\n",
    "    for i in range(len(all_data[n]['week_data'])):\n",
    "        week_data_desc.append(all_data[n]['week_data'][i]['description'])\n",
    "        week_data_title.append(all_data[n]['week_data'][i]['title'])\n",
    "        week_data_video += all_data[n]['week_data'][i]['video']\n",
    "    data_title.append(week_data_title)\n",
    "    data_desc.append(week_data_desc)\n",
    "    data_video.append(week_data_video)"
   ]
  },
  {
   "cell_type": "code",
   "execution_count": null,
   "metadata": {},
   "outputs": [],
   "source": [
    "data_created_by = pd.DataFrame({'title': title,\n",
    "                    'created_by':created_by},\n",
    "                    columns = ['title', 'created_by'])\n",
    "\n",
    "data_detail = pd.DataFrame({     \n",
    "                    'week_data_desc': data_desc,\n",
    "                    'week_data_title': data_title,\n",
    "                    'week_data_video': data_video\n",
    "                    },\n",
    "                    columns = ['week_data_desc', 'week_data_title','week_data_video'])\n"
   ]
  },
  {
   "cell_type": "code",
   "execution_count": null,
   "metadata": {},
   "outputs": [],
   "source": [
    "data_created_by.drop_duplicates(subset= 'title', inplace=True)"
   ]
  },
  {
   "cell_type": "code",
   "execution_count": null,
   "metadata": {},
   "outputs": [],
   "source": [
    "len(data_created_by)"
   ]
  },
  {
   "cell_type": "code",
   "execution_count": null,
   "metadata": {},
   "outputs": [],
   "source": [
    "for i, row in data_created_by.iterrows():\n",
    "    if not isEnglish(row.title):\n",
    "        data_created_by.drop(i, inplace=True)"
   ]
  },
  {
   "cell_type": "code",
   "execution_count": null,
   "metadata": {},
   "outputs": [],
   "source": [
    "data_detail = pd.merge(data_created_by, data_detail, left_index=True, right_index=True, how=\"left\")"
   ]
  },
  {
   "cell_type": "code",
   "execution_count": null,
   "metadata": {},
   "outputs": [],
   "source": [
    "data_detail.head()"
   ]
  },
  {
   "cell_type": "code",
   "execution_count": null,
   "metadata": {},
   "outputs": [],
   "source": [
    "for i, row in data_detail.iterrows():\n",
    "    if len(row.week_data_video) == 0:\n",
    "        data_detail.drop(i, inplace=True)"
   ]
  },
  {
   "cell_type": "code",
   "execution_count": null,
   "metadata": {},
   "outputs": [],
   "source": [
    "data_detail = data_detail.reset_index(drop=True)"
   ]
  },
  {
   "cell_type": "code",
   "execution_count": null,
   "metadata": {},
   "outputs": [],
   "source": [
    "nlp = spacy.load('en')"
   ]
  },
  {
   "cell_type": "code",
   "execution_count": null,
   "metadata": {},
   "outputs": [],
   "source": [
    "week_video_list = []\n",
    "for video_data in data_detail.week_data_video:\n",
    "    video_str = ''\n",
    "    x = ' '.join(video_data)\n",
    "    doc = nlp(x.lower())\n",
    "    for token in doc:\n",
    "        if not token.is_stop and token.is_alpha:\n",
    "            video_str += token.lemma_\n",
    "            video_str += ' '\n",
    "    week_video_list.append(video_str)"
   ]
  },
  {
   "cell_type": "code",
   "execution_count": null,
   "metadata": {},
   "outputs": [],
   "source": [
    "data_detail['week_data_video_str'] = pd.Series(week_video_list)\n",
    "data_detail.dropna(inplace=True)\n",
    "data_detail = data_detail.reset_index(drop=True)"
   ]
  },
  {
   "cell_type": "code",
   "execution_count": null,
   "metadata": {},
   "outputs": [],
   "source": [
    "from sklearn.feature_extraction.text import TfidfVectorizer\n",
    "vectorize = TfidfVectorizer(max_df=150)\n",
    "bows = vectorize.fit(data_detail.week_data_video_str)\n",
    "document_matrix = bows.transform(data_detail.week_data_video_str).toarray()"
   ]
  },
  {
   "cell_type": "code",
   "execution_count": null,
   "metadata": {},
   "outputs": [],
   "source": [
    "document_matrix.shape"
   ]
  },
  {
   "cell_type": "code",
   "execution_count": null,
   "metadata": {},
   "outputs": [],
   "source": [
    "f = bows.get_feature_names()"
   ]
  },
  {
   "cell_type": "code",
   "execution_count": null,
   "metadata": {},
   "outputs": [],
   "source": [
    "from sklearn.metrics.pairwise import cosine_similarity\n",
    "result = cosine_similarity(document_matrix)"
   ]
  },
  {
   "cell_type": "code",
   "execution_count": null,
   "metadata": {},
   "outputs": [],
   "source": [
    "data_detail.loc[np.argsort(result[20])[::-1], :]"
   ]
  },
  {
   "cell_type": "code",
   "execution_count": null,
   "metadata": {},
   "outputs": [],
   "source": [
    "## build title & Top-5 relation\n",
    "\n",
    "def get_nth_relation(uid, n_th):\n",
    "    return data_detail.loc[np.argsort(result[uid])[::-1][n_th], :]['title']\n",
    "\n",
    "title_relation_df = pd.DataFrame(data_detail['title'])\n",
    "title_relation_df['UID'] = list(range(len(data_detail)))\n",
    "\n",
    "top_n = 5\n",
    "for i in range(1, top_n+1):\n",
    "    str_i = str(i)\n",
    "    title_relation_df['relate_'+str_i] = title_relation_df['UID'].apply(lambda x: get_nth_relation(x, i))\n",
    "\n",
    "title_relation_df.head(5)"
   ]
  },
  {
   "cell_type": "code",
   "execution_count": null,
   "metadata": {},
   "outputs": [],
   "source": [
    "df = pd.merge(title_relation_df, data, on='title', how='left')"
   ]
  },
  {
   "cell_type": "code",
   "execution_count": null,
   "metadata": {},
   "outputs": [],
   "source": [
    "df.head()"
   ]
  },
  {
   "cell_type": "code",
   "execution_count": null,
   "metadata": {},
   "outputs": [],
   "source": [
    "from py2neo import Graph\n",
    "\n",
    "graph = Graph(password='pwd')"
   ]
  },
  {
   "cell_type": "code",
   "execution_count": 686,
   "metadata": {},
   "outputs": [],
   "source": [
    "graph.delete_all()"
   ]
  },
  {
   "cell_type": "code",
   "execution_count": 687,
   "metadata": {},
   "outputs": [],
   "source": [
    "from py2neo import Node\n",
    "institute_dict = {}\n",
    "for created_by in set(data.created_by):\n",
    "    institute_dict[created_by] = Node(\"Institute\", name=created_by)\n",
    "    graph.create(institute_dict[created_by])"
   ]
  },
  {
   "cell_type": "code",
   "execution_count": 688,
   "metadata": {},
   "outputs": [
    {
     "data": {
      "text/plain": [
       "491"
      ]
     },
     "execution_count": 688,
     "metadata": {},
     "output_type": "execute_result"
    }
   ],
   "source": [
    "len(set(teach_dict))"
   ]
  },
  {
   "cell_type": "code",
   "execution_count": 689,
   "metadata": {},
   "outputs": [],
   "source": [
    "teach_dict = {}\n",
    "for teach_by in set(data.teach_by):\n",
    "    teach_dict[teach_by] = Node(\"Teacher\", name=teach_by)\n",
    "    graph.create(teach_dict[teach_by])"
   ]
  },
  {
   "cell_type": "code",
   "execution_count": 690,
   "metadata": {},
   "outputs": [],
   "source": [
    "from py2neo import Relationship\n",
    "for i, row in data.iterrows():\n",
    "    x = teach_dict[row.teach_by]\n",
    "    y = institute_dict[row.created_by]\n",
    "    graph.create(Relationship(x, \"from\", y))\n",
    "    "
   ]
  },
  {
   "cell_type": "code",
   "execution_count": 693,
   "metadata": {},
   "outputs": [],
   "source": [
    "course_dict = {}\n",
    "for i, row in df.iterrows():\n",
    "    course_dict[row.title] = Node(\"Course\", name=row.title, rating=row.rating, level=row.level)\n",
    "    graph.create(course_dict[row.title])"
   ]
  },
  {
   "cell_type": "code",
   "execution_count": 694,
   "metadata": {},
   "outputs": [],
   "source": [
    "for i, row  in data.iterrows():\n",
    "    if row.title in course_dict:\n",
    "        x = teach_dict[row.teach_by]\n",
    "        y = course_dict[row.title]\n",
    "        graph.create(Relationship(x, \"teach\", y))\n",
    "    \n",
    "    "
   ]
  },
  {
   "cell_type": "code",
   "execution_count": null,
   "metadata": {},
   "outputs": [],
   "source": [
    "data.group_by()"
   ]
  },
  {
   "cell_type": "code",
   "execution_count": 692,
   "metadata": {},
   "outputs": [
    {
     "data": {
      "text/html": [
       "\n",
       "        <iframe\n",
       "            width=\"100%\"\n",
       "            height=\"400\"\n",
       "            src=\"figure/graph-d2e74942-76eb-4065-8fc0-a5bed350fb06.html\"\n",
       "            frameborder=\"0\"\n",
       "            allowfullscreen\n",
       "        ></iframe>\n",
       "        "
      ],
      "text/plain": [
       "<IPython.lib.display.IFrame at 0x7fb155066278>"
      ]
     },
     "execution_count": 692,
     "metadata": {},
     "output_type": "execute_result"
    }
   ],
   "source": [
    "from vis import draw\n",
    "\n",
    "options = {\"Teacher\": \"name\"}\n",
    "draw(graph, options)\n",
    "\n"
   ]
  },
  {
   "cell_type": "code",
   "execution_count": 737,
   "metadata": {},
   "outputs": [],
   "source": [
    "df = df.sort_values(by=['package_name', 'package_num'])\n"
   ]
  },
  {
   "cell_type": "code",
   "execution_count": 739,
   "metadata": {},
   "outputs": [],
   "source": [
    "for name, group in df.groupby('package_name')['title']:\n",
    "    tmp = list(group)\n",
    "    for i, row in enumerate(tmp):\n",
    "        if i != 0:\n",
    "            x = course_dict[tmp[i-1]]\n",
    "            y = course_dict[row]\n",
    "            graph.create(Relationship(x, \"require\", y))\n",
    "            "
   ]
  },
  {
   "cell_type": "code",
   "execution_count": 744,
   "metadata": {},
   "outputs": [
    {
     "data": {
      "text/plain": [
       "403"
      ]
     },
     "execution_count": 744,
     "metadata": {},
     "output_type": "execute_result"
    }
   ],
   "source": [
    "for name, group in df.groupby('package_name')['title']:\n",
    "    tmp = list(group)\n",
    "    for i, row in enumerate(tmp):\n",
    "        if i != 0:\n",
    "            x = course_dict[tmp[i-1]]\n",
    "            y = course_dict[row]\n",
    "            graph.create(Relationship(x, \"require\", y))"
   ]
  },
  {
   "cell_type": "code",
   "execution_count": 783,
   "metadata": {},
   "outputs": [],
   "source": [
    "for i, row in title_relation_df.iterrows():\n",
    "    title = row['title']\n",
    "    for i in range(1, 6):\n",
    "        x = course_dict[title]\n",
    "        y = course_dict[row['relate_%s' % i]]\n",
    "        if df[df.title == title].package_name.values[0] != None:\n",
    "            if df[df.title == row['relate_%s' % i]].package_name.values[0] != df[df.title == title].package_name.values[0]:\n",
    "                graph.create(Relationship(x, \"similar\", y))\n",
    "        else:\n",
    "            graph.create(Relationship(x, \"similar\", y))"
   ]
  },
  {
   "cell_type": "code",
   "execution_count": 748,
   "metadata": {},
   "outputs": [
    {
     "data": {
      "text/html": [
       "<div>\n",
       "<style scoped>\n",
       "    .dataframe tbody tr th:only-of-type {\n",
       "        vertical-align: middle;\n",
       "    }\n",
       "\n",
       "    .dataframe tbody tr th {\n",
       "        vertical-align: top;\n",
       "    }\n",
       "\n",
       "    .dataframe thead th {\n",
       "        text-align: right;\n",
       "    }\n",
       "</style>\n",
       "<table border=\"1\" class=\"dataframe\">\n",
       "  <thead>\n",
       "    <tr style=\"text-align: right;\">\n",
       "      <th></th>\n",
       "      <th>title</th>\n",
       "      <th>UID</th>\n",
       "      <th>relate_1</th>\n",
       "      <th>relate_2</th>\n",
       "      <th>relate_3</th>\n",
       "      <th>relate_4</th>\n",
       "      <th>relate_5</th>\n",
       "    </tr>\n",
       "  </thead>\n",
       "  <tbody>\n",
       "    <tr>\n",
       "      <th>0</th>\n",
       "      <td>Bitcoin and Cryptocurrency Technologies</td>\n",
       "      <td>0</td>\n",
       "      <td>Software Design Threats and Mitigations</td>\n",
       "      <td>Cryptographic Hash and Integrity Protection</td>\n",
       "      <td>Process Mining: Data science in Action</td>\n",
       "      <td>What is a Proof?</td>\n",
       "      <td>Build Your First Android App (Project-Centered...</td>\n",
       "    </tr>\n",
       "    <tr>\n",
       "      <th>1</th>\n",
       "      <td>Cryptography I</td>\n",
       "      <td>1</td>\n",
       "      <td>Cryptography</td>\n",
       "      <td>Symmetric Cryptography</td>\n",
       "      <td>Basic Cryptography and Programming with Crypto...</td>\n",
       "      <td>Asymmetric Cryptography and Key Management</td>\n",
       "      <td>Introduction to Cybersecurity for Business</td>\n",
       "    </tr>\n",
       "    <tr>\n",
       "      <th>2</th>\n",
       "      <td>Google Cloud Platform Fundamentals: Core Infra...</td>\n",
       "      <td>2</td>\n",
       "      <td>Getting Started With Application Development</td>\n",
       "      <td>Develop and Deploy Windows Applications on Goo...</td>\n",
       "      <td>Elastic Cloud Infrastructure: Containers and S...</td>\n",
       "      <td>Essential Cloud Infrastructure: Core Services</td>\n",
       "      <td>Google Cloud Platform Fundamentals for AWS Pro...</td>\n",
       "    </tr>\n",
       "    <tr>\n",
       "      <th>3</th>\n",
       "      <td>G Suite Administrator Fundamentals</td>\n",
       "      <td>3</td>\n",
       "      <td>Introduction to Systems Engineering</td>\n",
       "      <td>The Unix Workbench</td>\n",
       "      <td>Econometrics: Methods and Applications</td>\n",
       "      <td>Front-End Web UI Frameworks and Tools: Bootstr...</td>\n",
       "      <td>Introduction to Logic</td>\n",
       "    </tr>\n",
       "    <tr>\n",
       "      <th>4</th>\n",
       "      <td>Usable Security</td>\n",
       "      <td>4</td>\n",
       "      <td>Data Science Ethics</td>\n",
       "      <td>Games, Sensors and Media</td>\n",
       "      <td>Privacy, Reputation, and Identity in a Digital...</td>\n",
       "      <td>Introduction to UI Design</td>\n",
       "      <td>Securing Digital Democracy</td>\n",
       "    </tr>\n",
       "  </tbody>\n",
       "</table>\n",
       "</div>"
      ],
      "text/plain": [
       "                                               title  UID  \\\n",
       "0            Bitcoin and Cryptocurrency Technologies    0   \n",
       "1                                     Cryptography I    1   \n",
       "2  Google Cloud Platform Fundamentals: Core Infra...    2   \n",
       "3                 G Suite Administrator Fundamentals    3   \n",
       "4                                    Usable Security    4   \n",
       "\n",
       "                                       relate_1  \\\n",
       "0       Software Design Threats and Mitigations   \n",
       "1                                  Cryptography   \n",
       "2  Getting Started With Application Development   \n",
       "3           Introduction to Systems Engineering   \n",
       "4                           Data Science Ethics   \n",
       "\n",
       "                                            relate_2  \\\n",
       "0        Cryptographic Hash and Integrity Protection   \n",
       "1                             Symmetric Cryptography   \n",
       "2  Develop and Deploy Windows Applications on Goo...   \n",
       "3                                 The Unix Workbench   \n",
       "4                           Games, Sensors and Media   \n",
       "\n",
       "                                            relate_3  \\\n",
       "0             Process Mining: Data science in Action   \n",
       "1  Basic Cryptography and Programming with Crypto...   \n",
       "2  Elastic Cloud Infrastructure: Containers and S...   \n",
       "3             Econometrics: Methods and Applications   \n",
       "4  Privacy, Reputation, and Identity in a Digital...   \n",
       "\n",
       "                                            relate_4  \\\n",
       "0                                   What is a Proof?   \n",
       "1         Asymmetric Cryptography and Key Management   \n",
       "2      Essential Cloud Infrastructure: Core Services   \n",
       "3  Front-End Web UI Frameworks and Tools: Bootstr...   \n",
       "4                          Introduction to UI Design   \n",
       "\n",
       "                                            relate_5  \n",
       "0  Build Your First Android App (Project-Centered...  \n",
       "1         Introduction to Cybersecurity for Business  \n",
       "2  Google Cloud Platform Fundamentals for AWS Pro...  \n",
       "3                              Introduction to Logic  \n",
       "4                         Securing Digital Democracy  "
      ]
     },
     "execution_count": 748,
     "metadata": {},
     "output_type": "execute_result"
    }
   ],
   "source": [
    "title_relation_df.head()"
   ]
  },
  {
   "cell_type": "code",
   "execution_count": 769,
   "metadata": {},
   "outputs": [
    {
     "data": {
      "text/html": [
       "<div>\n",
       "<style scoped>\n",
       "    .dataframe tbody tr th:only-of-type {\n",
       "        vertical-align: middle;\n",
       "    }\n",
       "\n",
       "    .dataframe tbody tr th {\n",
       "        vertical-align: top;\n",
       "    }\n",
       "\n",
       "    .dataframe thead th {\n",
       "        text-align: right;\n",
       "    }\n",
       "</style>\n",
       "<table border=\"1\" class=\"dataframe\">\n",
       "  <thead>\n",
       "    <tr style=\"text-align: right;\">\n",
       "      <th></th>\n",
       "      <th>index</th>\n",
       "      <th>title</th>\n",
       "      <th>UID</th>\n",
       "      <th>relate_1</th>\n",
       "      <th>relate_2</th>\n",
       "      <th>relate_3</th>\n",
       "      <th>relate_4</th>\n",
       "      <th>relate_5</th>\n",
       "      <th>course_info</th>\n",
       "      <th>target_audience</th>\n",
       "      <th>created_by</th>\n",
       "      <th>teach_by</th>\n",
       "      <th>department</th>\n",
       "      <th>package_num</th>\n",
       "      <th>package_name</th>\n",
       "      <th>level</th>\n",
       "      <th>rating</th>\n",
       "    </tr>\n",
       "  </thead>\n",
       "  <tbody>\n",
       "    <tr>\n",
       "      <th>585</th>\n",
       "      <td>564</td>\n",
       "      <td>Learn to Program: Crafting Quality Code</td>\n",
       "      <td>564</td>\n",
       "      <td>Algorithmic Toolbox</td>\n",
       "      <td>Programming Fundamentals</td>\n",
       "      <td>Divide and Conquer, Sorting and Searching, and...</td>\n",
       "      <td>Algorithmic Thinking (Part 2)</td>\n",
       "      <td>Graph Search, Shortest Paths, and Data Structures</td>\n",
       "      <td>About this course: Not all programs are create...</td>\n",
       "      <td>None</td>\n",
       "      <td>University of Toronto</td>\n",
       "      <td>Jennifer Campbell</td>\n",
       "      <td>Department of Computer Science</td>\n",
       "      <td>None</td>\n",
       "      <td>None</td>\n",
       "      <td>None</td>\n",
       "      <td>4.5</td>\n",
       "    </tr>\n",
       "    <tr>\n",
       "      <th>586</th>\n",
       "      <td>566</td>\n",
       "      <td>Audio Signal Processing for Music Applications</td>\n",
       "      <td>566</td>\n",
       "      <td>Digital Signal Processing</td>\n",
       "      <td>Creative Programming for Digital Media &amp; Mobil...</td>\n",
       "      <td>Fundamentals of Audio and Music Engineering: P...</td>\n",
       "      <td>3D Models for Virtual Reality</td>\n",
       "      <td>Responsive Website Tutorial and Examples</td>\n",
       "      <td>About this course: In this course you will lea...</td>\n",
       "      <td>Who is this class for: This course is primary ...</td>\n",
       "      <td>Universitat Pompeu Fabra of Barcelona, Stanfor...</td>\n",
       "      <td>Xavier Serra</td>\n",
       "      <td>Dept. of Information and Communication Technol...</td>\n",
       "      <td>None</td>\n",
       "      <td>None</td>\n",
       "      <td>Intermediate</td>\n",
       "      <td>4.9</td>\n",
       "    </tr>\n",
       "    <tr>\n",
       "      <th>587</th>\n",
       "      <td>567</td>\n",
       "      <td>A Developer's guide to Node-RED</td>\n",
       "      <td>567</td>\n",
       "      <td>A developer's guide to the Internet of Things ...</td>\n",
       "      <td>Server-side Development with NodeJS, Express a...</td>\n",
       "      <td>Accounting Analytics</td>\n",
       "      <td>Essential Cloud Infrastructure: Core Services</td>\n",
       "      <td>Graph Search, Shortest Paths, and Data Structures</td>\n",
       "      <td>About this course: &gt;&gt;&gt; By enrolling in this co...</td>\n",
       "      <td>Who is this class for: The course is aimed at ...</td>\n",
       "      <td>IBM</td>\n",
       "      <td>Brian Innes</td>\n",
       "      <td>IBM Digital Business Group</td>\n",
       "      <td>None</td>\n",
       "      <td>None</td>\n",
       "      <td>Intermediate</td>\n",
       "      <td>None</td>\n",
       "    </tr>\n",
       "    <tr>\n",
       "      <th>588</th>\n",
       "      <td>572</td>\n",
       "      <td>Build a Modern Computer from First Principles:...</td>\n",
       "      <td>572</td>\n",
       "      <td>Build a Modern Computer from First Principles:...</td>\n",
       "      <td>Game Theory II: Advanced Applications</td>\n",
       "      <td>iOS App Development Basics</td>\n",
       "      <td>Business Statistics and Analysis Capstone</td>\n",
       "      <td>Developing Android Apps with App Inventor</td>\n",
       "      <td>About this course: In this project-centered co...</td>\n",
       "      <td>Who is this class for: Do you want to understa...</td>\n",
       "      <td>Hebrew University of Jerusalem</td>\n",
       "      <td>Shimon Schocken</td>\n",
       "      <td>Computer Science</td>\n",
       "      <td>None</td>\n",
       "      <td>None</td>\n",
       "      <td>None</td>\n",
       "      <td>4.9</td>\n",
       "    </tr>\n",
       "    <tr>\n",
       "      <th>589</th>\n",
       "      <td>573</td>\n",
       "      <td>C++ For C Programmers, Part B</td>\n",
       "      <td>573</td>\n",
       "      <td>C++ For C Programmers, Part A</td>\n",
       "      <td>Programming Languages, Part A</td>\n",
       "      <td>Introduction to Programming with MATLAB</td>\n",
       "      <td>Cloud Computing Concepts: Part 2</td>\n",
       "      <td>Calculus: Single Variable Part 1 - Functions</td>\n",
       "      <td>About this course: This course is for experien...</td>\n",
       "      <td>None</td>\n",
       "      <td>University of California, Santa Cruz</td>\n",
       "      <td>Ira Pohl</td>\n",
       "      <td>Computer Science</td>\n",
       "      <td>None</td>\n",
       "      <td>None</td>\n",
       "      <td>None</td>\n",
       "      <td>4.2</td>\n",
       "    </tr>\n",
       "    <tr>\n",
       "      <th>590</th>\n",
       "      <td>577</td>\n",
       "      <td>Fundamentals of Parallelism on Intel Architecture</td>\n",
       "      <td>577</td>\n",
       "      <td>Global Warming II: Create Your Own Models in P...</td>\n",
       "      <td>Interactivity with JavaScript</td>\n",
       "      <td>Introduction to Embedded Systems Software and ...</td>\n",
       "      <td>Responsive Website Basics: Code with HTML, CSS...</td>\n",
       "      <td>Fundamentals of Digital Image and Video Proces...</td>\n",
       "      <td>About this course: This course will introduce ...</td>\n",
       "      <td>Who is this class for: For developers of machi...</td>\n",
       "      <td>Intel</td>\n",
       "      <td>Andrey Vladimirov</td>\n",
       "      <td>Colfax International</td>\n",
       "      <td>None</td>\n",
       "      <td>None</td>\n",
       "      <td>Intermediate</td>\n",
       "      <td>2.0</td>\n",
       "    </tr>\n",
       "    <tr>\n",
       "      <th>591</th>\n",
       "      <td>579</td>\n",
       "      <td>Creative Programming for Digital Media &amp; Mobil...</td>\n",
       "      <td>579</td>\n",
       "      <td>Approximation Algorithms Part I</td>\n",
       "      <td>Python for Genomic Data Science</td>\n",
       "      <td>The Raspberry Pi Platform and Python Programmi...</td>\n",
       "      <td>Functional Programming Principles in Scala</td>\n",
       "      <td>Dynamical Modeling Methods for Systems Biology</td>\n",
       "      <td>About this course: This course is for anyone w...</td>\n",
       "      <td>None</td>\n",
       "      <td>University of London, Goldsmiths, University o...</td>\n",
       "      <td>Dr Marco Gillies</td>\n",
       "      <td>Computing Department, Goldsmiths, University o...</td>\n",
       "      <td>None</td>\n",
       "      <td>None</td>\n",
       "      <td>None</td>\n",
       "      <td>4.7</td>\n",
       "    </tr>\n",
       "    <tr>\n",
       "      <th>592</th>\n",
       "      <td>580</td>\n",
       "      <td>Software Architecture for the Internet of Things</td>\n",
       "      <td>580</td>\n",
       "      <td>Software Development Processes and Methodologies</td>\n",
       "      <td>Requirements Gathering for Secure Software Dev...</td>\n",
       "      <td>Software Architecture</td>\n",
       "      <td>Design Patterns</td>\n",
       "      <td>Software Processes and Agile Practices</td>\n",
       "      <td>About this course: This course will teach you ...</td>\n",
       "      <td>Who is this class for: You're at the right add...</td>\n",
       "      <td>EIT Digital</td>\n",
       "      <td>Frank Gielen</td>\n",
       "      <td>UGent/IBCN: Internet Based Communication Networks</td>\n",
       "      <td>None</td>\n",
       "      <td>None</td>\n",
       "      <td>None</td>\n",
       "      <td>4.2</td>\n",
       "    </tr>\n",
       "    <tr>\n",
       "      <th>593</th>\n",
       "      <td>584</td>\n",
       "      <td>Quantitative Model Checking</td>\n",
       "      <td>584</td>\n",
       "      <td>An Intuitive Introduction to Probability</td>\n",
       "      <td>Social Media Data Analytics</td>\n",
       "      <td>Data-driven Astronomy</td>\n",
       "      <td>Designing, Running, and Analyzing Experiments</td>\n",
       "      <td>Control of Nonlinear Spacecraft Attitude Motion</td>\n",
       "      <td>About this course: The integration of ICT (inf...</td>\n",
       "      <td>Who is this class for: This course is meant fo...</td>\n",
       "      <td>EIT Digital</td>\n",
       "      <td>Anne Remke</td>\n",
       "      <td>Computer Science</td>\n",
       "      <td>None</td>\n",
       "      <td>None</td>\n",
       "      <td>Intermediate</td>\n",
       "      <td>4.5</td>\n",
       "    </tr>\n",
       "  </tbody>\n",
       "</table>\n",
       "</div>"
      ],
      "text/plain": [
       "     index                                              title  UID  \\\n",
       "585    564            Learn to Program: Crafting Quality Code  564   \n",
       "586    566     Audio Signal Processing for Music Applications  566   \n",
       "587    567                    A Developer's guide to Node-RED  567   \n",
       "588    572  Build a Modern Computer from First Principles:...  572   \n",
       "589    573                      C++ For C Programmers, Part B  573   \n",
       "590    577  Fundamentals of Parallelism on Intel Architecture  577   \n",
       "591    579  Creative Programming for Digital Media & Mobil...  579   \n",
       "592    580   Software Architecture for the Internet of Things  580   \n",
       "593    584                        Quantitative Model Checking  584   \n",
       "\n",
       "                                              relate_1  \\\n",
       "585                                Algorithmic Toolbox   \n",
       "586                          Digital Signal Processing   \n",
       "587  A developer's guide to the Internet of Things ...   \n",
       "588  Build a Modern Computer from First Principles:...   \n",
       "589                      C++ For C Programmers, Part A   \n",
       "590  Global Warming II: Create Your Own Models in P...   \n",
       "591                    Approximation Algorithms Part I   \n",
       "592   Software Development Processes and Methodologies   \n",
       "593           An Intuitive Introduction to Probability   \n",
       "\n",
       "                                              relate_2  \\\n",
       "585                           Programming Fundamentals   \n",
       "586  Creative Programming for Digital Media & Mobil...   \n",
       "587  Server-side Development with NodeJS, Express a...   \n",
       "588              Game Theory II: Advanced Applications   \n",
       "589                      Programming Languages, Part A   \n",
       "590                      Interactivity with JavaScript   \n",
       "591                    Python for Genomic Data Science   \n",
       "592  Requirements Gathering for Secure Software Dev...   \n",
       "593                        Social Media Data Analytics   \n",
       "\n",
       "                                              relate_3  \\\n",
       "585  Divide and Conquer, Sorting and Searching, and...   \n",
       "586  Fundamentals of Audio and Music Engineering: P...   \n",
       "587                               Accounting Analytics   \n",
       "588                         iOS App Development Basics   \n",
       "589            Introduction to Programming with MATLAB   \n",
       "590  Introduction to Embedded Systems Software and ...   \n",
       "591  The Raspberry Pi Platform and Python Programmi...   \n",
       "592                              Software Architecture   \n",
       "593                              Data-driven Astronomy   \n",
       "\n",
       "                                              relate_4  \\\n",
       "585                      Algorithmic Thinking (Part 2)   \n",
       "586                      3D Models for Virtual Reality   \n",
       "587      Essential Cloud Infrastructure: Core Services   \n",
       "588          Business Statistics and Analysis Capstone   \n",
       "589                   Cloud Computing Concepts: Part 2   \n",
       "590  Responsive Website Basics: Code with HTML, CSS...   \n",
       "591         Functional Programming Principles in Scala   \n",
       "592                                    Design Patterns   \n",
       "593      Designing, Running, and Analyzing Experiments   \n",
       "\n",
       "                                              relate_5  \\\n",
       "585  Graph Search, Shortest Paths, and Data Structures   \n",
       "586           Responsive Website Tutorial and Examples   \n",
       "587  Graph Search, Shortest Paths, and Data Structures   \n",
       "588          Developing Android Apps with App Inventor   \n",
       "589       Calculus: Single Variable Part 1 - Functions   \n",
       "590  Fundamentals of Digital Image and Video Proces...   \n",
       "591     Dynamical Modeling Methods for Systems Biology   \n",
       "592             Software Processes and Agile Practices   \n",
       "593    Control of Nonlinear Spacecraft Attitude Motion   \n",
       "\n",
       "                                           course_info  \\\n",
       "585  About this course: Not all programs are create...   \n",
       "586  About this course: In this course you will lea...   \n",
       "587  About this course: >>> By enrolling in this co...   \n",
       "588  About this course: In this project-centered co...   \n",
       "589  About this course: This course is for experien...   \n",
       "590  About this course: This course will introduce ...   \n",
       "591  About this course: This course is for anyone w...   \n",
       "592  About this course: This course will teach you ...   \n",
       "593  About this course: The integration of ICT (inf...   \n",
       "\n",
       "                                       target_audience  \\\n",
       "585                                               None   \n",
       "586  Who is this class for: This course is primary ...   \n",
       "587  Who is this class for: The course is aimed at ...   \n",
       "588  Who is this class for: Do you want to understa...   \n",
       "589                                               None   \n",
       "590  Who is this class for: For developers of machi...   \n",
       "591                                               None   \n",
       "592  Who is this class for: You're at the right add...   \n",
       "593  Who is this class for: This course is meant fo...   \n",
       "\n",
       "                                            created_by           teach_by  \\\n",
       "585                              University of Toronto  Jennifer Campbell   \n",
       "586  Universitat Pompeu Fabra of Barcelona, Stanfor...       Xavier Serra   \n",
       "587                                                IBM        Brian Innes   \n",
       "588                     Hebrew University of Jerusalem    Shimon Schocken   \n",
       "589               University of California, Santa Cruz           Ira Pohl   \n",
       "590                                              Intel  Andrey Vladimirov   \n",
       "591  University of London, Goldsmiths, University o...   Dr Marco Gillies   \n",
       "592                                       EIT Digital        Frank Gielen   \n",
       "593                                       EIT Digital          Anne Remke   \n",
       "\n",
       "                                            department package_num  \\\n",
       "585                     Department of Computer Science        None   \n",
       "586  Dept. of Information and Communication Technol...        None   \n",
       "587                         IBM Digital Business Group        None   \n",
       "588                                   Computer Science        None   \n",
       "589                                   Computer Science        None   \n",
       "590                               Colfax International        None   \n",
       "591  Computing Department, Goldsmiths, University o...        None   \n",
       "592  UGent/IBCN: Internet Based Communication Networks        None   \n",
       "593                                   Computer Science        None   \n",
       "\n",
       "    package_name         level rating  \n",
       "585         None          None    4.5  \n",
       "586         None  Intermediate    4.9  \n",
       "587         None  Intermediate   None  \n",
       "588         None          None    4.9  \n",
       "589         None          None    4.2  \n",
       "590         None  Intermediate    2.0  \n",
       "591         None          None    4.7  \n",
       "592         None          None    4.2  \n",
       "593         None  Intermediate    4.5  "
      ]
     },
     "execution_count": 769,
     "metadata": {},
     "output_type": "execute_result"
    }
   ],
   "source": [
    "df[-10:-1]"
   ]
  },
  {
   "cell_type": "code",
   "execution_count": null,
   "metadata": {},
   "outputs": [],
   "source": [
    "from sklearn.cluster import KMeans\n",
    "from sklearn.decomposition import TruncatedSVD\n",
    "from sklearn.feature_extraction.text import TfidfTransformer\n",
    "from sklearn.pipeline import make_pipeline\n",
    "from sklearn.preprocessing import Normalizer\n",
    "\n",
    "svd = TruncatedSVD(100)\n",
    "normalizer = Normalizer(copy=False)\n",
    "lsa = make_pipeline(svd, normalizer)\n",
    "X = lsa.fit_transform(document_matrix)\n",
    "inertia_list = []  \n",
    "for i in range(2,15):\n",
    "    kmeans = KMeans(n_clusters=i).fit(X)\n",
    "    inertia_list.append(kmeans.inertia_)\n",
    "\n",
    "import matplotlib.pyplot as plt\n",
    "plt.plot(range(2,15), inertia_list, linestyle='-', marker='o')\n",
    "plt.show() "
   ]
  },
  {
   "cell_type": "code",
   "execution_count": null,
   "metadata": {},
   "outputs": [],
   "source": [
    "![image.png](attachment:image.png)"
   ]
  },
  {
   "cell_type": "code",
   "execution_count": null,
   "metadata": {},
   "outputs": [],
   "source": []
  },
  {
   "cell_type": "code",
   "execution_count": null,
   "metadata": {},
   "outputs": [],
   "source": []
  },
  {
   "cell_type": "code",
   "execution_count": null,
   "metadata": {},
   "outputs": [],
   "source": []
  },
  {
   "cell_type": "code",
   "execution_count": null,
   "metadata": {},
   "outputs": [],
   "source": [
    "#IsDuplicated = data_to_mysql.duplicated()"
   ]
  },
  {
   "cell_type": "code",
   "execution_count": null,
   "metadata": {},
   "outputs": [],
   "source": [
    "# duplicate_course=0\n",
    "# for i in range(len(data_to_mysql)):\n",
    "#     if IsDuplicated[i] == True:\n",
    "#         duplicate_course=duplicate_course+1\n",
    "#         #print(i)\n",
    "# print(duplicate_course)"
   ]
  },
  {
   "cell_type": "code",
   "execution_count": null,
   "metadata": {},
   "outputs": [],
   "source": [
    "#data = data_to_mysql.drop_duplicates()"
   ]
  },
  {
   "cell_type": "code",
   "execution_count": null,
   "metadata": {},
   "outputs": [],
   "source": [
    "#data_to_mysql.head()"
   ]
  },
  {
   "cell_type": "markdown",
   "metadata": {},
   "source": [
    "### --------------------------------------------------------------------------------"
   ]
  },
  {
   "cell_type": "code",
   "execution_count": null,
   "metadata": {},
   "outputs": [],
   "source": [
    "### Testing"
   ]
  },
  {
   "cell_type": "code",
   "execution_count": null,
   "metadata": {},
   "outputs": [],
   "source": [
    "# v=[]\n",
    "# for n in range(len(all_data)):\n",
    "#     for j in range(len(all_data[n]['week_data'])):     \n",
    "#         v.append(list((all_data[n]['week_data'][j]).values())[0])\n",
    "#         #a.append(pd.Series(v).str.cat(sep='')) "
   ]
  },
  {
   "cell_type": "code",
   "execution_count": null,
   "metadata": {},
   "outputs": [],
   "source": [
    "# v= pd.Series(v).str.cat(sep='')"
   ]
  }
 ],
 "metadata": {
  "kernelspec": {
   "display_name": "Python 3",
   "language": "python",
   "name": "python3"
  },
  "language_info": {
   "codemirror_mode": {
    "name": "ipython",
    "version": 3
   },
   "file_extension": ".py",
   "mimetype": "text/x-python",
   "name": "python",
   "nbconvert_exporter": "python",
   "pygments_lexer": "ipython3",
   "version": "3.5.2"
  }
 },
 "nbformat": 4,
 "nbformat_minor": 2
}

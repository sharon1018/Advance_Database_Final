{
 "cells": [
  {
   "cell_type": "code",
<<<<<<< HEAD
   "execution_count": 7,
   "metadata": {},
   "outputs": [
    {
     "ename": "ImportError",
     "evalue": "No module named 'spacy'",
     "output_type": "error",
     "traceback": [
      "\u001b[1;31m---------------------------------------------------------------------------\u001b[0m",
      "\u001b[1;31mImportError\u001b[0m                               Traceback (most recent call last)",
      "\u001b[1;32m<ipython-input-7-1eef7a9eda44>\u001b[0m in \u001b[0;36m<module>\u001b[1;34m()\u001b[0m\n\u001b[0;32m     12\u001b[0m \u001b[1;32mimport\u001b[0m \u001b[0mwarnings\u001b[0m\u001b[1;33m\u001b[0m\u001b[0m\n\u001b[0;32m     13\u001b[0m \u001b[1;32mfrom\u001b[0m \u001b[0msqlalchemy\u001b[0m \u001b[1;32mimport\u001b[0m \u001b[0mcreate_engine\u001b[0m\u001b[1;33m\u001b[0m\u001b[0m\n\u001b[1;32m---> 14\u001b[1;33m \u001b[1;32mimport\u001b[0m \u001b[0mspacy\u001b[0m\u001b[1;33m\u001b[0m\u001b[0m\n\u001b[0m\u001b[0;32m     15\u001b[0m \u001b[1;32mimport\u001b[0m \u001b[0mnltk\u001b[0m\u001b[1;33m\u001b[0m\u001b[0m\n\u001b[0;32m     16\u001b[0m \u001b[1;32mimport\u001b[0m \u001b[0mseaborn\u001b[0m \u001b[1;32mas\u001b[0m \u001b[0msns\u001b[0m\u001b[1;33m\u001b[0m\u001b[0m\n",
      "\u001b[1;31mImportError\u001b[0m: No module named 'spacy'"
=======
   "execution_count": 1,
   "metadata": {},
   "outputs": [
    {
     "name": "stderr",
     "output_type": "stream",
     "text": [
      "/Users/thisray/anaconda/lib/python3.5/site-packages/matplotlib/font_manager.py:273: UserWarning: Matplotlib is building the font cache using fc-list. This may take a moment.\n",
      "  warnings.warn('Matplotlib is building the font cache using fc-list. This may take a moment.')\n",
      "/Users/thisray/anaconda/lib/python3.5/site-packages/matplotlib/font_manager.py:273: UserWarning: Matplotlib is building the font cache using fc-list. This may take a moment.\n",
      "  warnings.warn('Matplotlib is building the font cache using fc-list. This may take a moment.')\n"
>>>>>>> d26a9ca20b5ab4ec4bc3d5be1c7061864ed90c0c
     ]
    }
   ],
   "source": [
    "import logging\n",
    "import collections\n",
    "logging.root.handlers = []  # Jupyter messes up logging so needs a reset\n",
    "logging.basicConfig(format='%(asctime)s : %(levelname)s : %(message)s', level=logging.INFO)\n",
    "from smart_open import smart_open \n",
    "import pandas as pd\n",
    "import numpy as np\n",
    "from numpy import random\n",
    "from collections import Counter\n",
    "import heapq #check n largest\n",
    "import json\n",
    "import warnings\n",
    "from sqlalchemy import create_engine \n",
    "import spacy\n",
    "import nltk\n",
    "import seaborn as sns"
   ]
  },
  {
   "cell_type": "code",
<<<<<<< HEAD
   "execution_count": null,
   "metadata": {},
=======
   "execution_count": 2,
   "metadata": {
    "collapsed": true
   },
>>>>>>> d26a9ca20b5ab4ec4bc3d5be1c7061864ed90c0c
   "outputs": [],
   "source": [
    "def isEnglish(s):\n",
    "    try:\n",
    "        s.encode(encoding='utf-8').decode('ascii')\n",
    "    except UnicodeDecodeError:\n",
    "        return False\n",
    "    else:\n",
    "        return True"
   ]
  },
  {
   "cell_type": "code",
<<<<<<< HEAD
   "execution_count": null,
   "metadata": {},
=======
   "execution_count": 3,
   "metadata": {
    "collapsed": true
   },
>>>>>>> d26a9ca20b5ab4ec4bc3d5be1c7061864ed90c0c
   "outputs": [],
   "source": [
    "bath_path = r''\n",
    "\n",
    "computer_security_and_networks = json.load(open(bath_path + r'computer-security-and-networks.json', encoding='utf8'))\n",
    "algorithms = json.load(open(bath_path + r'algorithms.json', encoding='utf8'))\n",
    "cloud_computing = json.load(open(bath_path + r'cloud-computing.json', encoding='utf8'))\n",
    "data_management = json.load(open(bath_path + r'data-management.json', encoding='utf8'))\n",
    "design_and_product = json.load(open(bath_path + r'design-and-product.json', encoding='utf8'))\n",
    "electrical_engineering = json.load(open(bath_path + r'electrical-engineering.json', encoding='utf8'))\n",
    "math_and_logic = json.load(open(bath_path + r'math-and-logic.json', encoding='utf8'))\n",
    "mobile_and_web_development = json.load(open(bath_path + r'mobile-and-web-development.json', encoding='utf8'))\n",
    "networking = json.load(open(bath_path + r'networking.json', encoding='utf8'))\n",
    "probability_and_statistics = json.load(open(bath_path + r'probability-and-statistics.json', encoding='utf8'))\n",
    "security = json.load(open(bath_path + r'security.json', encoding='utf8'))\n",
    "machine_learning = json.load(open(bath_path + r'machine-learning.json', encoding='utf8'))\n",
    "data_analysis = json.load(open(bath_path + r'data-analysis.json', encoding='utf8'))\n",
    "software_development = json.load(open(bath_path + r'software-development.json', encoding='utf8'))\n",
    "\n",
    "all_data = computer_security_and_networks + \\\n",
    "algorithms + \\\n",
    "cloud_computing + \\\n",
    "data_management + \\\n",
    "design_and_product + \\\n",
    "electrical_engineering + \\\n",
    "math_and_logic + \\\n",
    "mobile_and_web_development + \\\n",
    "networking + \\\n",
    "probability_and_statistics + \\\n",
    "security + \\\n",
    "machine_learning + \\\n",
    "data_analysis + \\\n",
    "software_development"
   ]
  },
  {
   "cell_type": "code",
<<<<<<< HEAD
   "execution_count": null,
   "metadata": {},
   "outputs": [],
=======
   "execution_count": 4,
   "metadata": {},
   "outputs": [
    {
     "data": {
      "text/plain": [
       "881"
      ]
     },
     "execution_count": 4,
     "metadata": {},
     "output_type": "execute_result"
    }
   ],
>>>>>>> d26a9ca20b5ab4ec4bc3d5be1c7061864ed90c0c
   "source": [
    "len(all_data)"
   ]
  },
  {
   "cell_type": "code",
<<<<<<< HEAD
   "execution_count": null,
   "metadata": {},
=======
   "execution_count": 5,
   "metadata": {
    "collapsed": true
   },
>>>>>>> d26a9ca20b5ab4ec4bc3d5be1c7061864ed90c0c
   "outputs": [],
   "source": [
    "title=[]; week_data=[]; target_audience=[]; created_by=[]; teach_by=[]\n",
    "week_data_title=[]; course_info=[]; department=[]; week_data_desc=[]\n",
    "package_num=[];package_name=[]; level=[]; rating=[]; index=[]\n",
    "# teach_by, week_data: 多值\n",
    "for n in range(len(all_data)):\n",
    "    for i in range(len(all_data[n]['teach_by'])):\n",
    "            title.append(all_data[n]['title'])\n",
    "            target_audience.append(all_data[n]['target_audience'])\n",
    "            created_by.append(all_data[n]['created_by'])\n",
    "            course_info.append(all_data[n]['course_info'])\n",
    "            package_num.append(all_data[n]['package_num'])\n",
    "            package_name.append(all_data[n]['package_name'])\n",
    "            level.append(all_data[n]['level'])\n",
    "            rating.append(all_data[n]['rating'])\n",
    "            teach_by.append(list((all_data[n]['teach_by'][i].values()))[0])  \n",
    "            department.append(list((all_data[n]['teach_by'][i].values()))[1])"
   ]
  },
  {
   "cell_type": "code",
<<<<<<< HEAD
   "execution_count": null,
   "metadata": {},
=======
   "execution_count": 6,
   "metadata": {
    "collapsed": true
   },
>>>>>>> d26a9ca20b5ab4ec4bc3d5be1c7061864ed90c0c
   "outputs": [],
   "source": [
    "data = pd.DataFrame({'title': title,\n",
    "                    'target_audience': target_audience,\n",
    "                    'created_by' : created_by,  \n",
    "                    'course_info': course_info,\n",
    "                    'teach_by': teach_by,\n",
    "                     'department': department,\n",
    "                     'level': level,\n",
    "                     'rating': rating,\n",
    "                     'package_num': package_num,\n",
    "                     'package_name': package_name          \n",
    "                    },\n",
    "                    columns = ['title', 'course_info', 'target_audience', 'created_by','teach_by',\n",
    "                               'department','package_num','package_name', 'level','rating'])"
   ]
  },
  {
   "cell_type": "code",
<<<<<<< HEAD
   "execution_count": null,
   "metadata": {},
   "outputs": [],
=======
   "execution_count": 7,
   "metadata": {},
   "outputs": [
    {
     "data": {
      "text/html": [
       "<div>\n",
       "<table border=\"1\" class=\"dataframe\">\n",
       "  <thead>\n",
       "    <tr style=\"text-align: right;\">\n",
       "      <th></th>\n",
       "      <th>title</th>\n",
       "      <th>course_info</th>\n",
       "      <th>target_audience</th>\n",
       "      <th>created_by</th>\n",
       "      <th>teach_by</th>\n",
       "      <th>department</th>\n",
       "      <th>package_num</th>\n",
       "      <th>package_name</th>\n",
       "      <th>level</th>\n",
       "      <th>rating</th>\n",
       "    </tr>\n",
       "  </thead>\n",
       "  <tbody>\n",
       "    <tr>\n",
       "      <th>0</th>\n",
       "      <td>Bitcoin and Cryptocurrency Technologies</td>\n",
       "      <td>About this course: To really understand what i...</td>\n",
       "      <td>None</td>\n",
       "      <td>Princeton University</td>\n",
       "      <td>Computer Science</td>\n",
       "      <td>Arvind Narayanan</td>\n",
       "      <td>None</td>\n",
       "      <td>None</td>\n",
       "      <td>None</td>\n",
       "      <td>4.7</td>\n",
       "    </tr>\n",
       "    <tr>\n",
       "      <th>1</th>\n",
       "      <td>Cryptography I</td>\n",
       "      <td>About this course: Cryptography is an indispen...</td>\n",
       "      <td>None</td>\n",
       "      <td>Stanford University</td>\n",
       "      <td>Computer Science</td>\n",
       "      <td>Dan Boneh</td>\n",
       "      <td>None</td>\n",
       "      <td>None</td>\n",
       "      <td>None</td>\n",
       "      <td>4.8</td>\n",
       "    </tr>\n",
       "    <tr>\n",
       "      <th>2</th>\n",
       "      <td>Google Cloud Platform Fundamentals: Core Infra...</td>\n",
       "      <td>About this course: &lt;&lt;&lt; ATTENTION &gt;&gt;&gt; Learners ...</td>\n",
       "      <td>Who is this class for: This specialization is ...</td>\n",
       "      <td>Google Cloud</td>\n",
       "      <td>None</td>\n",
       "      <td>Google Cloud Training</td>\n",
       "      <td>1</td>\n",
       "      <td>Architecting with Google Cloud Platform Specia...</td>\n",
       "      <td>Intermediate</td>\n",
       "      <td>4.6</td>\n",
       "    </tr>\n",
       "    <tr>\n",
       "      <th>3</th>\n",
       "      <td>G Suite Administrator Fundamentals</td>\n",
       "      <td>About this course: G Suite Administrator Funda...</td>\n",
       "      <td>Who is this class for: This class is intended ...</td>\n",
       "      <td>Google Cloud</td>\n",
       "      <td>None</td>\n",
       "      <td>Google Cloud Training</td>\n",
       "      <td>None</td>\n",
       "      <td>None</td>\n",
       "      <td>Beginner</td>\n",
       "      <td>4.5</td>\n",
       "    </tr>\n",
       "    <tr>\n",
       "      <th>4</th>\n",
       "      <td>Usable Security</td>\n",
       "      <td>About this course: This course focuses on how ...</td>\n",
       "      <td>None</td>\n",
       "      <td>University of Maryland, College Park</td>\n",
       "      <td>Human-Computer Interaction Lab</td>\n",
       "      <td>Jennifer Golbeck</td>\n",
       "      <td>1</td>\n",
       "      <td>Cybersecurity Specialization</td>\n",
       "      <td>None</td>\n",
       "      <td>4.5</td>\n",
       "    </tr>\n",
       "  </tbody>\n",
       "</table>\n",
       "</div>"
      ],
      "text/plain": [
       "                                               title  \\\n",
       "0            Bitcoin and Cryptocurrency Technologies   \n",
       "1                                     Cryptography I   \n",
       "2  Google Cloud Platform Fundamentals: Core Infra...   \n",
       "3                 G Suite Administrator Fundamentals   \n",
       "4                                    Usable Security   \n",
       "\n",
       "                                         course_info  \\\n",
       "0  About this course: To really understand what i...   \n",
       "1  About this course: Cryptography is an indispen...   \n",
       "2  About this course: <<< ATTENTION >>> Learners ...   \n",
       "3  About this course: G Suite Administrator Funda...   \n",
       "4  About this course: This course focuses on how ...   \n",
       "\n",
       "                                     target_audience  \\\n",
       "0                                               None   \n",
       "1                                               None   \n",
       "2  Who is this class for: This specialization is ...   \n",
       "3  Who is this class for: This class is intended ...   \n",
       "4                                               None   \n",
       "\n",
       "                             created_by                        teach_by  \\\n",
       "0                  Princeton University                Computer Science   \n",
       "1                   Stanford University                Computer Science   \n",
       "2                          Google Cloud                            None   \n",
       "3                          Google Cloud                            None   \n",
       "4  University of Maryland, College Park  Human-Computer Interaction Lab   \n",
       "\n",
       "              department package_num  \\\n",
       "0       Arvind Narayanan        None   \n",
       "1              Dan Boneh        None   \n",
       "2  Google Cloud Training           1   \n",
       "3  Google Cloud Training        None   \n",
       "4       Jennifer Golbeck           1   \n",
       "\n",
       "                                        package_name         level rating  \n",
       "0                                               None          None    4.7  \n",
       "1                                               None          None    4.8  \n",
       "2  Architecting with Google Cloud Platform Specia...  Intermediate    4.6  \n",
       "3                                               None      Beginner    4.5  \n",
       "4                      Cybersecurity Specialization           None    4.5  "
      ]
     },
     "execution_count": 7,
     "metadata": {},
     "output_type": "execute_result"
    }
   ],
>>>>>>> d26a9ca20b5ab4ec4bc3d5be1c7061864ed90c0c
   "source": [
    "data.head()"
   ]
  },
  {
   "cell_type": "code",
<<<<<<< HEAD
   "execution_count": null,
   "metadata": {},
=======
   "execution_count": 8,
   "metadata": {
    "collapsed": true
   },
>>>>>>> d26a9ca20b5ab4ec4bc3d5be1c7061864ed90c0c
   "outputs": [],
   "source": [
    "data =  data.drop_duplicates()"
   ]
  },
  {
   "cell_type": "code",
<<<<<<< HEAD
   "execution_count": null,
   "metadata": {},
=======
   "execution_count": 9,
   "metadata": {
    "collapsed": true
   },
>>>>>>> d26a9ca20b5ab4ec4bc3d5be1c7061864ed90c0c
   "outputs": [],
   "source": [
    "for i, row in data.iterrows():\n",
    "    if not isEnglish(row.title):\n",
    "        data.drop(i, inplace=True)"
   ]
  },
  {
   "cell_type": "code",
<<<<<<< HEAD
   "execution_count": null,
   "metadata": {},
   "outputs": [],
=======
   "execution_count": 10,
   "metadata": {},
   "outputs": [
    {
     "data": {
      "text/plain": [
       "608"
      ]
     },
     "execution_count": 10,
     "metadata": {},
     "output_type": "execute_result"
    }
   ],
>>>>>>> d26a9ca20b5ab4ec4bc3d5be1c7061864ed90c0c
   "source": [
    "len(data.title.unique())"
   ]
  },
  {
   "cell_type": "code",
<<<<<<< HEAD
   "execution_count": null,
   "metadata": {},
=======
   "execution_count": 11,
   "metadata": {
    "collapsed": true
   },
>>>>>>> d26a9ca20b5ab4ec4bc3d5be1c7061864ed90c0c
   "outputs": [],
   "source": [
    "title=[]; created_by=[]; course_info=[]\n",
    "data_title=[]; data_desc=[]; data_video=[]\n",
    "# teach_by, week_data: 多值\n",
    "for n in range(len(all_data)):\n",
    "    week_data_title=[];  week_data_desc=[];week_data_video=[]\n",
    "    title.append(all_data[n]['title'])\n",
    "    created_by.append(all_data[n]['created_by'])\n",
    "    for i in range(len(all_data[n]['week_data'])):\n",
    "        week_data_desc.append(all_data[n]['week_data'][i]['description'])\n",
    "        week_data_title.append(all_data[n]['week_data'][i]['title'])\n",
    "        week_data_video += all_data[n]['week_data'][i]['video']\n",
    "    data_title.append(week_data_title)\n",
    "    data_desc.append(week_data_desc)\n",
    "    data_video.append(week_data_video)"
   ]
  },
  {
   "cell_type": "code",
<<<<<<< HEAD
   "execution_count": null,
   "metadata": {},
=======
   "execution_count": 12,
   "metadata": {
    "collapsed": true
   },
>>>>>>> d26a9ca20b5ab4ec4bc3d5be1c7061864ed90c0c
   "outputs": [],
   "source": [
    "data_created_by = pd.DataFrame({'title': title,\n",
    "                    'created_by':created_by},\n",
    "                    columns = ['title', 'created_by'])\n",
    "\n",
    "data_detail = pd.DataFrame({     \n",
    "                    'week_data_desc': data_desc,\n",
    "                    'week_data_title': data_title,\n",
    "                    'week_data_video': data_video\n",
    "                    },\n",
    "                    columns = ['week_data_desc', 'week_data_title','week_data_video'])\n"
   ]
  },
  {
   "cell_type": "code",
<<<<<<< HEAD
   "execution_count": null,
   "metadata": {},
=======
   "execution_count": 13,
   "metadata": {
    "collapsed": true
   },
>>>>>>> d26a9ca20b5ab4ec4bc3d5be1c7061864ed90c0c
   "outputs": [],
   "source": [
    "data_created_by.drop_duplicates(inplace=True)"
   ]
  },
  {
   "cell_type": "code",
<<<<<<< HEAD
   "execution_count": null,
   "metadata": {},
   "outputs": [],
=======
   "execution_count": 14,
   "metadata": {},
   "outputs": [
    {
     "data": {
      "text/plain": [
       "637"
      ]
     },
     "execution_count": 14,
     "metadata": {},
     "output_type": "execute_result"
    }
   ],
>>>>>>> d26a9ca20b5ab4ec4bc3d5be1c7061864ed90c0c
   "source": [
    "len(data_created_by)"
   ]
  },
  {
   "cell_type": "code",
<<<<<<< HEAD
   "execution_count": null,
   "metadata": {},
=======
   "execution_count": 15,
   "metadata": {
    "collapsed": true
   },
>>>>>>> d26a9ca20b5ab4ec4bc3d5be1c7061864ed90c0c
   "outputs": [],
   "source": [
    "for i, row in data_created_by.iterrows():\n",
    "    if not isEnglish(row.title):\n",
    "        data_created_by.drop(i, inplace=True)"
   ]
  },
  {
   "cell_type": "code",
<<<<<<< HEAD
   "execution_count": null,
   "metadata": {},
=======
   "execution_count": 16,
   "metadata": {
    "collapsed": true
   },
>>>>>>> d26a9ca20b5ab4ec4bc3d5be1c7061864ed90c0c
   "outputs": [],
   "source": [
    "data_detail = pd.merge(data_created_by, data_detail, left_index=True, right_index=True, how=\"left\")"
   ]
  },
  {
   "cell_type": "code",
<<<<<<< HEAD
   "execution_count": null,
   "metadata": {},
=======
   "execution_count": 17,
   "metadata": {
    "collapsed": true
   },
>>>>>>> d26a9ca20b5ab4ec4bc3d5be1c7061864ed90c0c
   "outputs": [],
   "source": [
    "for i, row in data_detail.iterrows():\n",
    "    if len(row.week_data_video) == 0:\n",
    "        data_detail.drop(i, inplace=True)"
   ]
  },
  {
   "cell_type": "code",
<<<<<<< HEAD
   "execution_count": null,
   "metadata": {},
=======
   "execution_count": 18,
   "metadata": {
    "collapsed": true
   },
>>>>>>> d26a9ca20b5ab4ec4bc3d5be1c7061864ed90c0c
   "outputs": [],
   "source": [
    "data_detail = data_detail.reset_index(drop=True)"
   ]
  },
  {
   "cell_type": "code",
<<<<<<< HEAD
   "execution_count": null,
=======
   "execution_count": 22,
>>>>>>> d26a9ca20b5ab4ec4bc3d5be1c7061864ed90c0c
   "metadata": {},
   "outputs": [],
   "source": [
    "## $ python -m spacy download en_core_web_sm\n",
    "nlp = spacy.load('en')"
   ]
  },
  {
   "cell_type": "code",
<<<<<<< HEAD
   "execution_count": null,
=======
   "execution_count": 23,
>>>>>>> d26a9ca20b5ab4ec4bc3d5be1c7061864ed90c0c
   "metadata": {},
   "outputs": [],
   "source": [
    "week_video_list = []\n",
    "for video_data in data_detail.week_data_video:\n",
    "    video_str = ''\n",
    "    x = ' '.join(video_data)\n",
    "    doc = nlp(x.lower())\n",
    "    for token in doc:\n",
    "        if not token.is_stop and token.is_alpha:\n",
    "            video_str += token.lemma_\n",
    "            video_str += ' '\n",
    "    week_video_list.append(video_str)"
   ]
  },
  {
   "cell_type": "code",
<<<<<<< HEAD
   "execution_count": null,
   "metadata": {},
=======
   "execution_count": 24,
   "metadata": {
    "collapsed": true
   },
>>>>>>> d26a9ca20b5ab4ec4bc3d5be1c7061864ed90c0c
   "outputs": [],
   "source": [
    "data_detail['week_data_video_str'] = pd.Series(week_video_list)\n",
    "data_detail.dropna(inplace=True)\n",
    "data_detail = data_detail.reset_index(drop=True)"
   ]
  },
  {
   "cell_type": "code",
<<<<<<< HEAD
   "execution_count": null,
   "metadata": {},
=======
   "execution_count": 25,
   "metadata": {
    "collapsed": true
   },
>>>>>>> d26a9ca20b5ab4ec4bc3d5be1c7061864ed90c0c
   "outputs": [],
   "source": [
    "from sklearn.feature_extraction.text import TfidfVectorizer\n",
    "vectorize = TfidfVectorizer(max_df=150)\n",
    "bows = vectorize.fit(data_detail.week_data_video_str)\n",
    "document_matrix = bows.transform(data_detail.week_data_video_str).toarray()"
   ]
  },
  {
   "cell_type": "code",
<<<<<<< HEAD
   "execution_count": null,
   "metadata": {},
   "outputs": [],
=======
   "execution_count": 26,
   "metadata": {},
   "outputs": [
    {
     "data": {
      "text/plain": [
       "(596, 8733)"
      ]
     },
     "execution_count": 26,
     "metadata": {},
     "output_type": "execute_result"
    }
   ],
>>>>>>> d26a9ca20b5ab4ec4bc3d5be1c7061864ed90c0c
   "source": [
    "document_matrix.shape"
   ]
  },
  {
   "cell_type": "code",
<<<<<<< HEAD
   "execution_count": null,
   "metadata": {},
=======
   "execution_count": 27,
   "metadata": {
    "collapsed": true
   },
>>>>>>> d26a9ca20b5ab4ec4bc3d5be1c7061864ed90c0c
   "outputs": [],
   "source": [
    "f = bows.get_feature_names()"
   ]
  },
  {
   "cell_type": "code",
<<<<<<< HEAD
   "execution_count": null,
=======
   "execution_count": 29,
>>>>>>> d26a9ca20b5ab4ec4bc3d5be1c7061864ed90c0c
   "metadata": {},
   "outputs": [
    {
     "data": {
      "text/plain": [
       "(596, 596)"
      ]
     },
     "execution_count": 29,
     "metadata": {},
     "output_type": "execute_result"
    }
   ],
   "source": [
    "from sklearn.metrics.pairwise import cosine_similarity\n",
    "result = cosine_similarity(document_matrix)\n",
    "\n",
    "result.shape"
   ]
  },
  {
   "cell_type": "code",
<<<<<<< HEAD
   "execution_count": null,
   "metadata": {},
   "outputs": [],
=======
   "execution_count": 35,
   "metadata": {
    "scrolled": false
   },
   "outputs": [
    {
     "data": {
      "text/html": [
       "<div>\n",
       "<table border=\"1\" class=\"dataframe\">\n",
       "  <thead>\n",
       "    <tr style=\"text-align: right;\">\n",
       "      <th></th>\n",
       "      <th>title</th>\n",
       "      <th>created_by</th>\n",
       "      <th>week_data_desc</th>\n",
       "      <th>week_data_title</th>\n",
       "      <th>week_data_video</th>\n",
       "      <th>week_data_video_str</th>\n",
       "    </tr>\n",
       "  </thead>\n",
       "  <tbody>\n",
       "    <tr>\n",
       "      <th>20</th>\n",
       "      <td>Introduction to Cybersecurity for Business</td>\n",
       "      <td>University of Colorado System</td>\n",
       "      <td>[Understand the basics of computer security fo...</td>\n",
       "      <td>[What is Practical Computer Security, The CIA ...</td>\n",
       "      <td>[Welcome!, About the Instructor, Glossary of C...</td>\n",
       "      <td>welcome instructor glossary computer security ...</td>\n",
       "    </tr>\n",
       "    <tr>\n",
       "      <th>13</th>\n",
       "      <td>Information Security: Context and Introduction</td>\n",
       "      <td>University of London</td>\n",
       "      <td>[, This module introduces cryptography, which ...</td>\n",
       "      <td>[Introduction to Information Security, Introdu...</td>\n",
       "      <td>[An overview, What are you hoping to achieve i...</td>\n",
       "      <td>overview hop achieve course information securi...</td>\n",
       "    </tr>\n",
       "    <tr>\n",
       "      <th>6</th>\n",
       "      <td>Cybersecurity and Its Ten Domains</td>\n",
       "      <td>University System of Georgia</td>\n",
       "      <td>[Checkout our marquee speaker. She's the Chief...</td>\n",
       "      <td>[Welcome and Course Overview, Introduction to ...</td>\n",
       "      <td>[Welcome to \"Cybersecurity and Its Ten Domains...</td>\n",
       "      <td>welcome cybersecurity domain welcome course im...</td>\n",
       "    </tr>\n",
       "    <tr>\n",
       "      <th>408</th>\n",
       "      <td>Cyber Security in Manufacturing</td>\n",
       "      <td>University at Buffalo, The State University of...</td>\n",
       "      <td>[The purpose of this module is to introduce yo...</td>\n",
       "      <td>[Introduction to Digital Manufacturing Securit...</td>\n",
       "      <td>[Course Introduction, Digital Manufacturing Se...</td>\n",
       "      <td>course introduction digital manufacture securi...</td>\n",
       "    </tr>\n",
       "    <tr>\n",
       "      <th>49</th>\n",
       "      <td>Enterprise and Infrastructure Security</td>\n",
       "      <td>New York University Tandon School of Engineering</td>\n",
       "      <td>[This module includes an introduction to many ...</td>\n",
       "      <td>[Security Awareness, Compliance, Assessments, ...</td>\n",
       "      <td>[Introduction: What You Will Learn from This C...</td>\n",
       "      <td>introduction learn course cyber security assig...</td>\n",
       "    </tr>\n",
       "  </tbody>\n",
       "</table>\n",
       "</div>"
      ],
      "text/plain": [
       "                                              title  \\\n",
       "20       Introduction to Cybersecurity for Business   \n",
       "13   Information Security: Context and Introduction   \n",
       "6                 Cybersecurity and Its Ten Domains   \n",
       "408               Cyber Security in Manufacturing     \n",
       "49           Enterprise and Infrastructure Security   \n",
       "\n",
       "                                            created_by  \\\n",
       "20                       University of Colorado System   \n",
       "13                                University of London   \n",
       "6                         University System of Georgia   \n",
       "408  University at Buffalo, The State University of...   \n",
       "49    New York University Tandon School of Engineering   \n",
       "\n",
       "                                        week_data_desc  \\\n",
       "20   [Understand the basics of computer security fo...   \n",
       "13   [, This module introduces cryptography, which ...   \n",
       "6    [Checkout our marquee speaker. She's the Chief...   \n",
       "408  [The purpose of this module is to introduce yo...   \n",
       "49   [This module includes an introduction to many ...   \n",
       "\n",
       "                                       week_data_title  \\\n",
       "20   [What is Practical Computer Security, The CIA ...   \n",
       "13   [Introduction to Information Security, Introdu...   \n",
       "6    [Welcome and Course Overview, Introduction to ...   \n",
       "408  [Introduction to Digital Manufacturing Securit...   \n",
       "49   [Security Awareness, Compliance, Assessments, ...   \n",
       "\n",
       "                                       week_data_video  \\\n",
       "20   [Welcome!, About the Instructor, Glossary of C...   \n",
       "13   [An overview, What are you hoping to achieve i...   \n",
       "6    [Welcome to \"Cybersecurity and Its Ten Domains...   \n",
       "408  [Course Introduction, Digital Manufacturing Se...   \n",
       "49   [Introduction: What You Will Learn from This C...   \n",
       "\n",
       "                                   week_data_video_str  \n",
       "20   welcome instructor glossary computer security ...  \n",
       "13   overview hop achieve course information securi...  \n",
       "6    welcome cybersecurity domain welcome course im...  \n",
       "408  course introduction digital manufacture securi...  \n",
       "49   introduction learn course cyber security assig...  "
      ]
     },
     "execution_count": 35,
     "metadata": {},
     "output_type": "execute_result"
    }
   ],
   "source": [
    "data_detail.loc[np.argsort(result[20])[::-1][:5], :]"
   ]
  },
  {
   "cell_type": "code",
   "execution_count": 50,
   "metadata": {},
   "outputs": [
    {
     "data": {
      "text/plain": [
       "'Software Requirements Prioritization: Risk Analysis'"
      ]
     },
     "execution_count": 50,
     "metadata": {},
     "output_type": "execute_result"
    }
   ],
   "source": [
    "data_detail.loc[np.argsort(result[20])[::-1][5], :]['title']"
   ]
  },
  {
   "cell_type": "code",
   "execution_count": null,
   "metadata": {
    "collapsed": true
   },
   "outputs": [],
   "source": []
  },
  {
   "cell_type": "code",
   "execution_count": 54,
   "metadata": {},
   "outputs": [
    {
     "data": {
      "text/html": [
       "<div>\n",
       "<table border=\"1\" class=\"dataframe\">\n",
       "  <thead>\n",
       "    <tr style=\"text-align: right;\">\n",
       "      <th></th>\n",
       "      <th>title</th>\n",
       "      <th>UID</th>\n",
       "      <th>relate_1</th>\n",
       "      <th>relate_2</th>\n",
       "      <th>relate_3</th>\n",
       "      <th>relate_4</th>\n",
       "      <th>relate_5</th>\n",
       "    </tr>\n",
       "  </thead>\n",
       "  <tbody>\n",
       "    <tr>\n",
       "      <th>0</th>\n",
       "      <td>Bitcoin and Cryptocurrency Technologies</td>\n",
       "      <td>0</td>\n",
       "      <td>Software Design Threats and Mitigations</td>\n",
       "      <td>Cryptographic Hash and Integrity Protection</td>\n",
       "      <td>Process Mining: Data science in Action</td>\n",
       "      <td>What is a Proof?</td>\n",
       "      <td>Build Your First Android App (Project-Centered...</td>\n",
       "    </tr>\n",
       "    <tr>\n",
       "      <th>1</th>\n",
       "      <td>Cryptography I</td>\n",
       "      <td>1</td>\n",
       "      <td>Cryptography</td>\n",
       "      <td>Symmetric Cryptography</td>\n",
       "      <td>Basic Cryptography and Programming with Crypto...</td>\n",
       "      <td>Asymmetric Cryptography and Key Management</td>\n",
       "      <td>Introduction to Cybersecurity for Business</td>\n",
       "    </tr>\n",
       "    <tr>\n",
       "      <th>2</th>\n",
       "      <td>Google Cloud Platform Fundamentals: Core Infra...</td>\n",
       "      <td>2</td>\n",
       "      <td>Getting Started With Application Development</td>\n",
       "      <td>Develop and Deploy Windows Applications on Goo...</td>\n",
       "      <td>Elastic Cloud Infrastructure: Containers and S...</td>\n",
       "      <td>Essential Cloud Infrastructure: Core Services</td>\n",
       "      <td>Google Cloud Platform Fundamentals for AWS Pro...</td>\n",
       "    </tr>\n",
       "    <tr>\n",
       "      <th>3</th>\n",
       "      <td>G Suite Administrator Fundamentals</td>\n",
       "      <td>3</td>\n",
       "      <td>Introduction to Systems Engineering</td>\n",
       "      <td>The Unix Workbench</td>\n",
       "      <td>Econometrics: Methods and Applications</td>\n",
       "      <td>Front-End Web UI Frameworks and Tools: Bootstr...</td>\n",
       "      <td>Introduction to Logic</td>\n",
       "    </tr>\n",
       "    <tr>\n",
       "      <th>4</th>\n",
       "      <td>Usable Security</td>\n",
       "      <td>4</td>\n",
       "      <td>Data Science Ethics</td>\n",
       "      <td>Games, Sensors and Media</td>\n",
       "      <td>Privacy, Reputation, and Identity in a Digital...</td>\n",
       "      <td>Introduction to UI Design</td>\n",
       "      <td>Securing Digital Democracy</td>\n",
       "    </tr>\n",
       "    <tr>\n",
       "      <th>5</th>\n",
       "      <td>Internet Connection: How to Get Online?</td>\n",
       "      <td>5</td>\n",
       "      <td>Network Protocols and Architecture</td>\n",
       "      <td>Data Communications and Network Services</td>\n",
       "      <td>Packet Switching Networks and Algorithms</td>\n",
       "      <td>Home Networking Basics</td>\n",
       "      <td>Introduction to Cisco Networking</td>\n",
       "    </tr>\n",
       "    <tr>\n",
       "      <th>6</th>\n",
       "      <td>Cybersecurity and Its Ten Domains</td>\n",
       "      <td>6</td>\n",
       "      <td>Information Security: Context and Introduction</td>\n",
       "      <td>Cyber Security in Manufacturing</td>\n",
       "      <td>The Business of Cybersecurity Capstone</td>\n",
       "      <td>Introduction to Cybersecurity for Business</td>\n",
       "      <td>Enterprise and Infrastructure Security</td>\n",
       "    </tr>\n",
       "    <tr>\n",
       "      <th>7</th>\n",
       "      <td>Introduction to Cyber Attacks</td>\n",
       "      <td>7</td>\n",
       "      <td>Cyber Attack Countermeasures</td>\n",
       "      <td>Real-Time Cyber Threat Detection and Mitigation</td>\n",
       "      <td>Enterprise and Infrastructure Security</td>\n",
       "      <td>Cybersecurity and the X-Factor</td>\n",
       "      <td>Information Security: Context and Introduction</td>\n",
       "    </tr>\n",
       "    <tr>\n",
       "      <th>8</th>\n",
       "      <td>Introduction to TCP/IP</td>\n",
       "      <td>8</td>\n",
       "      <td>Internet Emerging Technologies</td>\n",
       "      <td>TCP/IP and Advanced Topics</td>\n",
       "      <td>Cybersecurity and the Internet of Things</td>\n",
       "      <td>Fundamentals of Network Communication</td>\n",
       "      <td>International Cyber Conflicts</td>\n",
       "    </tr>\n",
       "    <tr>\n",
       "      <th>9</th>\n",
       "      <td>Essential Cloud Infrastructure: Foundation</td>\n",
       "      <td>9</td>\n",
       "      <td>Elastic Cloud Infrastructure: Scaling and Auto...</td>\n",
       "      <td>Google Cloud Platform Big Data and Machine Lea...</td>\n",
       "      <td>Essential Cloud Infrastructure: Core Services</td>\n",
       "      <td>Elastic Cloud Infrastructure: Containers and S...</td>\n",
       "      <td>Serverless Machine Learning with Tensorflow on...</td>\n",
       "    </tr>\n",
       "    <tr>\n",
       "      <th>10</th>\n",
       "      <td>Software Security</td>\n",
       "      <td>10</td>\n",
       "      <td>Hacking and Patching</td>\n",
       "      <td>Cybersecurity and Its Ten Domains</td>\n",
       "      <td>Information Security: Context and Introduction</td>\n",
       "      <td>Introduction to Cybersecurity for Business</td>\n",
       "      <td>Design and Analyze Secure Networked Systems</td>\n",
       "    </tr>\n",
       "    <tr>\n",
       "      <th>11</th>\n",
       "      <td>Essential Cloud Infrastructure: Core Services</td>\n",
       "      <td>11</td>\n",
       "      <td>Elastic Cloud Infrastructure: Scaling and Auto...</td>\n",
       "      <td>Getting Started With Application Development</td>\n",
       "      <td>Google Cloud Platform Big Data and Machine Lea...</td>\n",
       "      <td>Essential Cloud Infrastructure: Foundation</td>\n",
       "      <td>Elastic Cloud Infrastructure: Containers and S...</td>\n",
       "    </tr>\n",
       "    <tr>\n",
       "      <th>12</th>\n",
       "      <td>Hacking and Patching</td>\n",
       "      <td>12</td>\n",
       "      <td>Software Security</td>\n",
       "      <td>Cyber Threats and Attack Vectors</td>\n",
       "      <td>Design and Analyze Secure Networked Systems</td>\n",
       "      <td>Hardware Security</td>\n",
       "      <td>Linux Server Management and Security</td>\n",
       "    </tr>\n",
       "    <tr>\n",
       "      <th>13</th>\n",
       "      <td>Information Security: Context and Introduction</td>\n",
       "      <td>13</td>\n",
       "      <td>Cybersecurity and Its Ten Domains</td>\n",
       "      <td>Introduction to Cybersecurity for Business</td>\n",
       "      <td>Cyber Security in Manufacturing</td>\n",
       "      <td>Enterprise and Infrastructure Security</td>\n",
       "      <td>The Business of Cybersecurity Capstone</td>\n",
       "    </tr>\n",
       "    <tr>\n",
       "      <th>14</th>\n",
       "      <td>Elastic Cloud Infrastructure: Scaling and Auto...</td>\n",
       "      <td>14</td>\n",
       "      <td>Essential Cloud Infrastructure: Core Services</td>\n",
       "      <td>Essential Cloud Infrastructure: Foundation</td>\n",
       "      <td>Elastic Cloud Infrastructure: Containers and S...</td>\n",
       "      <td>Google Cloud Platform Big Data and Machine Lea...</td>\n",
       "      <td>Creating New BigQuery Datasets and Visualizing...</td>\n",
       "    </tr>\n",
       "    <tr>\n",
       "      <th>15</th>\n",
       "      <td>Network Protocols and Architecture</td>\n",
       "      <td>15</td>\n",
       "      <td>Internet Connection: How to Get Online?</td>\n",
       "      <td>Data Communications and Network Services</td>\n",
       "      <td>Introduction to Cisco Networking</td>\n",
       "      <td>Home Networking Basics</td>\n",
       "      <td>Essential Cloud Infrastructure: Foundation</td>\n",
       "    </tr>\n",
       "    <tr>\n",
       "      <th>16</th>\n",
       "      <td>Elastic Cloud Infrastructure: Containers and S...</td>\n",
       "      <td>16</td>\n",
       "      <td>Elastic Cloud Infrastructure: Scaling and Auto...</td>\n",
       "      <td>Google Cloud Platform Fundamentals: Core Infra...</td>\n",
       "      <td>Essential Cloud Infrastructure: Core Services</td>\n",
       "      <td>Develop and Deploy Windows Applications on Goo...</td>\n",
       "      <td>Essential Cloud Infrastructure: Foundation</td>\n",
       "    </tr>\n",
       "    <tr>\n",
       "      <th>17</th>\n",
       "      <td>Fundamentals of Network Communication</td>\n",
       "      <td>17</td>\n",
       "      <td>TCP/IP and Advanced Topics</td>\n",
       "      <td>Peer-to-Peer Protocols and Local Area Networks</td>\n",
       "      <td>Approximation Algorithms Part I</td>\n",
       "      <td>Introduction to Complex Analysis</td>\n",
       "      <td>Interfacing with the Raspberry Pi</td>\n",
       "    </tr>\n",
       "    <tr>\n",
       "      <th>18</th>\n",
       "      <td>Linux Server Management and Security</td>\n",
       "      <td>18</td>\n",
       "      <td>The Raspberry Pi Platform and Python Programmi...</td>\n",
       "      <td>Approximation Algorithms Part I</td>\n",
       "      <td>Introduction to Complex Analysis</td>\n",
       "      <td>Hacking and Patching</td>\n",
       "      <td>Functional Programming Principles in Scala</td>\n",
       "    </tr>\n",
       "    <tr>\n",
       "      <th>19</th>\n",
       "      <td>Cloud Computing Applications, Part 1: Cloud Sy...</td>\n",
       "      <td>19</td>\n",
       "      <td>Getting Started With Application Development</td>\n",
       "      <td>Google Cloud Platform Fundamentals: Core Infra...</td>\n",
       "      <td>Service-Oriented Architecture</td>\n",
       "      <td>Android App Components - Services, Local IPC, ...</td>\n",
       "      <td>Elastic Cloud Infrastructure: Containers and S...</td>\n",
       "    </tr>\n",
       "  </tbody>\n",
       "</table>\n",
       "</div>"
      ],
      "text/plain": [
       "                                                title  UID  \\\n",
       "0             Bitcoin and Cryptocurrency Technologies    0   \n",
       "1                                      Cryptography I    1   \n",
       "2   Google Cloud Platform Fundamentals: Core Infra...    2   \n",
       "3                  G Suite Administrator Fundamentals    3   \n",
       "4                                     Usable Security    4   \n",
       "5             Internet Connection: How to Get Online?    5   \n",
       "6                   Cybersecurity and Its Ten Domains    6   \n",
       "7                       Introduction to Cyber Attacks    7   \n",
       "8                              Introduction to TCP/IP    8   \n",
       "9          Essential Cloud Infrastructure: Foundation    9   \n",
       "10                                 Software Security    10   \n",
       "11      Essential Cloud Infrastructure: Core Services   11   \n",
       "12                               Hacking and Patching   12   \n",
       "13     Information Security: Context and Introduction   13   \n",
       "14  Elastic Cloud Infrastructure: Scaling and Auto...   14   \n",
       "15                 Network Protocols and Architecture   15   \n",
       "16  Elastic Cloud Infrastructure: Containers and S...   16   \n",
       "17              Fundamentals of Network Communication   17   \n",
       "18               Linux Server Management and Security   18   \n",
       "19  Cloud Computing Applications, Part 1: Cloud Sy...   19   \n",
       "\n",
       "                                             relate_1  \\\n",
       "0             Software Design Threats and Mitigations   \n",
       "1                                        Cryptography   \n",
       "2        Getting Started With Application Development   \n",
       "3                 Introduction to Systems Engineering   \n",
       "4                                 Data Science Ethics   \n",
       "5                  Network Protocols and Architecture   \n",
       "6      Information Security: Context and Introduction   \n",
       "7                        Cyber Attack Countermeasures   \n",
       "8                      Internet Emerging Technologies   \n",
       "9   Elastic Cloud Infrastructure: Scaling and Auto...   \n",
       "10                               Hacking and Patching   \n",
       "11  Elastic Cloud Infrastructure: Scaling and Auto...   \n",
       "12                                 Software Security    \n",
       "13                  Cybersecurity and Its Ten Domains   \n",
       "14      Essential Cloud Infrastructure: Core Services   \n",
       "15            Internet Connection: How to Get Online?   \n",
       "16  Elastic Cloud Infrastructure: Scaling and Auto...   \n",
       "17                         TCP/IP and Advanced Topics   \n",
       "18  The Raspberry Pi Platform and Python Programmi...   \n",
       "19       Getting Started With Application Development   \n",
       "\n",
       "                                             relate_2  \\\n",
       "0         Cryptographic Hash and Integrity Protection   \n",
       "1                              Symmetric Cryptography   \n",
       "2   Develop and Deploy Windows Applications on Goo...   \n",
       "3                                  The Unix Workbench   \n",
       "4                            Games, Sensors and Media   \n",
       "5            Data Communications and Network Services   \n",
       "6                   Cyber Security in Manufacturing     \n",
       "7     Real-Time Cyber Threat Detection and Mitigation   \n",
       "8                          TCP/IP and Advanced Topics   \n",
       "9   Google Cloud Platform Big Data and Machine Lea...   \n",
       "10                  Cybersecurity and Its Ten Domains   \n",
       "11       Getting Started With Application Development   \n",
       "12                   Cyber Threats and Attack Vectors   \n",
       "13         Introduction to Cybersecurity for Business   \n",
       "14         Essential Cloud Infrastructure: Foundation   \n",
       "15           Data Communications and Network Services   \n",
       "16  Google Cloud Platform Fundamentals: Core Infra...   \n",
       "17     Peer-to-Peer Protocols and Local Area Networks   \n",
       "18                    Approximation Algorithms Part I   \n",
       "19  Google Cloud Platform Fundamentals: Core Infra...   \n",
       "\n",
       "                                             relate_3  \\\n",
       "0              Process Mining: Data science in Action   \n",
       "1   Basic Cryptography and Programming with Crypto...   \n",
       "2   Elastic Cloud Infrastructure: Containers and S...   \n",
       "3              Econometrics: Methods and Applications   \n",
       "4   Privacy, Reputation, and Identity in a Digital...   \n",
       "5            Packet Switching Networks and Algorithms   \n",
       "6              The Business of Cybersecurity Capstone   \n",
       "7              Enterprise and Infrastructure Security   \n",
       "8            Cybersecurity and the Internet of Things   \n",
       "9       Essential Cloud Infrastructure: Core Services   \n",
       "10     Information Security: Context and Introduction   \n",
       "11  Google Cloud Platform Big Data and Machine Lea...   \n",
       "12        Design and Analyze Secure Networked Systems   \n",
       "13                  Cyber Security in Manufacturing     \n",
       "14  Elastic Cloud Infrastructure: Containers and S...   \n",
       "15                   Introduction to Cisco Networking   \n",
       "16      Essential Cloud Infrastructure: Core Services   \n",
       "17                    Approximation Algorithms Part I   \n",
       "18                   Introduction to Complex Analysis   \n",
       "19                      Service-Oriented Architecture   \n",
       "\n",
       "                                             relate_4  \\\n",
       "0                                    What is a Proof?   \n",
       "1          Asymmetric Cryptography and Key Management   \n",
       "2       Essential Cloud Infrastructure: Core Services   \n",
       "3   Front-End Web UI Frameworks and Tools: Bootstr...   \n",
       "4                           Introduction to UI Design   \n",
       "5                              Home Networking Basics   \n",
       "6          Introduction to Cybersecurity for Business   \n",
       "7                      Cybersecurity and the X-Factor   \n",
       "8               Fundamentals of Network Communication   \n",
       "9   Elastic Cloud Infrastructure: Containers and S...   \n",
       "10         Introduction to Cybersecurity for Business   \n",
       "11         Essential Cloud Infrastructure: Foundation   \n",
       "12                                  Hardware Security   \n",
       "13             Enterprise and Infrastructure Security   \n",
       "14  Google Cloud Platform Big Data and Machine Lea...   \n",
       "15                             Home Networking Basics   \n",
       "16  Develop and Deploy Windows Applications on Goo...   \n",
       "17                   Introduction to Complex Analysis   \n",
       "18                               Hacking and Patching   \n",
       "19  Android App Components - Services, Local IPC, ...   \n",
       "\n",
       "                                             relate_5  \n",
       "0   Build Your First Android App (Project-Centered...  \n",
       "1          Introduction to Cybersecurity for Business  \n",
       "2   Google Cloud Platform Fundamentals for AWS Pro...  \n",
       "3                               Introduction to Logic  \n",
       "4                          Securing Digital Democracy  \n",
       "5                    Introduction to Cisco Networking  \n",
       "6              Enterprise and Infrastructure Security  \n",
       "7      Information Security: Context and Introduction  \n",
       "8                       International Cyber Conflicts  \n",
       "9   Serverless Machine Learning with Tensorflow on...  \n",
       "10        Design and Analyze Secure Networked Systems  \n",
       "11  Elastic Cloud Infrastructure: Containers and S...  \n",
       "12               Linux Server Management and Security  \n",
       "13             The Business of Cybersecurity Capstone  \n",
       "14  Creating New BigQuery Datasets and Visualizing...  \n",
       "15         Essential Cloud Infrastructure: Foundation  \n",
       "16         Essential Cloud Infrastructure: Foundation  \n",
       "17                  Interfacing with the Raspberry Pi  \n",
       "18         Functional Programming Principles in Scala  \n",
       "19  Elastic Cloud Infrastructure: Containers and S...  "
      ]
     },
     "execution_count": 54,
     "metadata": {},
     "output_type": "execute_result"
    }
   ],
>>>>>>> d26a9ca20b5ab4ec4bc3d5be1c7061864ed90c0c
   "source": [
    "## build title & Top-5 relation\n",
    "\n",
    "def get_nth_relation(uid, n_th):\n",
    "    return data_detail.loc[np.argsort(result[uid])[::-1][n_th], :]['title']\n",
    "\n",
    "title_relation_df = pd.DataFrame(data_detail['title'])\n",
    "title_relation_df['UID'] = list(range(len(data_detail)))\n",
    "\n",
    "top_n = 5\n",
    "for i in range(1, top_n+1):\n",
    "    str_i = str(i)\n",
    "    title_relation_df['relate_'+str_i] = title_relation_df['UID'].apply(lambda x: get_nth_relation(x, i))\n",
    "\n",
    "title_relation_df.head(20)"
   ]
  },
  {
   "cell_type": "code",
<<<<<<< HEAD
   "execution_count": null,
   "metadata": {},
   "outputs": [],
=======
   "execution_count": 55,
   "metadata": {},
   "outputs": [
    {
     "name": "stdout",
     "output_type": "stream",
     "text": [
      "output OK!\n"
     ]
    }
   ],
>>>>>>> d26a9ca20b5ab4ec4bc3d5be1c7061864ed90c0c
   "source": [
    "## output\n",
    "title_relation_df.to_csv('title_relation_df.csv', index=None)\n",
    "print ('output OK!')\n",
    "\n",
    "## data put in Googld Drive: https://goo.gl/i1WhUH"
   ]
  },
  {
   "cell_type": "code",
   "execution_count": null,
   "metadata": {
    "collapsed": true
   },
   "outputs": [],
   "source": []
  },
  {
   "cell_type": "code",
   "execution_count": null,
   "metadata": {
    "collapsed": true
   },
   "outputs": [],
   "source": []
  },
  {
   "cell_type": "code",
   "execution_count": null,
   "metadata": {
    "collapsed": true
   },
   "outputs": [],
   "source": []
  },
  {
   "cell_type": "markdown",
   "metadata": {},
   "source": [
    "---"
   ]
  },
  {
   "cell_type": "code",
<<<<<<< HEAD
   "execution_count": null,
=======
   "execution_count": 36,
   "metadata": {
    "collapsed": true
   },
   "outputs": [],
   "source": [
    "# from sklearn.cluster import KMeans\n",
    "# from sklearn.decomposition import TruncatedSVD\n",
    "# from sklearn.feature_extraction.text import TfidfTransformer\n",
    "# from sklearn.pipeline import make_pipeline\n",
    "# from sklearn.preprocessing import Normalizer\n",
    "\n",
    "# svd = TruncatedSVD(100)\n",
    "# normalizer = Normalizer(copy=False)\n",
    "# lsa = make_pipeline(svd, normalizer)\n",
    "# X = lsa.fit_transform(document_matrix)\n",
    "# inertia_list = []  \n",
    "# for i in range(2,15):\n",
    "#     kmeans = KMeans(n_clusters=i).fit(X)\n",
    "#     inertia_list.append(kmeans.inertia_)\n",
    "\n",
    "# import matplotlib.pyplot as plt\n",
    "# plt.plot(range(2,15), inertia_list, linestyle='-', marker='o')\n",
    "# plt.show() "
   ]
  },
  {
   "cell_type": "code",
   "execution_count": 37,
>>>>>>> d26a9ca20b5ab4ec4bc3d5be1c7061864ed90c0c
   "metadata": {},
   "outputs": [],
   "source": [
    "# ![image.png](attachment:image.png)"
   ]
  },
  {
   "cell_type": "code",
   "execution_count": 38,
   "metadata": {
    "collapsed": true
   },
   "outputs": [],
   "source": [
    "#IsDuplicated = data_to_mysql.duplicated()"
   ]
  },
  {
   "cell_type": "code",
<<<<<<< HEAD
   "execution_count": null,
=======
   "execution_count": 39,
>>>>>>> d26a9ca20b5ab4ec4bc3d5be1c7061864ed90c0c
   "metadata": {},
   "outputs": [],
   "source": [
    "# duplicate_course=0\n",
    "# for i in range(len(data_to_mysql)):\n",
    "#     if IsDuplicated[i] == True:\n",
    "#         duplicate_course=duplicate_course+1\n",
    "#         #print(i)\n",
    "# print(duplicate_course)"
   ]
  },
  {
   "cell_type": "code",
<<<<<<< HEAD
   "execution_count": null,
   "metadata": {},
=======
   "execution_count": 40,
   "metadata": {
    "collapsed": true
   },
>>>>>>> d26a9ca20b5ab4ec4bc3d5be1c7061864ed90c0c
   "outputs": [],
   "source": [
    "#data = data_to_mysql.drop_duplicates()"
   ]
  },
  {
   "cell_type": "code",
<<<<<<< HEAD
   "execution_count": null,
   "metadata": {},
=======
   "execution_count": 41,
   "metadata": {
    "collapsed": true
   },
>>>>>>> d26a9ca20b5ab4ec4bc3d5be1c7061864ed90c0c
   "outputs": [],
   "source": [
    "#data_to_mysql.head()"
   ]
  },
  {
   "cell_type": "markdown",
   "metadata": {},
   "source": [
    "### --------------------------------------------------------------------------------"
   ]
  },
  {
   "cell_type": "code",
<<<<<<< HEAD
   "execution_count": null,
   "metadata": {},
=======
   "execution_count": 42,
   "metadata": {
    "collapsed": true
   },
>>>>>>> d26a9ca20b5ab4ec4bc3d5be1c7061864ed90c0c
   "outputs": [],
   "source": [
    "### Testing"
   ]
  },
  {
   "cell_type": "code",
<<<<<<< HEAD
   "execution_count": null,
   "metadata": {},
=======
   "execution_count": 43,
   "metadata": {
    "collapsed": true
   },
>>>>>>> d26a9ca20b5ab4ec4bc3d5be1c7061864ed90c0c
   "outputs": [],
   "source": [
    "# v=[]\n",
    "# for n in range(len(all_data)):\n",
    "#     for j in range(len(all_data[n]['week_data'])):     \n",
    "#         v.append(list((all_data[n]['week_data'][j]).values())[0])\n",
    "#         #a.append(pd.Series(v).str.cat(sep='')) "
   ]
  },
  {
   "cell_type": "code",
<<<<<<< HEAD
   "execution_count": null,
   "metadata": {},
=======
   "execution_count": 44,
   "metadata": {
    "collapsed": true
   },
>>>>>>> d26a9ca20b5ab4ec4bc3d5be1c7061864ed90c0c
   "outputs": [],
   "source": [
    "# v= pd.Series(v).str.cat(sep='')"
   ]
  },
  {
   "cell_type": "code",
   "execution_count": null,
   "metadata": {
    "collapsed": true
   },
   "outputs": [],
   "source": []
  }
 ],
 "metadata": {
  "anaconda-cloud": {},
  "kernelspec": {
   "display_name": "Python 3",
   "language": "python",
   "name": "python3"
  },
  "language_info": {
   "codemirror_mode": {
    "name": "ipython",
    "version": 3
   },
   "file_extension": ".py",
   "mimetype": "text/x-python",
   "name": "python",
   "nbconvert_exporter": "python",
   "pygments_lexer": "ipython3",
   "version": "3.5.4"
  }
 },
 "nbformat": 4,
 "nbformat_minor": 2
}

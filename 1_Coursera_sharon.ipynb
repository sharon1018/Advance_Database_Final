{
 "cells": [
  {
   "cell_type": "code",
   "execution_count": 21,
   "metadata": {
    "collapsed": true
   },
   "outputs": [],
   "source": [
    "import logging\n",
    "import collections\n",
    "logging.root.handlers = []  # Jupyter messes up logging so needs a reset\n",
    "logging.basicConfig(format='%(asctime)s : %(levelname)s : %(message)s', level=logging.INFO)\n",
    "from smart_open import smart_open \n",
    "import pandas as pd\n",
    "import numpy as np\n",
    "from numpy import random\n",
    "from collections import Counter\n",
    "import heapq #check n largest\n",
    "import json\n",
    "import warnings\n",
    "from sqlalchemy import create_engine "
   ]
  },
  {
   "cell_type": "code",
   "execution_count": 91,
   "metadata": {
    "collapsed": true
   },
   "outputs": [],
   "source": [
    "bath_path = r'./'\n",
    "\n",
    "computer_security_and_networks = json.load(open(bath_path + r'computer-security-and-networks.json', encoding='utf8'))\n",
    "algorithms = json.load(open(bath_path + r'algorithms.json', encoding='utf8'))\n",
    "cloud_computing = json.load(open(bath_path + r'cloud-computing.json', encoding='utf8'))\n",
    "data_management = json.load(open(bath_path + r'data-management.json', encoding='utf8'))\n",
    "design_and_product = json.load(open(bath_path + r'design-and-product.json', encoding='utf8'))\n",
    "electrical_engineering = json.load(open(bath_path + r'electrical-engineering.json', encoding='utf8'))\n",
    "math_and_logic = json.load(open(bath_path + r'math-and-logic.json', encoding='utf8'))\n",
    "mobile_and_web_development = json.load(open(bath_path + r'mobile-and-web-development.json', encoding='utf8'))\n",
    "networking = json.load(open(bath_path + r'networking.json', encoding='utf8'))\n",
    "probability_and_statistics = json.load(open(bath_path + r'probability-and-statistics.json', encoding='utf8'))\n",
    "security = json.load(open(bath_path + r'security.json', encoding='utf8'))\n",
    "machine_learning = json.load(open(bath_path + r'machine-learning.json', encoding='utf8'))\n",
    "data_analysis = json.load(open(bath_path + r'data-analysis.json', encoding='utf8'))\n",
    "software_development = json.load(open(bath_path + r'software-development.json', encoding='utf8'))\n",
    "\n",
    "all_data = computer_security_and_networks + \\\n",
    "algorithms + \\\n",
    "cloud_computing + \\\n",
    "data_management + \\\n",
    "design_and_product + \\\n",
    "electrical_engineering + \\\n",
    "math_and_logic + \\\n",
    "mobile_and_web_development + \\\n",
    "networking + \\\n",
    "probability_and_statistics + \\\n",
    "security + \\\n",
    "machine_learning + \\\n",
    "data_analysis + \\\n",
    "software_development\n"
   ]
  },
  {
   "cell_type": "code",
   "execution_count": 92,
   "metadata": {},
   "outputs": [
    {
     "data": {
      "text/plain": [
       "881"
      ]
     },
     "execution_count": 92,
     "metadata": {},
     "output_type": "execute_result"
    }
   ],
   "source": [
    "len(all_data)"
   ]
  },
  {
   "cell_type": "code",
   "execution_count": 115,
   "metadata": {
    "collapsed": true
   },
   "outputs": [],
   "source": [
    "title=[]; week_data=[]; target_audience=[]; created_by=[]; teach_by=[]\n",
    "week_data_title=[]; course_info=[]; department=[]; week_data_desc=[]\n",
    "package_num=[];package_name=[]; level=[]; rating=[]; index=[]\n",
    "# teach_by, week_data: 多值\n",
    "for n in range(len(all_data)):\n",
    "    for i in range(len(all_data[n]['teach_by'])):\n",
    "            title.append(all_data[n]['title'])\n",
    "            target_audience.append(all_data[n]['target_audience'])\n",
    "            created_by.append(all_data[n]['created_by'])\n",
    "            course_info.append(all_data[n]['course_info'])\n",
    "            package_num.append(all_data[n]['package_num'])\n",
    "            package_name.append(all_data[n]['package_name'])\n",
    "            level.append(all_data[n]['level'])\n",
    "            rating.append(all_data[n]['rating']) \n",
    "            #index.append(j)\n",
    "        #multiple values\n",
    "            teach_by.append(list((all_data[n]['teach_by'][i].values()))[0])  \n",
    "            department.append(list((all_data[n]['teach_by'][i].values()))[1])\n",
    "#             week_data_title.append(list((all_data[n]['week_data'][j].values()))[0])\n",
    "#             week_data_desc.append(list((all_data[n]['week_data'][j].values()))[1]) "
   ]
  },
  {
   "cell_type": "code",
   "execution_count": 116,
   "metadata": {
    "collapsed": true
   },
   "outputs": [],
   "source": [
    "data = pd.DataFrame({'title': title,\n",
    "                    'target_audience': target_audience,\n",
    "                    'created_by' : created_by,  \n",
    "                    'course_info': course_info,\n",
    "                    'teach_by': teach_by,\n",
    "                     'department': department,\n",
    "                     'level': level,\n",
    "                     'rating': rating,\n",
    "                     'package_num': package_num,\n",
    "                     'package_name': package_name          \n",
    "                    },\n",
    "                    columns = ['title', 'course_info', 'target_audience', 'created_by','teach_by',\n",
    "                               'department','package_num','package_name', 'level','rating'])"
   ]
  },
  {
   "cell_type": "code",
   "execution_count": 123,
   "metadata": {},
   "outputs": [
    {
     "data": {
      "text/html": [
       "<div>\n",
       "<style scoped>\n",
       "    .dataframe tbody tr th:only-of-type {\n",
       "        vertical-align: middle;\n",
       "    }\n",
       "\n",
       "    .dataframe tbody tr th {\n",
       "        vertical-align: top;\n",
       "    }\n",
       "\n",
       "    .dataframe thead th {\n",
       "        text-align: right;\n",
       "    }\n",
       "</style>\n",
       "<table border=\"1\" class=\"dataframe\">\n",
       "  <thead>\n",
       "    <tr style=\"text-align: right;\">\n",
       "      <th></th>\n",
       "      <th>title</th>\n",
       "      <th>course_info</th>\n",
       "      <th>target_audience</th>\n",
       "      <th>created_by</th>\n",
       "      <th>teach_by</th>\n",
       "      <th>department</th>\n",
       "      <th>package_num</th>\n",
       "      <th>package_name</th>\n",
       "      <th>level</th>\n",
       "      <th>rating</th>\n",
       "    </tr>\n",
       "  </thead>\n",
       "  <tbody>\n",
       "    <tr>\n",
       "      <th>0</th>\n",
       "      <td>Bitcoin and Cryptocurrency Technologies</td>\n",
       "      <td>About this course: To really understand what i...</td>\n",
       "      <td>None</td>\n",
       "      <td>Princeton University</td>\n",
       "      <td>Arvind Narayanan</td>\n",
       "      <td>Computer Science</td>\n",
       "      <td>None</td>\n",
       "      <td>None</td>\n",
       "      <td>None</td>\n",
       "      <td>4.7</td>\n",
       "    </tr>\n",
       "    <tr>\n",
       "      <th>1</th>\n",
       "      <td>Cryptography I</td>\n",
       "      <td>About this course: Cryptography is an indispen...</td>\n",
       "      <td>None</td>\n",
       "      <td>Stanford University</td>\n",
       "      <td>Dan Boneh</td>\n",
       "      <td>Computer Science</td>\n",
       "      <td>None</td>\n",
       "      <td>None</td>\n",
       "      <td>None</td>\n",
       "      <td>4.8</td>\n",
       "    </tr>\n",
       "    <tr>\n",
       "      <th>2</th>\n",
       "      <td>Google Cloud Platform Fundamentals: Core Infra...</td>\n",
       "      <td>About this course: &lt;&lt;&lt; ATTENTION &gt;&gt;&gt; Learners ...</td>\n",
       "      <td>Who is this class for: This specialization is ...</td>\n",
       "      <td>Google Cloud</td>\n",
       "      <td>Google Cloud Training</td>\n",
       "      <td>None</td>\n",
       "      <td>1</td>\n",
       "      <td>Architecting with Google Cloud Platform Specia...</td>\n",
       "      <td>Intermediate</td>\n",
       "      <td>4.6</td>\n",
       "    </tr>\n",
       "    <tr>\n",
       "      <th>3</th>\n",
       "      <td>G Suite Administrator Fundamentals</td>\n",
       "      <td>About this course: G Suite Administrator Funda...</td>\n",
       "      <td>Who is this class for: This class is intended ...</td>\n",
       "      <td>Google Cloud</td>\n",
       "      <td>Google Cloud Training</td>\n",
       "      <td>None</td>\n",
       "      <td>None</td>\n",
       "      <td>None</td>\n",
       "      <td>Beginner</td>\n",
       "      <td>4.5</td>\n",
       "    </tr>\n",
       "    <tr>\n",
       "      <th>4</th>\n",
       "      <td>Usable Security</td>\n",
       "      <td>About this course: This course focuses on how ...</td>\n",
       "      <td>None</td>\n",
       "      <td>University of Maryland, College Park</td>\n",
       "      <td>Jennifer Golbeck</td>\n",
       "      <td>Human-Computer Interaction Lab</td>\n",
       "      <td>1</td>\n",
       "      <td>Cybersecurity Specialization</td>\n",
       "      <td>None</td>\n",
       "      <td>4.5</td>\n",
       "    </tr>\n",
       "  </tbody>\n",
       "</table>\n",
       "</div>"
      ],
      "text/plain": [
       "                                               title  \\\n",
       "0            Bitcoin and Cryptocurrency Technologies   \n",
       "1                                     Cryptography I   \n",
       "2  Google Cloud Platform Fundamentals: Core Infra...   \n",
       "3                 G Suite Administrator Fundamentals   \n",
       "4                                    Usable Security   \n",
       "\n",
       "                                         course_info  \\\n",
       "0  About this course: To really understand what i...   \n",
       "1  About this course: Cryptography is an indispen...   \n",
       "2  About this course: <<< ATTENTION >>> Learners ...   \n",
       "3  About this course: G Suite Administrator Funda...   \n",
       "4  About this course: This course focuses on how ...   \n",
       "\n",
       "                                     target_audience  \\\n",
       "0                                               None   \n",
       "1                                               None   \n",
       "2  Who is this class for: This specialization is ...   \n",
       "3  Who is this class for: This class is intended ...   \n",
       "4                                               None   \n",
       "\n",
       "                             created_by               teach_by  \\\n",
       "0                  Princeton University       Arvind Narayanan   \n",
       "1                   Stanford University              Dan Boneh   \n",
       "2                          Google Cloud  Google Cloud Training   \n",
       "3                          Google Cloud  Google Cloud Training   \n",
       "4  University of Maryland, College Park       Jennifer Golbeck   \n",
       "\n",
       "                       department package_num  \\\n",
       "0                Computer Science        None   \n",
       "1                Computer Science        None   \n",
       "2                            None           1   \n",
       "3                            None        None   \n",
       "4  Human-Computer Interaction Lab           1   \n",
       "\n",
       "                                        package_name         level rating  \n",
       "0                                               None          None    4.7  \n",
       "1                                               None          None    4.8  \n",
       "2  Architecting with Google Cloud Platform Specia...  Intermediate    4.6  \n",
       "3                                               None      Beginner    4.5  \n",
       "4                      Cybersecurity Specialization           None    4.5  "
      ]
     },
     "execution_count": 123,
     "metadata": {},
     "output_type": "execute_result"
    }
   ],
   "source": [
    "data.head()"
   ]
  },
  {
   "cell_type": "code",
   "execution_count": 98,
   "metadata": {},
   "outputs": [
    {
     "data": {
      "text/plain": [
       "623"
      ]
     },
     "execution_count": 98,
     "metadata": {},
     "output_type": "execute_result"
    }
   ],
   "source": [
    "len(data.title.unique())"
   ]
  },
  {
   "cell_type": "code",
   "execution_count": null,
   "metadata": {
    "collapsed": true
   },
   "outputs": [],
   "source": []
  },
  {
   "cell_type": "code",
   "execution_count": null,
   "metadata": {
    "collapsed": true
   },
   "outputs": [],
   "source": []
  },
  {
   "cell_type": "code",
   "execution_count": null,
   "metadata": {
    "collapsed": true
   },
   "outputs": [],
   "source": [
    "title=[]; week_data=[]; created_by=[]; teach_by=[]\n",
    "week_data_title=[]; course_info=[]; department=[]; week_data_desc=[]\n",
    "\n",
    "# teach_by, week_data: 多值\n",
    "for n in range(len(all_data)):\n",
    "    for i in range(len(all_data[n]['week_data'])):\n",
    "            title.append(all_data[n]['title'])\n",
    "            created_by.append(all_data[n]['created_by'])\n",
    "            course_info.append(all_data[n]['course_info'])\n",
    "            week_data_title.append(list((all_data[n]['week_data'][i].values()))[0])\n",
    "            week_data_desc.append(list((all_data[n]['week_data'][i].values()))[1]) "
   ]
  },
  {
   "cell_type": "code",
   "execution_count": 121,
   "metadata": {},
   "outputs": [
    {
     "data": {
      "text/plain": [
       "{'description': \"The second module 'TCP/IP Protocol' focuses on all protocol and functional aspects of the TCP and IP operations used in your PC/laptop/smartphone. The first lecture ‘TCP/IP 5 Layers & Operations’ provides an easy-to-understand description of how TCP/IP works in the Internet to transfer information, using a comparable example of how postal mail is delivered. The lectures ‘IPv4’ and ‘IPv6’ describe how the IPv4 and IPv6 protocols are structured and how they operate. In addition, the CIDR (Classless Inter-Domain Routing) notation as well as the IPv4 and IPv6 addresses and subnets are explained. Then the lectures on ‘UDP’ and ‘TCP’ describe how the port number works and how TCP conducts flow control and detects errors in the packets you received on your PC/laptop/smartphone.\",\n",
       " 'title': 'TCP/IP Protocol',\n",
       " 'video': ['2.1 OSI vs TCP/IP',\n",
       "  '2.2 TCP/IP Network Operations',\n",
       "  '2.3 TCP/IP Layers',\n",
       "  '2.4 TCP/IP Networking Functions',\n",
       "  '2.5 IPv4',\n",
       "  '2.6 IPv6',\n",
       "  '2.7 UDP',\n",
       "  '2.8 TCP',\n",
       "  'Practice Quiz for Module 2',\n",
       "  'TCP/IP Protocol']}"
      ]
     },
     "execution_count": 121,
     "metadata": {},
     "output_type": "execute_result"
    }
   ],
   "source": [
    "all_data[8]['week_data'][]"
   ]
  },
  {
   "cell_type": "code",
   "execution_count": null,
   "metadata": {
    "collapsed": true
   },
   "outputs": [],
   "source": []
  },
  {
   "cell_type": "code",
   "execution_count": null,
   "metadata": {
    "collapsed": true
   },
   "outputs": [],
   "source": []
  },
  {
   "cell_type": "code",
   "execution_count": null,
   "metadata": {
    "collapsed": true
   },
   "outputs": [],
   "source": []
  },
  {
   "cell_type": "code",
   "execution_count": 14,
   "metadata": {
    "collapsed": true
   },
   "outputs": [],
   "source": [
    "IsDuplicated = data_to_mysql.duplicated()"
   ]
  },
  {
   "cell_type": "code",
   "execution_count": 31,
   "metadata": {},
   "outputs": [
    {
     "name": "stdout",
     "output_type": "stream",
     "text": [
      "167\n"
     ]
    }
   ],
   "source": [
    "duplicate_course=0\n",
    "for i in range(len(data_to_mysql)):\n",
    "    if IsDuplicated[i] == True:\n",
    "        duplicate_course=duplicate_course+1\n",
    "        #print(i)\n",
    "print(duplicate_course)"
   ]
  },
  {
   "cell_type": "code",
   "execution_count": 30,
   "metadata": {
    "collapsed": true
   },
   "outputs": [],
   "source": [
    "#data = data_to_mysql.drop_duplicates()"
   ]
  },
  {
   "cell_type": "code",
   "execution_count": 31,
   "metadata": {
    "collapsed": true
   },
   "outputs": [],
   "source": [
    "#data_to_mysql.head()"
   ]
  },
  {
   "cell_type": "markdown",
   "metadata": {},
   "source": [
    "### --------------------------------------------------------------------------------"
   ]
  },
  {
   "cell_type": "code",
   "execution_count": 458,
   "metadata": {
    "collapsed": true
   },
   "outputs": [],
   "source": [
    "### Testing"
   ]
  },
  {
   "cell_type": "code",
   "execution_count": 464,
   "metadata": {
    "collapsed": true
   },
   "outputs": [],
   "source": [
    "v=[]\n",
    "for n in range(len(all_data)):\n",
    "    for j in range(len(all_data[n]['week_data'])):     \n",
    "        v.append(list((all_data[n]['week_data'][j]).values())[0])\n",
    "        #a.append(pd.Series(v).str.cat(sep='')) "
   ]
  },
  {
   "cell_type": "code",
   "execution_count": 385,
   "metadata": {
    "collapsed": true
   },
   "outputs": [],
   "source": [
    "v= pd.Series(v).str.cat(sep='')"
   ]
  },
  {
   "cell_type": "code",
   "execution_count": null,
   "metadata": {
    "collapsed": true
   },
   "outputs": [],
   "source": []
  },
  {
   "cell_type": "code",
   "execution_count": null,
   "metadata": {
    "collapsed": true
   },
   "outputs": [],
   "source": []
  }
 ],
 "metadata": {
  "anaconda-cloud": {},
  "kernelspec": {
   "display_name": "Python 3",
   "language": "python",
   "name": "python3"
  },
  "language_info": {
   "codemirror_mode": {
    "name": "ipython",
    "version": 3
   },
   "file_extension": ".py",
   "mimetype": "text/x-python",
   "name": "python",
   "nbconvert_exporter": "python",
   "pygments_lexer": "ipython3",
   "version": "3.5.2"
  }
 },
 "nbformat": 4,
 "nbformat_minor": 2
}
